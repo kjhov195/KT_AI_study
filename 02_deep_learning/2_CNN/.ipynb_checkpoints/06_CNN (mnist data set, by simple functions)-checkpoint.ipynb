{
 "cells": [
  {
   "cell_type": "code",
   "execution_count": 1,
   "metadata": {
    "scrolled": false
   },
   "outputs": [
    {
     "name": "stderr",
     "output_type": "stream",
     "text": [
      "/home/ktai17/anaconda3/lib/python3.6/site-packages/h5py/__init__.py:36: FutureWarning: Conversion of the second argument of issubdtype from `float` to `np.floating` is deprecated. In future, it will be treated as `np.float64 == np.dtype(float).type`.\n",
      "  from ._conv import register_converters as _register_converters\n"
     ]
    }
   ],
   "source": [
    "import tensorflow as tf\n",
    "import random\n",
    "import time"
   ]
  },
  {
   "cell_type": "code",
   "execution_count": 2,
   "metadata": {},
   "outputs": [],
   "source": [
    "from tensorflow.examples.tutorials.mnist import input_data"
   ]
  },
  {
   "cell_type": "code",
   "execution_count": 3,
   "metadata": {},
   "outputs": [],
   "source": [
    "tf.set_random_seed(777)"
   ]
  },
  {
   "cell_type": "code",
   "execution_count": 4,
   "metadata": {
    "scrolled": false
   },
   "outputs": [
    {
     "name": "stdout",
     "output_type": "stream",
     "text": [
      "Extracting MNIST_data/train-images-idx3-ubyte.gz\n",
      "Extracting MNIST_data/train-labels-idx1-ubyte.gz\n",
      "Extracting MNIST_data/t10k-images-idx3-ubyte.gz\n",
      "Extracting MNIST_data/t10k-labels-idx1-ubyte.gz\n"
     ]
    }
   ],
   "source": [
    "mnist = input_data.read_data_sets(\"MNIST_data/\", one_hot=True)"
   ]
  },
  {
   "cell_type": "code",
   "execution_count": 5,
   "metadata": {},
   "outputs": [
    {
     "data": {
      "text/plain": [
       "'\\n1. First Layer\\n1-1. Conv\\n'"
      ]
     },
     "execution_count": 5,
     "metadata": {},
     "output_type": "execute_result"
    }
   ],
   "source": [
    "'''\n",
    "1. First Layer\n",
    "1-1. Conv\n",
    "'''"
   ]
  },
  {
   "cell_type": "code",
   "execution_count": 6,
   "metadata": {},
   "outputs": [],
   "source": [
    "learning_rate = 0.001\n",
    "training_epochs = 15  # training 하는 단위.\n",
    "batch_size = 100      # 한 번에 몇개씩 가져오는가."
   ]
  },
  {
   "cell_type": "code",
   "execution_count": 7,
   "metadata": {},
   "outputs": [],
   "source": [
    "X = tf.placeholder(tf.float32, [None, 28*28])\n",
    "Y = tf.placeholder(tf.float32, [None, 10])\n",
    "\n",
    "X_img = tf.reshape(X, [-1, 28, 28, 1])"
   ]
  },
  {
   "cell_type": "code",
   "execution_count": null,
   "metadata": {},
   "outputs": [],
   "source": []
  },
  {
   "cell_type": "code",
   "execution_count": 8,
   "metadata": {},
   "outputs": [
    {
     "data": {
      "text/plain": [
       "'\\n간단한 function으로 해결해보자!\\n'"
      ]
     },
     "execution_count": 8,
     "metadata": {},
     "output_type": "execute_result"
    }
   ],
   "source": [
    "'''\n",
    "간단한 function으로 해결해보자!\n",
    "'''"
   ]
  },
  {
   "cell_type": "code",
   "execution_count": 9,
   "metadata": {},
   "outputs": [],
   "source": [
    "# Convolutional Layer #1\n",
    "conv1 = tf.layers.conv2d(inputs=X_img, filters=32, kernel_size=[3, 3], padding=\"SAME\", activation=tf.nn.relu)"
   ]
  },
  {
   "cell_type": "code",
   "execution_count": 10,
   "metadata": {},
   "outputs": [],
   "source": [
    "# Pooling layer #1\n",
    "pool1 = tf.layers.max_pooling2d(inputs=conv1, pool_size=[2,2], padding=\"SAME\", strides=2)\n",
    "dropout1 = tf.layers.dropout(inputs=pool1, rate=0.7, training=True)"
   ]
  },
  {
   "cell_type": "code",
   "execution_count": 11,
   "metadata": {},
   "outputs": [],
   "source": [
    "# Convolutional Layer #2\n",
    "conv2 = tf.layers.conv2d(inputs=dropout1, filters=64, kernel_size=[3, 3], padding=\"SAME\", activation=tf.nn.relu)"
   ]
  },
  {
   "cell_type": "code",
   "execution_count": 12,
   "metadata": {},
   "outputs": [],
   "source": [
    "# Pooling layer #2\n",
    "pool2 = tf.layers.max_pooling2d(inputs=conv2, pool_size=[2,2], padding=\"SAME\", strides=2)\n",
    "dropout2= tf.layers.dropout(inputs=pool2, rate=0.7, training=True)"
   ]
  },
  {
   "cell_type": "code",
   "execution_count": 13,
   "metadata": {},
   "outputs": [],
   "source": [
    "# Convolutional Layer #3\n",
    "conv3 = tf.layers.conv2d(inputs=dropout2, filters=128, kernel_size=[3, 3], padding=\"SAME\", activation=tf.nn.relu)"
   ]
  },
  {
   "cell_type": "code",
   "execution_count": 14,
   "metadata": {},
   "outputs": [],
   "source": [
    "# Pooling layer #3\n",
    "pool3 = tf.layers.max_pooling2d(inputs=conv3, pool_size=[2,2], padding=\"SAME\", strides=2)\n",
    "dropout3 = tf.layers.dropout(inputs=pool3, rate=0.7, training=True)"
   ]
  },
  {
   "cell_type": "code",
   "execution_count": 15,
   "metadata": {},
   "outputs": [],
   "source": [
    "# Dense layer(Fully connected layer) with Relu #4 \n",
    "# (128*4*4 -> 625 -> 10) \n",
    "flat=tf.reshape(dropout3, [-1, 4*4*128])        #X_img:28 -> layer1:14 -> layer2:7 ->layer3:3.5(rounding->4)\n",
    "dense4 = tf.layers.dense(inputs=flat, units=625, activation=tf.nn.relu)\n",
    "dropout4 = tf.layers.dropout(inputs=dense4, rate=0.5, training=True)"
   ]
  },
  {
   "cell_type": "code",
   "execution_count": null,
   "metadata": {},
   "outputs": [],
   "source": []
  },
  {
   "cell_type": "code",
   "execution_count": 16,
   "metadata": {},
   "outputs": [],
   "source": [
    "# Logits (no activation) Layer #5\n",
    "# Layler 5 Final Fc 625 inputs -> 10 outputs\n",
    "\n",
    "### Softmax"
   ]
  },
  {
   "cell_type": "code",
   "execution_count": 17,
   "metadata": {},
   "outputs": [],
   "source": [
    "logits = tf.layers.dense(inputs=dropout4, units=10)\n",
    "#activation function(relu)를 안쓰는 이유는 cost의 tf.nn.softmax에 softmax가 activation function으로 들어가있으므로!\n",
    "cost = tf.reduce_mean(tf.nn.softmax_cross_entropy_with_logits_v2(logits=logits, labels=Y))\n",
    "optimizer = tf.train.AdamOptimizer(learning_rate=learning_rate).minimize(cost)"
   ]
  },
  {
   "cell_type": "code",
   "execution_count": null,
   "metadata": {},
   "outputs": [],
   "source": []
  },
  {
   "cell_type": "code",
   "execution_count": 18,
   "metadata": {},
   "outputs": [],
   "source": [
    "### initialize\n",
    "sess=tf.Session()\n",
    "sess.run(tf.global_variables_initializer())"
   ]
  },
  {
   "cell_type": "code",
   "execution_count": 19,
   "metadata": {
    "scrolled": true
   },
   "outputs": [
    {
     "name": "stdout",
     "output_type": "stream",
     "text": [
      "Learning started. It takes sometime...\n",
      "Epoch: 0001 cost= 0.753265107\n",
      "Epoch: 0002 cost= 0.289651331\n",
      "Epoch: 0003 cost= 0.224066913\n",
      "Epoch: 0004 cost= 0.197165402\n",
      "Epoch: 0005 cost= 0.182579792\n",
      "Epoch: 0006 cost= 0.172054565\n",
      "Epoch: 0007 cost= 0.162309661\n",
      "Epoch: 0008 cost= 0.151177028\n",
      "Epoch: 0009 cost= 0.151854805\n",
      "Epoch: 0010 cost= 0.146061593\n",
      "Epoch: 0011 cost= 0.143056157\n",
      "Epoch: 0012 cost= 0.142107383\n",
      "Epoch: 0013 cost= 0.139654088\n",
      "Epoch: 0014 cost= 0.135824401\n",
      "Epoch: 0015 cost= 0.133702106\n",
      "Learning Finished!!!\n"
     ]
    }
   ],
   "source": [
    "### training model\n",
    "print('Learning started. It takes sometime...')\n",
    "t1 = time.time()\n",
    "for epoch in range(training_epochs):\n",
    "    avg_cost=0\n",
    "    total_batch = int(mnist.train.num_examples / batch_size)\n",
    "    \n",
    "    \n",
    "    for i in range(total_batch):\n",
    "        batch_xs, batch_ys = mnist.train.next_batch(batch_size)\n",
    "        feed_dict = {X: batch_xs, Y: batch_ys}\n",
    "        c, _ = sess.run([cost, optimizer], feed_dict=feed_dict)\n",
    "        avg_cost += c/total_batch\n",
    "        \n",
    "    print('Epoch:','%04d'%(epoch+1), 'cost=', '{:.9f}'.format(avg_cost))\n",
    "\n",
    "print('Learning Finished!!!')\n",
    "t2=time.time()"
   ]
  },
  {
   "cell_type": "code",
   "execution_count": null,
   "metadata": {},
   "outputs": [],
   "source": []
  },
  {
   "cell_type": "code",
   "execution_count": 20,
   "metadata": {},
   "outputs": [
    {
     "name": "stdout",
     "output_type": "stream",
     "text": [
      "Accuracy:  0.9607\n",
      "Running Time: 337.88442850112915\n"
     ]
    }
   ],
   "source": [
    "correction_prediction = tf.equal(tf.argmax(logits, 1), tf.argmax(Y, 1))\n",
    "accuracy = tf.reduce_mean(tf.cast(correction_prediction, tf.float32))\n",
    "\n",
    "print('Accuracy: ', sess.run(accuracy, feed_dict={X: mnist.test.images, Y: mnist.test.labels}))\n",
    "print('Running Time: '+str(t2-t1))"
   ]
  }
 ],
 "metadata": {
  "kernelspec": {
   "display_name": "Python 3",
   "language": "python",
   "name": "python3"
  },
  "language_info": {
   "codemirror_mode": {
    "name": "ipython",
    "version": 3
   },
   "file_extension": ".py",
   "mimetype": "text/x-python",
   "name": "python",
   "nbconvert_exporter": "python",
   "pygments_lexer": "ipython3",
   "version": "3.6.7"
  }
 },
 "nbformat": 4,
 "nbformat_minor": 2
}
