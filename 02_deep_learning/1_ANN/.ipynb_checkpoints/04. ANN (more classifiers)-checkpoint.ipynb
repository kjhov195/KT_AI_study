{
 "cells": [
  {
   "cell_type": "code",
   "execution_count": 1,
   "metadata": {},
   "outputs": [
    {
     "name": "stderr",
     "output_type": "stream",
     "text": [
      "C:\\Users\\YISS\\Anaconda3\\lib\\site-packages\\h5py\\__init__.py:36: FutureWarning: Conversion of the second argument of issubdtype from `float` to `np.floating` is deprecated. In future, it will be treated as `np.float64 == np.dtype(float).type`.\n",
      "  from ._conv import register_converters as _register_converters\n"
     ]
    }
   ],
   "source": [
    "import tensorflow as tf\n",
    "import numpy as np\n",
    "import pandas as pd"
   ]
  },
  {
   "cell_type": "code",
   "execution_count": 2,
   "metadata": {},
   "outputs": [
    {
     "data": {
      "text/plain": [
       "'\\nQ. check whether given datas are [0,0,1] or [0,1,0] or [1,0,0] respectively.\\n'"
      ]
     },
     "execution_count": 2,
     "metadata": {},
     "output_type": "execute_result"
    }
   ],
   "source": [
    "'''\n",
    "Q. check whether given datas are [0,0,1] or [0,1,0] or [1,0,0] respectively.\n",
    "'''"
   ]
  },
  {
   "cell_type": "code",
   "execution_count": 3,
   "metadata": {},
   "outputs": [],
   "source": [
    "x_data = [[1,2,1,1], [2,1,3,2], [3,1,3,4], [4,1,5,5], [1,7,5,5],[1,2,5,6],[1,6,6,6],[1,7,7,7]]\n",
    "y_data = [[0,0,1], [0,0,1], [0,0,1], [0,1,0], [0,1,0], [0,1,0], [1,0,0], [1,0,0]]"
   ]
  },
  {
   "cell_type": "code",
   "execution_count": 4,
   "metadata": {},
   "outputs": [],
   "source": [
    "n_in =4\n",
    "n_H1 =64\n",
    "n_H2 =64\n",
    "n_out=3\n",
    "\n",
    "X= tf.placeholder(tf.float32, shape=[None, n_in])\n",
    "Y= tf.placeholder(tf.float32, shape=[None, n_out])"
   ]
  },
  {
   "cell_type": "code",
   "execution_count": 5,
   "metadata": {},
   "outputs": [],
   "source": [
    "W1= tf.Variable(tf.random_normal([n_in, n_H1]), name='weight1')\n",
    "b1= tf.Variable(tf.random_normal([n_H1]), name='bias1')\n",
    "\n",
    "W2= tf.Variable(tf.random_normal([n_H1, n_H2]), name='weight2')\n",
    "b2= tf.Variable(tf.random_normal([n_H2]), name='bias2')\n",
    "\n",
    "W3= tf.Variable(tf.random_normal([n_H2, n_out]), name='weight3')\n",
    "b3= tf.Variable(tf.random_normal([n_out]), name='bias3')\n",
    "\n",
    "\n",
    "model1= tf.nn.softmax(tf.add(tf.matmul(X, W1), b1)) \n",
    "model2= tf.nn.softmax(tf.add(tf.matmul(model1, W2), b2)) \n",
    "model3= tf.add(tf.matmul(model2, W3), b3)\n",
    "#model3= tf.nn.softmax(tf.add(tf.matmul(model2, W3), b3)) 을 쓰지않는다.\n",
    "#이 cost함수에 이미 Activatino functino(이 경우, softmax)가 포함되어있으므로 cost에 softmax cross entropy with logits을 써야함\n",
    "\n",
    "#cost= tf.reduce_mean(tf.reduce_sum((-1)*Y*tf.log(model3), axis=1))\n",
    "cost= tf.reduce_mean(tf.nn.softmax_cross_entropy_with_logits_v2(logits=model3, labels=Y))\n",
    "train=tf.train.GradientDescentOptimizer(learning_rate=0.1).minimize(cost)"
   ]
  },
  {
   "cell_type": "code",
   "execution_count": null,
   "metadata": {
    "scrolled": true
   },
   "outputs": [
    {
     "name": "stdout",
     "output_type": "stream",
     "text": [
      "0 0.0\n"
     ]
    }
   ],
   "source": [
    "## training\n",
    "gpu_options = tf.GPUOptions(per_process_gpu_memory_fraction=0.333)\n",
    "\n",
    "with tf.Session(config=tf.ConfigProto(gpu_options=gpu_options)) as sess:\n",
    "    sess.run(tf.global_variables_initializer())\n",
    "    \n",
    "    for step in range(100001):\n",
    "        cost_val_, _=sess.run([cost, train], feed_dict={X:x_data, Y:y_data})\n",
    "        if step % 10000 == 0:\n",
    "            print(step, sess.run(cost, feed_dict={X:x_data, Y:y_data}))"
   ]
  },
  {
   "cell_type": "code",
   "execution_count": null,
   "metadata": {},
   "outputs": [],
   "source": [
    "testdata1=[1, 11, 7, 9]\n",
    "testdata2=[1, 3, 4, 3]\n",
    "testdata3=[1, 1, 0, 1]\n",
    "testdata =[testdata1, testdata2, testdata3] "
   ]
  },
  {
   "cell_type": "code",
   "execution_count": null,
   "metadata": {},
   "outputs": [],
   "source": [
    "with tf.Session() as sess:\n",
    "    sess.run(tf.global_variables_initializer())\n",
    "    \n",
    "    result=sess.run(model3, feed_dict={X: testdata})\n",
    "    print(result, sess.run(tf.argmax(result, 1))+1, \"번째\")"
   ]
  }
 ],
 "metadata": {
  "kernelspec": {
   "display_name": "Python 3",
   "language": "python",
   "name": "python3"
  },
  "language_info": {
   "codemirror_mode": {
    "name": "ipython",
    "version": 3
   },
   "file_extension": ".py",
   "mimetype": "text/x-python",
   "name": "python",
   "nbconvert_exporter": "python",
   "pygments_lexer": "ipython3",
   "version": "3.6.7"
  }
 },
 "nbformat": 4,
 "nbformat_minor": 2
}
