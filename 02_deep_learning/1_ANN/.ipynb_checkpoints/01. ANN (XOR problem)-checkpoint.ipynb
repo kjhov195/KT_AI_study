{
 "cells": [
  {
   "cell_type": "code",
   "execution_count": 1,
   "metadata": {},
   "outputs": [],
   "source": [
    "import tensorflow as tf\n",
    "import numpy as np\n",
    "import pandas as pd"
   ]
  },
  {
   "cell_type": "code",
   "execution_count": 2,
   "metadata": {},
   "outputs": [],
   "source": [
    "x_data = [[0,0], [1,0], [0,1], [1,1]]\n",
    "y_data = [[0], [1], [1], [0]]"
   ]
  },
  {
   "cell_type": "code",
   "execution_count": 3,
   "metadata": {},
   "outputs": [],
   "source": [
    "X= tf.placeholder(tf.float32, shape=[None, 2])\n",
    "Y= tf.placeholder(tf.float32, shape=[None, 1])"
   ]
  },
  {
   "cell_type": "code",
   "execution_count": 4,
   "metadata": {},
   "outputs": [],
   "source": [
    "W= tf.Variable(tf.random_normal([2, 1]), name='weight')\n",
    "b= tf.Variable(tf.random_normal([1]), name='bias')\n",
    "\n",
    "model= tf.add(tf.matmul(X, W), b) #linear regression\n",
    "model= tf.sigmoid(model) # Logistic(sigmoid)\n",
    "cost= tf.reduce_mean((-1)*Y*tf.log(model)+(-1)*(1-Y)*tf.log(1-model))\n",
    "\n",
    "train=tf.train.GradientDescentOptimizer(learning_rate=0.01).minimize(cost)\n",
    "\n",
    "prediction = tf.cast(model>0.5, dtype=tf.float32)\n",
    "accuracy= tf.reduce_mean(tf.cast(tf.equal(prediction, Y), dtype=tf.float32))"
   ]
  },
  {
   "cell_type": "code",
   "execution_count": 5,
   "metadata": {},
   "outputs": [],
   "source": [
    "sess= tf.Session()\n",
    "sess.run(tf.global_variables_initializer())"
   ]
  },
  {
   "cell_type": "markdown",
   "metadata": {},
   "source": [
    "### We can not solve XOR problem with logistic regression"
   ]
  },
  {
   "cell_type": "code",
   "execution_count": 6,
   "metadata": {
    "scrolled": true
   },
   "outputs": [
    {
     "name": "stdout",
     "output_type": "stream",
     "text": [
      "0 1.0387499\n",
      "200 0.79210746\n",
      "400 0.71713996\n",
      "600 0.6996423\n",
      "800 0.6956611\n",
      "1000 0.6945909\n",
      "1200 0.69417286\n",
      "1400 0.69393116\n",
      "1600 0.693759\n",
      "1800 0.6936277\n",
      "2000 0.69352543\n",
      "2200 0.6934452\n",
      "2400 0.6933823\n",
      "2600 0.6933329\n",
      "2800 0.693294\n",
      "3000 0.6932634\n",
      "3200 0.69323933\n",
      "3400 0.6932203\n",
      "3600 0.6932053\n",
      "3800 0.69319344\n",
      "4000 0.69318414\n",
      "4200 0.6931766\n",
      "4400 0.6931708\n",
      "4600 0.69316614\n",
      "4800 0.6931623\n",
      "5000 0.6931594\n",
      "5200 0.6931571\n",
      "5400 0.69315517\n",
      "5600 0.6931537\n",
      "5800 0.6931524\n",
      "6000 0.6931515\n",
      "6200 0.69315064\n",
      "6400 0.69315\n",
      "6600 0.6931495\n",
      "6800 0.69314903\n",
      "7000 0.69314873\n",
      "7200 0.6931485\n",
      "7400 0.69314826\n",
      "7600 0.6931481\n",
      "7800 0.6931479\n",
      "8000 0.6931478\n",
      "8200 0.69314766\n",
      "8400 0.69314754\n",
      "8600 0.6931476\n",
      "8800 0.6931475\n",
      "9000 0.6931475\n",
      "9200 0.6931474\n",
      "9400 0.6931473\n",
      "9600 0.6931473\n",
      "9800 0.6931473\n",
      "10000 0.6931473\n"
     ]
    }
   ],
   "source": [
    "## training\n",
    "\n",
    "for step in range(10001):\n",
    "    cost_val, _=sess.run([cost, train], feed_dict={X:x_data, Y:y_data})\n",
    "    if step % 200 == 0:\n",
    "        print(step, cost_val)"
   ]
  },
  {
   "cell_type": "code",
   "execution_count": 7,
   "metadata": {
    "scrolled": false
   },
   "outputs": [
    {
     "name": "stdout",
     "output_type": "stream",
     "text": [
      "\n",
      "Model:\n",
      " [[0.50033844]\n",
      " [0.5001756 ]\n",
      " [0.49993062]\n",
      " [0.49976778]] \n",
      "Correct:\n",
      "  [[1.]\n",
      " [1.]\n",
      " [0.]\n",
      " [0.]] \n",
      "Accuracy:\n",
      "  0.5\n"
     ]
    }
   ],
   "source": [
    "## testing (training set)\n",
    "\n",
    "h, c, a = sess.run([model, prediction, accuracy], feed_dict={X:x_data, Y:y_data})\n",
    "print(\"\\nModel:\\n\", h, \"\\nCorrect:\\n \", c, \"\\nAccuracy:\\n \", a)"
   ]
  }
 ],
 "metadata": {
  "kernelspec": {
   "display_name": "Python 3",
   "language": "python",
   "name": "python3"
  },
  "language_info": {
   "codemirror_mode": {
    "name": "ipython",
    "version": 3
   },
   "file_extension": ".py",
   "mimetype": "text/x-python",
   "name": "python",
   "nbconvert_exporter": "python",
   "pygments_lexer": "ipython3",
   "version": "3.6.7"
  }
 },
 "nbformat": 4,
 "nbformat_minor": 2
}
