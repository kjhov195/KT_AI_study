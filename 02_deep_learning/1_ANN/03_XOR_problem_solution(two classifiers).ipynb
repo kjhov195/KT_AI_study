{
 "cells": [
  {
   "cell_type": "code",
   "execution_count": 1,
   "metadata": {
    "scrolled": true
   },
   "outputs": [],
   "source": [
    "import tensorflow as tf\n",
    "import numpy as np\n",
    "import pandas as pd"
   ]
  },
  {
   "cell_type": "code",
   "execution_count": 2,
   "metadata": {},
   "outputs": [],
   "source": [
    "x_data = [[0,0], [1,0], [0,1], [1,1]]\n",
    "y_data = [[0], [1], [1], [0]]"
   ]
  },
  {
   "cell_type": "code",
   "execution_count": 3,
   "metadata": {},
   "outputs": [],
   "source": [
    "X= tf.placeholder(tf.float32, shape=[None, 2])\n",
    "Y= tf.placeholder(tf.float32, shape=[None, 1])"
   ]
  },
  {
   "cell_type": "code",
   "execution_count": 4,
   "metadata": {},
   "outputs": [],
   "source": [
    "W1= tf.Variable(tf.random_normal([2, 5]), name='weight')\n",
    "b1= tf.Variable(tf.random_normal([5]), name='bias')\n",
    "W2= tf.Variable(tf.random_normal([5, 1]), name='weight')\n",
    "b2= tf.Variable(tf.random_normal([1]), name='bias')\n",
    "\n",
    "#layer1\n",
    "model1= tf.sigmoid(tf.matmul(X, W1)+b1)\n",
    "#hypothesis\n",
    "model2= tf.sigmoid(tf.matmul(model1, W2)+b2)\n",
    "\n",
    "cost= tf.reduce_mean((-1)*Y*tf.log(model2)+(-1)*(1-Y)*tf.log(1-model2))\n",
    "train=tf.train.GradientDescentOptimizer(learning_rate=0.1).minimize(cost)\n",
    "\n",
    "prediction = tf.cast(model2>0.5, dtype=tf.float32)\n",
    "accuracy= tf.reduce_mean(tf.cast(tf.equal(prediction, Y), dtype=tf.float32))"
   ]
  },
  {
   "cell_type": "code",
   "execution_count": 5,
   "metadata": {},
   "outputs": [],
   "source": [
    "sess= tf.Session()\n",
    "sess.run(tf.global_variables_initializer())"
   ]
  },
  {
   "cell_type": "code",
   "execution_count": 6,
   "metadata": {
    "scrolled": true
   },
   "outputs": [
    {
     "name": "stdout",
     "output_type": "stream",
     "text": [
      "0 0.9192114\n",
      "2000 0.1527574\n",
      "4000 0.03551995\n",
      "6000 0.018489027\n",
      "8000 0.012261769\n",
      "10000 0.009102528\n",
      "12000 0.007209274\n",
      "14000 0.0059541087\n",
      "16000 0.005063521\n",
      "18000 0.004400113\n",
      "20000 0.0038874527\n",
      "22000 0.0034798128\n",
      "24000 0.0031481537\n",
      "26000 0.0028732133\n",
      "28000 0.0026417042\n",
      "30000 0.002444114\n",
      "32000 0.0022736336\n",
      "34000 0.0021250024\n",
      "36000 0.0019943689\n",
      "38000 0.0018785731\n",
      "40000 0.0017753686\n",
      "42000 0.0016827048\n",
      "44000 0.0015991\n",
      "46000 0.001523327\n",
      "48000 0.0014543236\n",
      "50000 0.0013911929\n",
      "52000 0.0013332911\n",
      "54000 0.0012799159\n",
      "56000 0.0012305888\n",
      "58000 0.0011848913\n",
      "60000 0.0011424643\n",
      "62000 0.0011028749\n",
      "64000 0.0010658986\n",
      "66000 0.0010313411\n",
      "68000 0.0009988742\n",
      "70000 0.0009684225\n",
      "72000 0.00093979214\n",
      "74000 0.00091277406\n",
      "76000 0.00088715926\n",
      "78000 0.00086285797\n",
      "80000 0.000840079\n",
      "82000 0.0008183598\n",
      "84000 0.0007976106\n",
      "86000 0.0007780852\n",
      "88000 0.00075929123\n",
      "90000 0.0007414075\n",
      "92000 0.0007243742\n",
      "94000 0.00070823624\n",
      "96000 0.0006925907\n",
      "98000 0.0006777361\n",
      "100000 0.0006632248\n"
     ]
    }
   ],
   "source": [
    "## training\n",
    "\n",
    "for step in range(100001):\n",
    "    cost_val, _=sess.run([cost, train], feed_dict={X:x_data, Y:y_data})\n",
    "    if step % 2000 == 0:\n",
    "        print(step, cost_val)"
   ]
  },
  {
   "cell_type": "code",
   "execution_count": 7,
   "metadata": {},
   "outputs": [
    {
     "name": "stdout",
     "output_type": "stream",
     "text": [
      "\n",
      "Model:\n",
      " [[4.4362847e-04]\n",
      " [9.9980396e-01]\n",
      " [9.9886096e-01]\n",
      " [8.7299285e-04]] \n",
      "Correct:\n",
      "  [[0.]\n",
      " [1.]\n",
      " [1.]\n",
      " [0.]] \n",
      "Accuracy:\n",
      "  1.0\n"
     ]
    }
   ],
   "source": [
    "'''\n",
    "Answer\n",
    "'''\n",
    "h, c, a = sess.run([model2, prediction, accuracy], feed_dict={X:x_data, Y:y_data})\n",
    "print(\"\\nModel:\\n\", h, \"\\nCorrect:\\n \", c, \"\\nAccuracy:\\n \", a)"
   ]
  }
 ],
 "metadata": {
  "kernelspec": {
   "display_name": "Python 3",
   "language": "python",
   "name": "python3"
  },
  "language_info": {
   "codemirror_mode": {
    "name": "ipython",
    "version": 3
   },
   "file_extension": ".py",
   "mimetype": "text/x-python",
   "name": "python",
   "nbconvert_exporter": "python",
   "pygments_lexer": "ipython3",
   "version": "3.6.7"
  }
 },
 "nbformat": 4,
 "nbformat_minor": 2
}
