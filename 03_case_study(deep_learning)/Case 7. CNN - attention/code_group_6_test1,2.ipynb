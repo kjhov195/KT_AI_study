{
 "cells": [
  {
   "cell_type": "code",
   "execution_count": 1,
   "metadata": {
    "scrolled": true
   },
   "outputs": [
    {
     "name": "stderr",
     "output_type": "stream",
     "text": [
      "/opt/conda/lib/python3.6/site-packages/h5py/__init__.py:36: FutureWarning: Conversion of the second argument of issubdtype from `float` to `np.floating` is deprecated. In future, it will be treated as `np.float64 == np.dtype(float).type`.\n",
      "  from ._conv import register_converters as _register_converters\n"
     ]
    }
   ],
   "source": [
    "import os, sys\n",
    "import numpy as np\n",
    "import tensorflow as tf\n",
    "import matplotlib.pylab as plt\n",
    "from sklearn.preprocessing import OneHotEncoder\n",
    "from sklearn.metrics import confusion_matrix\n",
    "from skimage.transform import resize\n",
    "from tensorflow.examples.tutorials.mnist import input_data\n",
    "%matplotlib inline"
   ]
  },
  {
   "cell_type": "code",
   "execution_count": 2,
   "metadata": {},
   "outputs": [
    {
     "data": {
      "text/plain": [
       "'/workspace/case_study_7'"
      ]
     },
     "execution_count": 2,
     "metadata": {},
     "output_type": "execute_result"
    }
   ],
   "source": [
    "import os\n",
    "os.getcwd()"
   ]
  },
  {
   "cell_type": "markdown",
   "metadata": {},
   "source": [
    "# DATA 설명 (MNIST, MNIST_CLUTTER)"
   ]
  },
  {
   "cell_type": "markdown",
   "metadata": {},
   "source": [
    "### mnist data"
   ]
  },
  {
   "cell_type": "code",
   "execution_count": 3,
   "metadata": {
    "scrolled": true
   },
   "outputs": [
    {
     "name": "stdout",
     "output_type": "stream",
     "text": [
      "WARNING:tensorflow:From <ipython-input-3-60f80be280b6>:1: read_data_sets (from tensorflow.contrib.learn.python.learn.datasets.mnist) is deprecated and will be removed in a future version.\n",
      "Instructions for updating:\n",
      "Please use alternatives such as official/mnist/dataset.py from tensorflow/models.\n",
      "WARNING:tensorflow:From /opt/conda/lib/python3.6/site-packages/tensorflow/contrib/learn/python/learn/datasets/mnist.py:260: maybe_download (from tensorflow.contrib.learn.python.learn.datasets.base) is deprecated and will be removed in a future version.\n",
      "Instructions for updating:\n",
      "Please write your own downloading logic.\n",
      "WARNING:tensorflow:From /opt/conda/lib/python3.6/site-packages/tensorflow/contrib/learn/python/learn/datasets/mnist.py:262: extract_images (from tensorflow.contrib.learn.python.learn.datasets.mnist) is deprecated and will be removed in a future version.\n",
      "Instructions for updating:\n",
      "Please use tf.data to implement this functionality.\n",
      "Extracting ./MNIST_data/train-images-idx3-ubyte.gz\n",
      "WARNING:tensorflow:From /opt/conda/lib/python3.6/site-packages/tensorflow/contrib/learn/python/learn/datasets/mnist.py:267: extract_labels (from tensorflow.contrib.learn.python.learn.datasets.mnist) is deprecated and will be removed in a future version.\n",
      "Instructions for updating:\n",
      "Please use tf.data to implement this functionality.\n",
      "Extracting ./MNIST_data/train-labels-idx1-ubyte.gz\n",
      "WARNING:tensorflow:From /opt/conda/lib/python3.6/site-packages/tensorflow/contrib/learn/python/learn/datasets/mnist.py:110: dense_to_one_hot (from tensorflow.contrib.learn.python.learn.datasets.mnist) is deprecated and will be removed in a future version.\n",
      "Instructions for updating:\n",
      "Please use tf.one_hot on tensors.\n",
      "Extracting ./MNIST_data/t10k-images-idx3-ubyte.gz\n",
      "Extracting ./MNIST_data/t10k-labels-idx1-ubyte.gz\n",
      "WARNING:tensorflow:From /opt/conda/lib/python3.6/site-packages/tensorflow/contrib/learn/python/learn/datasets/mnist.py:290: DataSet.__init__ (from tensorflow.contrib.learn.python.learn.datasets.mnist) is deprecated and will be removed in a future version.\n",
      "Instructions for updating:\n",
      "Please use alternatives such as official/mnist/dataset.py from tensorflow/models.\n"
     ]
    }
   ],
   "source": [
    "mnist_data = input_data.read_data_sets(\"./MNIST_data/\", one_hot=True)"
   ]
  },
  {
   "cell_type": "code",
   "execution_count": 4,
   "metadata": {},
   "outputs": [
    {
     "data": {
      "text/plain": [
       "(55000, 784)"
      ]
     },
     "execution_count": 4,
     "metadata": {},
     "output_type": "execute_result"
    }
   ],
   "source": [
    "mnist_data.train.images.shape #-> 55000개의 픽셀 정보 데이터(28x28=784개)."
   ]
  },
  {
   "cell_type": "code",
   "execution_count": 5,
   "metadata": {},
   "outputs": [
    {
     "data": {
      "text/plain": [
       "(55000, 10)"
      ]
     },
     "execution_count": 5,
     "metadata": {},
     "output_type": "execute_result"
    }
   ],
   "source": [
    "mnist_data.train.labels.shape #-> 55000개의 숫자 데이터(각각 1개의 숫자)가 들어가있음."
   ]
  },
  {
   "cell_type": "code",
   "execution_count": 6,
   "metadata": {
    "scrolled": false
   },
   "outputs": [
    {
     "data": {
      "text/plain": [
       "(5000, 784)"
      ]
     },
     "execution_count": 6,
     "metadata": {},
     "output_type": "execute_result"
    }
   ],
   "source": [
    "mnist_data.validation.images.shape #-> 5000개의 픽셀 정보 데이터(28x28=784개)."
   ]
  },
  {
   "cell_type": "code",
   "execution_count": 7,
   "metadata": {},
   "outputs": [
    {
     "data": {
      "text/plain": [
       "(5000, 10)"
      ]
     },
     "execution_count": 7,
     "metadata": {},
     "output_type": "execute_result"
    }
   ],
   "source": [
    "mnist_data.validation.labels.shape #-> 5000개의 숫자 데이터(각각 1개의 숫자)가 들어가있음."
   ]
  },
  {
   "cell_type": "code",
   "execution_count": 8,
   "metadata": {},
   "outputs": [
    {
     "data": {
      "text/plain": [
       "(10000, 784)"
      ]
     },
     "execution_count": 8,
     "metadata": {},
     "output_type": "execute_result"
    }
   ],
   "source": [
    "mnist_data.test.images.shape #-> 10000개의 픽셀 정보 데이터(28x28=784개)."
   ]
  },
  {
   "cell_type": "code",
   "execution_count": 9,
   "metadata": {},
   "outputs": [
    {
     "data": {
      "text/plain": [
       "(10000, 10)"
      ]
     },
     "execution_count": 9,
     "metadata": {},
     "output_type": "execute_result"
    }
   ],
   "source": [
    "mnist_data.test.labels.shape #-> 10000개의 숫자 데이터(각각 1개의 숫자)가 들어가있음."
   ]
  },
  {
   "cell_type": "markdown",
   "metadata": {},
   "source": [
    "### mnist_clutter data"
   ]
  },
  {
   "cell_type": "code",
   "execution_count": 10,
   "metadata": {
    "scrolled": true
   },
   "outputs": [],
   "source": [
    "mnist = np.load('./mnist_sequence1_sample_5distortions5x5.npz')"
   ]
  },
  {
   "cell_type": "code",
   "execution_count": 11,
   "metadata": {
    "scrolled": true
   },
   "outputs": [
    {
     "data": {
      "text/plain": [
       "(10000, 1600)"
      ]
     },
     "execution_count": 11,
     "metadata": {},
     "output_type": "execute_result"
    }
   ],
   "source": [
    "mnist['X_train'].shape #-> 10000개의 픽셀 정보 데이터(40x40=1600개)."
   ]
  },
  {
   "cell_type": "code",
   "execution_count": 12,
   "metadata": {},
   "outputs": [
    {
     "data": {
      "text/plain": [
       "(10000, 1)"
      ]
     },
     "execution_count": 12,
     "metadata": {},
     "output_type": "execute_result"
    }
   ],
   "source": [
    "mnist['y_train'].shape #-> 10000개의 숫자 데이터(각각 1개의 숫자)가 들어가있음."
   ]
  },
  {
   "cell_type": "code",
   "execution_count": 13,
   "metadata": {},
   "outputs": [
    {
     "data": {
      "text/plain": [
       "(1000, 1600)"
      ]
     },
     "execution_count": 13,
     "metadata": {},
     "output_type": "execute_result"
    }
   ],
   "source": [
    "mnist['X_valid'].shape #-> 1000개의 픽셀 정보 데이터(40x40=1600개)."
   ]
  },
  {
   "cell_type": "code",
   "execution_count": 14,
   "metadata": {
    "scrolled": true
   },
   "outputs": [
    {
     "data": {
      "text/plain": [
       "(1000, 1)"
      ]
     },
     "execution_count": 14,
     "metadata": {},
     "output_type": "execute_result"
    }
   ],
   "source": [
    "mnist['y_valid'].shape #-> 1000개의 숫자 데이터(각각 1개의 숫자)가 들어가있음."
   ]
  },
  {
   "cell_type": "code",
   "execution_count": 15,
   "metadata": {
    "scrolled": true
   },
   "outputs": [
    {
     "data": {
      "text/plain": [
       "(1000, 1600)"
      ]
     },
     "execution_count": 15,
     "metadata": {},
     "output_type": "execute_result"
    }
   ],
   "source": [
    "mnist['X_test'].shape #-> 1000개의 픽셀 정보 데이터(40x40=1600개)."
   ]
  },
  {
   "cell_type": "code",
   "execution_count": 16,
   "metadata": {},
   "outputs": [
    {
     "data": {
      "text/plain": [
       "(1000, 1)"
      ]
     },
     "execution_count": 16,
     "metadata": {},
     "output_type": "execute_result"
    }
   ],
   "source": [
    "mnist['y_test'].shape #-> 1000개의 숫자 데이터(각각 1개의 숫자)가 들어가있음."
   ]
  },
  {
   "cell_type": "markdown",
   "metadata": {},
   "source": [
    "# 1. mnist 데이터로 학습 후 CAM 결과 보기"
   ]
  },
  {
   "cell_type": "code",
   "execution_count": 17,
   "metadata": {},
   "outputs": [],
   "source": [
    "tr_x = mnist_data.train.images\n",
    "tr_y = mnist_data.train.labels\n",
    "val_x = mnist_data.validation.images\n",
    "val_y = mnist_data.validation.labels\n",
    "ts_x = mnist_data.test.images\n",
    "ts_y = mnist_data.test.labels"
   ]
  },
  {
   "cell_type": "code",
   "execution_count": 18,
   "metadata": {},
   "outputs": [
    {
     "name": "stdout",
     "output_type": "stream",
     "text": [
      "(55000, 10)\n",
      "(5000, 10)\n",
      "(10000, 10)\n",
      "[0. 0. 0. 0. 0. 0. 0. 1. 0. 0.]\n",
      "[0. 0. 0. 0. 0. 1. 0. 0. 0. 0.]\n",
      "[0. 0. 0. 0. 0. 0. 0. 1. 0. 0.]\n"
     ]
    }
   ],
   "source": [
    "print(tr_y.shape)\n",
    "print(val_y.shape)\n",
    "print(ts_y.shape)\n",
    "\n",
    "print(tr_y[0])\n",
    "print(val_y[0])\n",
    "print(ts_y[0])"
   ]
  },
  {
   "cell_type": "code",
   "execution_count": 19,
   "metadata": {},
   "outputs": [
    {
     "data": {
      "text/plain": [
       "'One-hot encoding해줄 필요가 없다.\\n# One-hot representation function\\ndef one_hot(label):\\n    enc = OneHotEncoder()\\n    enc.fit(label)\\n    res = enc.transform(label).toarray()\\n    return res\\n'"
      ]
     },
     "execution_count": 19,
     "metadata": {},
     "output_type": "execute_result"
    }
   ],
   "source": [
    "'''One-hot encoding해줄 필요가 없다.\n",
    "# One-hot representation function\n",
    "def one_hot(label):\n",
    "    enc = OneHotEncoder()\n",
    "    enc.fit(label)\n",
    "    res = enc.transform(label).toarray()\n",
    "    return res\n",
    "'''"
   ]
  },
  {
   "cell_type": "code",
   "execution_count": 20,
   "metadata": {},
   "outputs": [
    {
     "data": {
      "text/plain": [
       "'\\n# transform\\ntr_y = one_hot(tr_y)\\nval_y = one_hot(val_y)\\nts_y = one_hot(ts_y)\\n'"
      ]
     },
     "execution_count": 20,
     "metadata": {},
     "output_type": "execute_result"
    }
   ],
   "source": [
    "'''\n",
    "# transform\n",
    "tr_y = one_hot(tr_y)\n",
    "val_y = one_hot(val_y)\n",
    "ts_y = one_hot(ts_y)\n",
    "'''"
   ]
  },
  {
   "cell_type": "code",
   "execution_count": null,
   "metadata": {
    "scrolled": true
   },
   "outputs": [],
   "source": []
  },
  {
   "cell_type": "code",
   "execution_count": 21,
   "metadata": {},
   "outputs": [
    {
     "data": {
      "image/png": "[encoded data removed]",
      "text/plain": [
       "<matplotlib.figure.Figure at 0x7f716380ceb8>"
      ]
     },
     "metadata": {},
     "output_type": "display_data"
    }
   ],
   "source": [
    "# Visualize mnist cluster dataset\n",
    "tmp = tr_x.reshape(-1,28,28)\n",
    "indices = np.random.randint(0, high = tmp.shape[0], size = 8)\n",
    "fig = plt.figure(figsize = (15,6))\n",
    "fig.subplots_adjust(right=0.8)\n",
    "for i, index in enumerate(indices):\n",
    "    fig.add_subplot(2,4,i+1)\n",
    "    plt.imshow(tmp[index], cmap = 'gray')"
   ]
  },
  {
   "cell_type": "code",
   "execution_count": 22,
   "metadata": {},
   "outputs": [],
   "source": [
    "class CNN:\n",
    "    def __init__(self, activation_fn = tf.nn.relu,\n",
    "                 initializer = tf.contrib.slim.xavier_initializer_conv2d(),\n",
    "                 l2_scale = .001):\n",
    "        \n",
    "        with tf.variable_scope('input_layer'):\n",
    "##            self._x = tf.placeholder(dtype = tf.float32, shape = [None, 1600])\n",
    "            self._x = tf.placeholder(dtype = tf.float32, shape = [None, 784])\n",
    "##            self._ximg = tf.reshape(tensor = self._x, shape = [-1, 40, 40, 1])\n",
    "            self._ximg = tf.reshape(tensor = self._x, shape = [-1, 28, 28, 1])\n",
    "            self._y = tf.placeholder(dtype = tf.float32, shape = [None, 10])\n",
    "            self._training = tf.placeholder(dtype = tf.bool)\n",
    "            self._keep_prob = tf.placeholder(dtype = tf.float32)\n",
    "            \n",
    "        with tf.contrib.slim.arg_scope([tf.contrib.slim.conv2d], kernel_size = [3,3], padding = 'SAME',\n",
    "                                       weights_initializer = initializer,\n",
    "                                       weights_regularizer = tf.contrib.slim.l2_regularizer(scale = l2_scale),\n",
    "                                       stride = 1):\n",
    "        \n",
    "            with tf.variable_scope('conv_layer1'):\n",
    "                _conv = tf.contrib.slim.conv2d(inputs = self._ximg, num_outputs = 32)\n",
    "                _conv = tf.layers.batch_normalization(inputs = _conv, momentum = .9, training = self._training)\n",
    "                _relu = tf.nn.relu(features = _conv)\n",
    "            \n",
    "            with tf.variable_scope('conv_layer2'):\n",
    "                _conv = tf.contrib.slim.conv2d(inputs = _conv, num_outputs = 32)\n",
    "                _conv = tf.layers.batch_normalization(inputs = _conv, momentum = .9, training = self._training)\n",
    "                _relu = tf.nn.relu(features = _conv)\n",
    "            \n",
    "            with tf.variable_scope('max_pool1'):\n",
    "                _pool = tf.contrib.slim.max_pool2d(inputs = _relu, kernel_size = [2,2], stride = 2)\n",
    "            \n",
    "            with tf.variable_scope('conv_layer3'):\n",
    "                _conv = tf.contrib.slim.conv2d(inputs = _pool, num_outputs = 32)\n",
    "                _conv = tf.layers.batch_normalization(inputs = _conv, momentum = .9, training = self._training)   \n",
    "                _relu = tf.nn.relu(features = _conv)\n",
    "            \n",
    "            with tf.variable_scope('conv_layer4'):\n",
    "                _conv = tf.contrib.slim.conv2d(inputs = _relu, num_outputs = 32)\n",
    "                _conv = tf.layers.batch_normalization(inputs = _conv, momentum = .9, training = self._training)\n",
    "                _relu = tf.nn.relu(features = _conv)\n",
    "                \n",
    "            with tf.variable_scope('max_pool2'):\n",
    "                _pool = tf.contrib.slim.max_pool2d(inputs = _relu, kernel_size = [2,2], stride = 2)\n",
    "\n",
    "            with tf.variable_scope('conv_layer5'):\n",
    "                _conv = tf.contrib.slim.conv2d(inputs = _pool, num_outputs = 32)\n",
    "                _conv = tf.layers.batch_normalization(inputs = _conv, momentum = .9, training = self._training)\n",
    "                _relu = tf.nn.relu(features = _conv)\n",
    "            \n",
    "            with tf.variable_scope('conv_layer6'):\n",
    "                _conv = tf.contrib.slim.conv2d(inputs = _relu, num_outputs = 32)\n",
    "                _conv = tf.layers.batch_normalization(inputs = _conv, momentum = .9, training = self._training)\n",
    "                self._relu = tf.nn.relu(features = _conv)\n",
    "            \n",
    "            with tf.variable_scope('global_pool'):\n",
    "##                _pooled = tf.contrib.slim.avg_pool2d(inputs = self._relu, kernel_size = [10,10], stride = 10)\n",
    "                _pooled = tf.contrib.slim.avg_pool2d(inputs = self._relu, kernel_size = [7,7], stride = 10)\n",
    "                _pooled = tf.contrib.slim.flatten(inputs = _pooled)\n",
    "                _pooled = tf.contrib.slim.dropout(inputs = _pooled, keep_prob = self._keep_prob)\n",
    "                \n",
    "        with tf.variable_scope('output_layer'):\n",
    "            self._score = tf.contrib.slim.fully_connected(inputs = _pooled, num_outputs = 10, activation_fn = None,\n",
    "                                                          weights_initializer = tf.contrib.slim.xavier_initializer(uniform = False),\n",
    "                                                          weights_regularizer = tf.contrib.slim.l2_regularizer(scale=l2_scale))\n",
    "        with tf.variable_scope('loss'):\n",
    "            _ce_loss = tf.reduce_mean(tf.nn.softmax_cross_entropy_with_logits(labels = self._y, logits = self._score))\n",
    "            _reg_term = tf.reduce_sum(tf.get_collection(tf.GraphKeys.REGULARIZATION_LOSSES))\n",
    "            self._total_loss = _ce_loss + _reg_term\n",
    "                \n",
    "        self._update_ops = tf.get_collection(tf.GraphKeys.UPDATE_OPS)\n",
    "        \n",
    "        with tf.variable_scope('predict'):\n",
    "            self._prediction = tf.nn.softmax(logits = self._score)\n",
    "        \n",
    "    def predict(self, sess, x_data, training = False, keep_prob = 1.):\n",
    "        feed_predict = {self._x : x_data, self._training : training, self._keep_prob : keep_prob}\n",
    "        return sess.run(self._prediction, feed_dict = feed_predict)\n",
    "    \n",
    "    def extract_featuremap(self, sess, x_data, training = False, keep_prob = 1.):\n",
    "        feed_featuremap = {self._x : x_data, self._training : training, self._keep_prob : keep_prob}\n",
    "        return sess.run(self._relu, feed_dict = feed_featuremap)"
   ]
  },
  {
   "cell_type": "code",
   "execution_count": null,
   "metadata": {},
   "outputs": [],
   "source": []
  },
  {
   "cell_type": "code",
   "execution_count": 23,
   "metadata": {},
   "outputs": [],
   "source": [
    "class Solver:\n",
    "    def __init__(self, model, optimizer = tf.train.AdamOptimizer, var_list = None):\n",
    "        self._model = model\n",
    "        self._lr = tf.placeholder(dtype = tf.float32)\n",
    "        self._optimizer = optimizer(learning_rate = self._lr)\n",
    "        \n",
    "        # Solver class는 model class로부터 생성된 instance를 input으로 받음. model class에서 저장한 객체변수를 아래와 같이 활용\n",
    "        with tf.control_dependencies(self._model._update_ops):\n",
    "            self._training_op = self._optimizer.minimize(loss = self._model._total_loss, var_list = var_list)\n",
    "    \n",
    "    def train(self, sess, x_data, y_data, lr, training = True, keep_prob = .5):\n",
    "        feed_train = {self._model._x : x_data, self._model._y : y_data, self._lr : lr,\n",
    "                      self._model._training : training, self._model._keep_prob : keep_prob}\n",
    "        return sess.run(fetches = [self._training_op, self._model._total_loss], feed_dict = feed_train)\n",
    "            \n",
    "    def evaluate(self, sess, x_data, y_data, training = False, keep_prob = 1.):\n",
    "        feed_loss = {self._model._x : x_data, self._model._y : y_data, self._model._training : training,\n",
    "                     self._model._keep_prob : keep_prob}\n",
    "        return sess.run(fetches = self._model._total_loss, feed_dict = feed_loss)"
   ]
  },
  {
   "cell_type": "code",
   "execution_count": 24,
   "metadata": {},
   "outputs": [
    {
     "name": "stdout",
     "output_type": "stream",
     "text": [
      "WARNING:tensorflow:From <ipython-input-22-96775f0228a9>:67: softmax_cross_entropy_with_logits (from tensorflow.python.ops.nn_ops) is deprecated and will be removed in a future version.\n",
      "Instructions for updating:\n",
      "\n",
      "Future major versions of TensorFlow will allow gradients to flow\n",
      "into the labels input on backprop by default.\n",
      "\n",
      "See @{tf.nn.softmax_cross_entropy_with_logits_v2}.\n",
      "\n"
     ]
    }
   ],
   "source": [
    "sess = tf.Session()\n",
    "clutter_classifier = CNN()"
   ]
  },
  {
   "cell_type": "code",
   "execution_count": 25,
   "metadata": {},
   "outputs": [],
   "source": [
    "adam_solver = Solver(model = clutter_classifier)"
   ]
  },
  {
   "cell_type": "code",
   "execution_count": null,
   "metadata": {},
   "outputs": [],
   "source": []
  },
  {
   "cell_type": "code",
   "execution_count": 26,
   "metadata": {},
   "outputs": [],
   "source": [
    "# Hyper-parameters\n",
    "batch_size = 50\n",
    "n_epochs = 10\n",
    "tr_loss_history = []\n",
    "val_loss_history = []"
   ]
  },
  {
   "cell_type": "code",
   "execution_count": 27,
   "metadata": {},
   "outputs": [],
   "source": [
    "sess.run(tf.global_variables_initializer())"
   ]
  },
  {
   "cell_type": "code",
   "execution_count": 28,
   "metadata": {},
   "outputs": [
    {
     "name": "stdout",
     "output_type": "stream",
     "text": [
      "step :   0, tr_loss : 2.503, val_loss : 2.392\n",
      "step :  50, tr_loss : 1.550, val_loss : 1.909\n",
      "step : 100, tr_loss : 1.008, val_loss : 0.808\n",
      "step : 150, tr_loss : 0.805, val_loss : 0.559\n",
      "step : 200, tr_loss : 0.717, val_loss : 0.540\n",
      "step : 250, tr_loss : 0.570, val_loss : 0.376\n",
      "step : 300, tr_loss : 0.688, val_loss : 0.246\n",
      "step : 350, tr_loss : 0.546, val_loss : 0.242\n",
      "step : 400, tr_loss : 0.402, val_loss : 0.209\n",
      "step : 450, tr_loss : 0.512, val_loss : 0.250\n",
      "step : 500, tr_loss : 0.328, val_loss : 0.169\n",
      "step : 550, tr_loss : 0.452, val_loss : 0.160\n",
      "step : 600, tr_loss : 0.355, val_loss : 0.153\n",
      "step : 650, tr_loss : 0.398, val_loss : 0.214\n",
      "step : 700, tr_loss : 0.197, val_loss : 0.228\n",
      "step : 750, tr_loss : 0.380, val_loss : 0.186\n",
      "step : 800, tr_loss : 0.245, val_loss : 0.125\n",
      "step : 850, tr_loss : 0.261, val_loss : 0.164\n",
      "step : 900, tr_loss : 0.267, val_loss : 0.154\n",
      "step : 950, tr_loss : 0.197, val_loss : 0.209\n",
      "step : 1000, tr_loss : 0.276, val_loss : 0.111\n",
      "step : 1050, tr_loss : 0.179, val_loss : 0.237\n",
      "epoch :   0, tr_loss : 0.560, val_loss : 0.409\n",
      "step :   0, tr_loss : 0.322, val_loss : 0.233\n",
      "step :  50, tr_loss : 0.297, val_loss : 0.160\n",
      "step : 100, tr_loss : 0.197, val_loss : 0.106\n",
      "step : 150, tr_loss : 0.175, val_loss : 0.114\n",
      "step : 200, tr_loss : 0.232, val_loss : 0.128\n",
      "step : 250, tr_loss : 0.278, val_loss : 0.122\n",
      "step : 300, tr_loss : 0.144, val_loss : 0.186\n",
      "step : 350, tr_loss : 0.188, val_loss : 0.156\n",
      "step : 400, tr_loss : 0.200, val_loss : 0.109\n",
      "step : 450, tr_loss : 0.299, val_loss : 0.185\n",
      "step : 500, tr_loss : 0.217, val_loss : 0.131\n",
      "step : 550, tr_loss : 0.133, val_loss : 0.340\n",
      "step : 600, tr_loss : 0.275, val_loss : 0.131\n",
      "step : 650, tr_loss : 0.188, val_loss : 0.144\n",
      "step : 700, tr_loss : 0.214, val_loss : 0.123\n",
      "step : 750, tr_loss : 0.312, val_loss : 0.098\n",
      "step : 800, tr_loss : 0.262, val_loss : 0.159\n",
      "step : 850, tr_loss : 0.407, val_loss : 0.141\n",
      "step : 900, tr_loss : 0.243, val_loss : 0.137\n",
      "step : 950, tr_loss : 0.185, val_loss : 0.184\n",
      "step : 1000, tr_loss : 0.205, val_loss : 0.103\n",
      "step : 1050, tr_loss : 0.238, val_loss : 0.129\n",
      "epoch :   1, tr_loss : 0.247, val_loss : 0.149\n",
      "step :   0, tr_loss : 0.151, val_loss : 0.116\n",
      "step :  50, tr_loss : 0.189, val_loss : 0.158\n",
      "step : 100, tr_loss : 0.238, val_loss : 0.186\n",
      "step : 150, tr_loss : 0.132, val_loss : 0.179\n",
      "step : 200, tr_loss : 0.160, val_loss : 0.213\n",
      "step : 250, tr_loss : 0.340, val_loss : 0.161\n",
      "step : 300, tr_loss : 0.254, val_loss : 0.129\n",
      "step : 350, tr_loss : 0.224, val_loss : 0.112\n",
      "step : 400, tr_loss : 0.136, val_loss : 0.210\n",
      "step : 450, tr_loss : 0.188, val_loss : 0.179\n",
      "step : 500, tr_loss : 0.254, val_loss : 0.097\n",
      "step : 550, tr_loss : 0.134, val_loss : 0.216\n",
      "step : 600, tr_loss : 0.228, val_loss : 0.131\n",
      "step : 650, tr_loss : 0.208, val_loss : 0.130\n",
      "step : 700, tr_loss : 0.217, val_loss : 0.123\n",
      "step : 750, tr_loss : 0.205, val_loss : 0.125\n",
      "step : 800, tr_loss : 0.183, val_loss : 0.115\n",
      "step : 850, tr_loss : 0.219, val_loss : 0.192\n",
      "step : 900, tr_loss : 0.133, val_loss : 0.134\n",
      "step : 950, tr_loss : 0.198, val_loss : 0.136\n",
      "step : 1000, tr_loss : 0.206, val_loss : 0.118\n",
      "step : 1050, tr_loss : 0.354, val_loss : 0.137\n",
      "epoch :   2, tr_loss : 0.207, val_loss : 0.134\n",
      "step :   0, tr_loss : 0.148, val_loss : 0.151\n",
      "step :  50, tr_loss : 0.127, val_loss : 0.145\n",
      "step : 100, tr_loss : 0.131, val_loss : 0.089\n",
      "step : 150, tr_loss : 0.152, val_loss : 0.096\n",
      "step : 200, tr_loss : 0.156, val_loss : 0.164\n",
      "step : 250, tr_loss : 0.175, val_loss : 0.118\n",
      "step : 300, tr_loss : 0.176, val_loss : 0.096\n",
      "step : 350, tr_loss : 0.163, val_loss : 0.101\n",
      "step : 400, tr_loss : 0.128, val_loss : 0.187\n",
      "step : 450, tr_loss : 0.175, val_loss : 0.092\n",
      "step : 500, tr_loss : 0.257, val_loss : 0.319\n",
      "step : 550, tr_loss : 0.109, val_loss : 0.124\n",
      "step : 600, tr_loss : 0.171, val_loss : 0.176\n",
      "step : 650, tr_loss : 0.152, val_loss : 0.087\n",
      "step : 700, tr_loss : 0.125, val_loss : 0.107\n",
      "step : 750, tr_loss : 0.173, val_loss : 0.159\n",
      "step : 800, tr_loss : 0.184, val_loss : 0.132\n",
      "step : 850, tr_loss : 0.155, val_loss : 0.086\n",
      "step : 900, tr_loss : 0.198, val_loss : 0.224\n",
      "step : 950, tr_loss : 0.147, val_loss : 0.085\n",
      "step : 1000, tr_loss : 0.156, val_loss : 0.108\n",
      "step : 1050, tr_loss : 0.265, val_loss : 0.084\n",
      "epoch :   3, tr_loss : 0.185, val_loss : 0.123\n",
      "step :   0, tr_loss : 0.187, val_loss : 0.089\n",
      "step :  50, tr_loss : 0.144, val_loss : 0.122\n",
      "step : 100, tr_loss : 0.161, val_loss : 0.095\n",
      "step : 150, tr_loss : 0.123, val_loss : 0.084\n",
      "step : 200, tr_loss : 0.283, val_loss : 0.085\n",
      "step : 250, tr_loss : 0.180, val_loss : 0.151\n",
      "step : 300, tr_loss : 0.173, val_loss : 0.098\n",
      "step : 350, tr_loss : 0.144, val_loss : 0.089\n",
      "step : 400, tr_loss : 0.138, val_loss : 0.089\n",
      "step : 450, tr_loss : 0.125, val_loss : 0.087\n",
      "step : 500, tr_loss : 0.148, val_loss : 0.108\n",
      "step : 550, tr_loss : 0.100, val_loss : 0.086\n",
      "step : 600, tr_loss : 0.392, val_loss : 0.133\n",
      "step : 650, tr_loss : 0.276, val_loss : 0.101\n",
      "step : 700, tr_loss : 0.135, val_loss : 0.102\n",
      "step : 750, tr_loss : 0.412, val_loss : 0.089\n",
      "step : 800, tr_loss : 0.248, val_loss : 0.148\n",
      "step : 850, tr_loss : 0.190, val_loss : 0.083\n",
      "step : 900, tr_loss : 0.129, val_loss : 0.099\n",
      "step : 950, tr_loss : 0.119, val_loss : 0.154\n",
      "step : 1000, tr_loss : 0.110, val_loss : 0.093\n",
      "step : 1050, tr_loss : 0.112, val_loss : 0.085\n",
      "epoch :   4, tr_loss : 0.168, val_loss : 0.116\n",
      "step :   0, tr_loss : 0.275, val_loss : 0.088\n",
      "step :  50, tr_loss : 0.121, val_loss : 0.090\n",
      "step : 100, tr_loss : 0.136, val_loss : 0.222\n",
      "step : 150, tr_loss : 0.266, val_loss : 0.133\n",
      "step : 200, tr_loss : 0.198, val_loss : 0.125\n",
      "step : 250, tr_loss : 0.193, val_loss : 0.260\n",
      "step : 300, tr_loss : 0.157, val_loss : 0.178\n",
      "step : 350, tr_loss : 0.225, val_loss : 0.104\n",
      "step : 400, tr_loss : 0.136, val_loss : 0.090\n",
      "step : 450, tr_loss : 0.149, val_loss : 0.080\n",
      "step : 500, tr_loss : 0.143, val_loss : 0.077\n",
      "step : 550, tr_loss : 0.140, val_loss : 0.081\n",
      "step : 600, tr_loss : 0.159, val_loss : 0.078\n",
      "step : 650, tr_loss : 0.189, val_loss : 0.090\n",
      "step : 700, tr_loss : 0.168, val_loss : 0.082\n",
      "step : 750, tr_loss : 0.141, val_loss : 0.076\n",
      "step : 800, tr_loss : 0.246, val_loss : 0.077\n",
      "step : 850, tr_loss : 0.135, val_loss : 0.077\n",
      "step : 900, tr_loss : 0.169, val_loss : 0.109\n",
      "step : 950, tr_loss : 0.179, val_loss : 0.076\n",
      "step : 1000, tr_loss : 0.229, val_loss : 0.177\n",
      "step : 1050, tr_loss : 0.165, val_loss : 0.077\n",
      "epoch :   5, tr_loss : 0.160, val_loss : 0.109\n",
      "step :   0, tr_loss : 0.239, val_loss : 0.079\n",
      "step :  50, tr_loss : 0.196, val_loss : 0.080\n",
      "step : 100, tr_loss : 0.293, val_loss : 0.089\n",
      "step : 150, tr_loss : 0.090, val_loss : 0.080\n",
      "step : 200, tr_loss : 0.183, val_loss : 0.125\n",
      "step : 250, tr_loss : 0.203, val_loss : 0.078\n",
      "step : 300, tr_loss : 0.101, val_loss : 0.078\n",
      "step : 350, tr_loss : 0.090, val_loss : 0.087\n",
      "step : 400, tr_loss : 0.187, val_loss : 0.140\n",
      "step : 450, tr_loss : 0.111, val_loss : 0.074\n",
      "step : 500, tr_loss : 0.140, val_loss : 0.076\n",
      "step : 550, tr_loss : 0.115, val_loss : 0.114\n",
      "step : 600, tr_loss : 0.107, val_loss : 0.075\n",
      "step : 650, tr_loss : 0.126, val_loss : 0.074\n",
      "step : 700, tr_loss : 0.140, val_loss : 0.076\n",
      "step : 750, tr_loss : 0.139, val_loss : 0.081\n",
      "step : 800, tr_loss : 0.211, val_loss : 0.086\n",
      "step : 850, tr_loss : 0.408, val_loss : 0.107\n",
      "step : 900, tr_loss : 0.086, val_loss : 0.090\n",
      "step : 950, tr_loss : 0.179, val_loss : 0.081\n",
      "step : 1000, tr_loss : 0.108, val_loss : 0.089\n",
      "step : 1050, tr_loss : 0.167, val_loss : 0.100\n",
      "epoch :   6, tr_loss : 0.160, val_loss : 0.108\n",
      "step :   0, tr_loss : 0.098, val_loss : 0.140\n",
      "step :  50, tr_loss : 0.273, val_loss : 0.105\n",
      "step : 100, tr_loss : 0.307, val_loss : 0.259\n",
      "step : 150, tr_loss : 0.101, val_loss : 0.118\n",
      "step : 200, tr_loss : 0.088, val_loss : 0.125\n",
      "step : 250, tr_loss : 0.142, val_loss : 0.074\n",
      "step : 300, tr_loss : 0.158, val_loss : 0.077\n",
      "step : 350, tr_loss : 0.216, val_loss : 0.134\n",
      "step : 400, tr_loss : 0.123, val_loss : 0.075\n",
      "step : 450, tr_loss : 0.108, val_loss : 0.080\n",
      "step : 500, tr_loss : 0.154, val_loss : 0.078\n",
      "step : 550, tr_loss : 0.267, val_loss : 0.074\n",
      "step : 600, tr_loss : 0.119, val_loss : 0.072\n",
      "step : 650, tr_loss : 0.178, val_loss : 0.144\n",
      "step : 700, tr_loss : 0.097, val_loss : 0.114\n",
      "step : 750, tr_loss : 0.119, val_loss : 0.114\n",
      "step : 800, tr_loss : 0.390, val_loss : 0.127\n"
     ]
    },
    {
     "name": "stdout",
     "output_type": "stream",
     "text": [
      "step : 850, tr_loss : 0.109, val_loss : 0.072\n",
      "step : 900, tr_loss : 0.112, val_loss : 0.071\n",
      "step : 950, tr_loss : 0.194, val_loss : 0.113\n",
      "step : 1000, tr_loss : 0.108, val_loss : 0.198\n",
      "step : 1050, tr_loss : 0.228, val_loss : 0.112\n",
      "epoch :   7, tr_loss : 0.150, val_loss : 0.105\n",
      "step :   0, tr_loss : 0.197, val_loss : 0.176\n",
      "step :  50, tr_loss : 0.143, val_loss : 0.096\n",
      "step : 100, tr_loss : 0.426, val_loss : 0.073\n",
      "step : 150, tr_loss : 0.273, val_loss : 0.162\n",
      "step : 200, tr_loss : 0.119, val_loss : 0.097\n",
      "step : 250, tr_loss : 0.107, val_loss : 0.071\n",
      "step : 300, tr_loss : 0.113, val_loss : 0.072\n",
      "step : 350, tr_loss : 0.118, val_loss : 0.080\n",
      "step : 400, tr_loss : 0.104, val_loss : 0.074\n",
      "step : 450, tr_loss : 0.090, val_loss : 0.071\n",
      "step : 500, tr_loss : 0.189, val_loss : 0.088\n",
      "step : 550, tr_loss : 0.122, val_loss : 0.077\n",
      "step : 600, tr_loss : 0.202, val_loss : 0.076\n",
      "step : 650, tr_loss : 0.152, val_loss : 0.153\n",
      "step : 700, tr_loss : 0.111, val_loss : 0.073\n",
      "step : 750, tr_loss : 0.277, val_loss : 0.086\n",
      "step : 800, tr_loss : 0.157, val_loss : 0.094\n",
      "step : 850, tr_loss : 0.140, val_loss : 0.070\n",
      "step : 900, tr_loss : 0.215, val_loss : 0.173\n",
      "step : 950, tr_loss : 0.096, val_loss : 0.084\n",
      "step : 1000, tr_loss : 0.086, val_loss : 0.139\n",
      "step : 1050, tr_loss : 0.228, val_loss : 0.085\n",
      "epoch :   8, tr_loss : 0.148, val_loss : 0.101\n",
      "step :   0, tr_loss : 0.125, val_loss : 0.069\n",
      "step :  50, tr_loss : 0.154, val_loss : 0.103\n",
      "step : 100, tr_loss : 0.105, val_loss : 0.072\n",
      "step : 150, tr_loss : 0.114, val_loss : 0.079\n",
      "step : 200, tr_loss : 0.154, val_loss : 0.071\n",
      "step : 250, tr_loss : 0.142, val_loss : 0.125\n",
      "step : 300, tr_loss : 0.161, val_loss : 0.125\n",
      "step : 350, tr_loss : 0.107, val_loss : 0.123\n",
      "step : 400, tr_loss : 0.116, val_loss : 0.197\n",
      "step : 450, tr_loss : 0.251, val_loss : 0.187\n",
      "step : 500, tr_loss : 0.080, val_loss : 0.070\n",
      "step : 550, tr_loss : 0.122, val_loss : 0.244\n",
      "step : 600, tr_loss : 0.222, val_loss : 0.091\n",
      "step : 650, tr_loss : 0.129, val_loss : 0.109\n",
      "step : 700, tr_loss : 0.216, val_loss : 0.141\n",
      "step : 750, tr_loss : 0.096, val_loss : 0.071\n",
      "step : 800, tr_loss : 0.098, val_loss : 0.182\n",
      "step : 850, tr_loss : 0.141, val_loss : 0.071\n",
      "step : 900, tr_loss : 0.172, val_loss : 0.193\n",
      "step : 950, tr_loss : 0.110, val_loss : 0.068\n",
      "step : 1000, tr_loss : 0.237, val_loss : 0.067\n",
      "step : 1050, tr_loss : 0.176, val_loss : 0.071\n",
      "epoch :   9, tr_loss : 0.143, val_loss : 0.101\n"
     ]
    }
   ],
   "source": [
    "for epoch in range(n_epochs):\n",
    "    avg_tr_loss = 0\n",
    "    avg_val_loss = 0\n",
    "    total_batch = int(tr_x.shape[0] / batch_size)\n",
    "    \n",
    "    for step in range(total_batch):\n",
    "        tr_indices = np.random.choice(np.arange(tr_x.shape[0]), size = batch_size, replace=False)\n",
    "        val_indices = np.random.choice(np.arange(val_x.shape[0]), size = batch_size, replace=False)\n",
    "        batch_xs = tr_x[tr_indices]\n",
    "        batch_ys = tr_y[tr_indices]\n",
    "        val_xs = val_x[val_indices]\n",
    "        val_ys = val_y[val_indices]\n",
    "        _, tr_loss = adam_solver.train(sess = sess, x_data = batch_xs, y_data = batch_ys, lr = 1e-3)\n",
    "        val_loss = adam_solver.evaluate(sess = sess, x_data = val_xs, y_data = val_ys)\n",
    "\n",
    "        avg_tr_loss += tr_loss / total_batch\n",
    "        avg_val_loss += val_loss / total_batch\n",
    "        if step % 50 == 0:\n",
    "            print('step : {:3}, tr_loss : {:.3f}, val_loss : {:.3f}'.format(step, tr_loss, val_loss))\n",
    "\n",
    "    print('epoch : {:3}, tr_loss : {:.3f}, val_loss : {:.3f}'.format(epoch, avg_tr_loss, avg_val_loss))\n",
    "    tr_loss_history.append(avg_tr_loss)\n",
    "    val_loss_history.append(avg_val_loss)"
   ]
  },
  {
   "cell_type": "code",
   "execution_count": 29,
   "metadata": {
    "scrolled": true
   },
   "outputs": [
    {
     "data": {
      "text/plain": [
       "<matplotlib.legend.Legend at 0x7f715ed4f780>"
      ]
     },
     "execution_count": 29,
     "metadata": {},
     "output_type": "execute_result"
    },
    {
     "data": {
      "image/png": "[encoded data removed]",
      "text/plain": [
       "<matplotlib.figure.Figure at 0x7f715ed92e48>"
      ]
     },
     "metadata": {},
     "output_type": "display_data"
    }
   ],
   "source": [
    "plt.plot(tr_loss_history, label = 'tr_loss')\n",
    "plt.plot(val_loss_history, label = 'val_loss')\n",
    "plt.legend()"
   ]
  },
  {
   "cell_type": "code",
   "execution_count": 30,
   "metadata": {},
   "outputs": [],
   "source": [
    "hat = clutter_classifier.predict(sess = sess, x_data = ts_x)"
   ]
  },
  {
   "cell_type": "code",
   "execution_count": 31,
   "metadata": {},
   "outputs": [
    {
     "name": "stdout",
     "output_type": "stream",
     "text": [
      "Accuracy : 99.23%\n"
     ]
    }
   ],
   "source": [
    "print('Accuracy : {:.2%}'.format(np.mean(np.argmax(hat, axis = 1) == np.argmax(ts_y, axis = 1))))"
   ]
  },
  {
   "cell_type": "code",
   "execution_count": 32,
   "metadata": {},
   "outputs": [],
   "source": [
    "weights = sess.run(tf.get_collection(tf.GraphKeys.MODEL_VARIABLES, scope = 'output_layer')[0])\n",
    "def cam(featuremap, weights, pred_class):\n",
    "    pred_weights = weights[:,pred_class]\n",
    "    output = np.zeros(featuremap.shape[1:3])\n",
    "    \n",
    "    for channel in range(weights.shape[0]):\n",
    "        output += pred_weights[channel] * featuremap[0,:,:,channel] \n",
    "    output /= weights.shape[0]\n",
    "##    output = resize(output, output_shape = [40,40], mode = 'reflect')\n",
    "    output = resize(output, output_shape = [28,28], mode = 'reflect')\n",
    "    output = (output - np.min(output)) / (np.max(output) - np.min(output))\n",
    "    plt.imshow(output, cmap = 'jet', interpolation = 'bilinear')"
   ]
  },
  {
   "cell_type": "code",
   "execution_count": 33,
   "metadata": {},
   "outputs": [
    {
     "data": {
      "text/plain": [
       "Text(0.5,1,'3 is True label, 3 is prediction')"
      ]
     },
     "execution_count": 33,
     "metadata": {},
     "output_type": "execute_result"
    },
    {
     "data": {
      "image/png": "[encoded data removed]",
      "text/plain": [
       "<matplotlib.figure.Figure at 0x7f715ed24ef0>"
      ]
     },
     "metadata": {},
     "output_type": "display_data"
    }
   ],
   "source": [
    "target_index = np.random.choice(np.arange(ts_y.shape[0]), size = 1)\n",
    "hat = clutter_classifier.predict(sess = sess, x_data = ts_x[target_index])\n",
    "##plt.imshow(ts_x[target_index].reshape(40,40), cmap = 'gray')\n",
    "plt.imshow(ts_x[target_index].reshape(28,28), cmap = 'gray')\n",
    "plt.title('{} is True label, {} is prediction'.format(np.argmax(ts_y[target_index]),np.argmax(hat)))"
   ]
  },
  {
   "cell_type": "code",
   "execution_count": 34,
   "metadata": {},
   "outputs": [],
   "source": [
    "featuremap = clutter_classifier.extract_featuremap(sess = sess, x_data = ts_x[target_index])"
   ]
  },
  {
   "cell_type": "code",
   "execution_count": 35,
   "metadata": {},
   "outputs": [
    {
     "data": {
      "image/png": "[encoded data removed]",
      "text/plain": [
       "<matplotlib.figure.Figure at 0x7f715ed24710>"
      ]
     },
     "metadata": {},
     "output_type": "display_data"
    }
   ],
   "source": [
    "fig = plt.figure(figsize = (15, 6))\n",
    "fig.subplots_adjust(right = .8)\n",
    "for pred_class, pred_prob in enumerate(hat.flatten()):\n",
    "    fig.add_subplot(2,5, pred_class + 1)\n",
    "    cam(featuremap, weights, pred_class)\n",
    "    plt.title('prediction : {},\\n prob : {:.3f}'.format(pred_class, pred_prob))"
   ]
  },
  {
   "cell_type": "code",
   "execution_count": null,
   "metadata": {},
   "outputs": [],
   "source": []
  },
  {
   "cell_type": "markdown",
   "metadata": {},
   "source": [
    "# 2. 1번 모델에 mnist clutter 데이터로 CAM 결과 보기"
   ]
  },
  {
   "cell_type": "code",
   "execution_count": 36,
   "metadata": {},
   "outputs": [],
   "source": [
    "ts_x = mnist['X_test']\n",
    "ts_y = mnist['y_test']"
   ]
  },
  {
   "cell_type": "code",
   "execution_count": 37,
   "metadata": {},
   "outputs": [
    {
     "name": "stdout",
     "output_type": "stream",
     "text": [
      "(1000, 1600)\n",
      "(1000, 1)\n"
     ]
    }
   ],
   "source": [
    "print(ts_x.shape)\n",
    "print(ts_y.shape)"
   ]
  },
  {
   "cell_type": "code",
   "execution_count": 38,
   "metadata": {},
   "outputs": [
    {
     "name": "stdout",
     "output_type": "stream",
     "text": [
      "(784,)\n"
     ]
    }
   ],
   "source": [
    "delete_list = [0,1,2, 7, 12, 17, 22, 27, 32, 37,38,39]\n",
    "\n",
    "tmp_list = np.ndarray(shape=(1, 784))\n",
    "print(tmp_list[0].shape)"
   ]
  },
  {
   "cell_type": "code",
   "execution_count": 39,
   "metadata": {},
   "outputs": [
    {
     "name": "stdout",
     "output_type": "stream",
     "text": [
      "(1, 784) (1, 784)\n",
      "(2, 784) (1, 784)\n",
      "(3, 784) (1, 784)\n",
      "(4, 784) (1, 784)\n",
      "(5, 784) (1, 784)\n",
      "(6, 784) (1, 784)\n",
      "(7, 784) (1, 784)\n",
      "(8, 784) (1, 784)\n",
      "(9, 784) (1, 784)\n",
      "(10, 784) (1, 784)\n",
      "(11, 784) (1, 784)\n",
      "(12, 784) (1, 784)\n",
      "(13, 784) (1, 784)\n",
      "(14, 784) (1, 784)\n",
      "(15, 784) (1, 784)\n",
      "(16, 784) (1, 784)\n",
      "(17, 784) (1, 784)\n",
      "(18, 784) (1, 784)\n",
      "(19, 784) (1, 784)\n",
      "(20, 784) (1, 784)\n",
      "(21, 784) (1, 784)\n",
      "(22, 784) (1, 784)\n",
      "(23, 784) (1, 784)\n",
      "(24, 784) (1, 784)\n",
      "(25, 784) (1, 784)\n",
      "(26, 784) (1, 784)\n",
      "(27, 784) (1, 784)\n",
      "(28, 784) (1, 784)\n",
      "(29, 784) (1, 784)\n",
      "(30, 784) (1, 784)\n",
      "(31, 784) (1, 784)\n",
      "(32, 784) (1, 784)\n",
      "(33, 784) (1, 784)\n",
      "(34, 784) (1, 784)\n",
      "(35, 784) (1, 784)\n",
      "(36, 784) (1, 784)\n",
      "(37, 784) (1, 784)\n",
      "(38, 784) (1, 784)\n",
      "(39, 784) (1, 784)\n",
      "(40, 784) (1, 784)\n",
      "(41, 784) (1, 784)\n",
      "(42, 784) (1, 784)\n",
      "(43, 784) (1, 784)\n",
      "(44, 784) (1, 784)\n",
      "(45, 784) (1, 784)\n",
      "(46, 784) (1, 784)\n",
      "(47, 784) (1, 784)\n",
      "(48, 784) (1, 784)\n",
      "(49, 784) (1, 784)\n",
      "(50, 784) (1, 784)\n",
      "(51, 784) (1, 784)\n",
      "(52, 784) (1, 784)\n",
      "(53, 784) (1, 784)\n",
      "(54, 784) (1, 784)\n",
      "(55, 784) (1, 784)\n",
      "(56, 784) (1, 784)\n",
      "(57, 784) (1, 784)\n",
      "(58, 784) (1, 784)\n",
      "(59, 784) (1, 784)\n",
      "(60, 784) (1, 784)\n",
      "(61, 784) (1, 784)\n",
      "(62, 784) (1, 784)\n",
      "(63, 784) (1, 784)\n",
      "(64, 784) (1, 784)\n",
      "(65, 784) (1, 784)\n",
      "(66, 784) (1, 784)\n",
      "(67, 784) (1, 784)\n",
      "(68, 784) (1, 784)\n",
      "(69, 784) (1, 784)\n",
      "(70, 784) (1, 784)\n",
      "(71, 784) (1, 784)\n",
      "(72, 784) (1, 784)\n",
      "(73, 784) (1, 784)\n",
      "(74, 784) (1, 784)\n",
      "(75, 784) (1, 784)\n",
      "(76, 784) (1, 784)\n",
      "(77, 784) (1, 784)\n",
      "(78, 784) (1, 784)\n",
      "(79, 784) (1, 784)\n",
      "(80, 784) (1, 784)\n",
      "(81, 784) (1, 784)\n",
      "(82, 784) (1, 784)\n",
      "(83, 784) (1, 784)\n",
      "(84, 784) (1, 784)\n",
      "(85, 784) (1, 784)\n",
      "(86, 784) (1, 784)\n",
      "(87, 784) (1, 784)\n",
      "(88, 784) (1, 784)\n",
      "(89, 784) (1, 784)\n",
      "(90, 784) (1, 784)\n",
      "(91, 784) (1, 784)\n",
      "(92, 784) (1, 784)\n",
      "(93, 784) (1, 784)\n",
      "(94, 784) (1, 784)\n",
      "(95, 784) (1, 784)\n",
      "(96, 784) (1, 784)\n",
      "(97, 784) (1, 784)\n",
      "(98, 784) (1, 784)\n",
      "(99, 784) (1, 784)\n",
      "(100, 784) (1, 784)\n",
      "(101, 784) (1, 784)\n",
      "(102, 784) (1, 784)\n",
      "(103, 784) (1, 784)\n",
      "(104, 784) (1, 784)\n",
      "(105, 784) (1, 784)\n",
      "(106, 784) (1, 784)\n",
      "(107, 784) (1, 784)\n",
      "(108, 784) (1, 784)\n",
      "(109, 784) (1, 784)\n",
      "(110, 784) (1, 784)\n",
      "(111, 784) (1, 784)\n",
      "(112, 784) (1, 784)\n",
      "(113, 784) (1, 784)\n",
      "(114, 784) (1, 784)\n",
      "(115, 784) (1, 784)\n",
      "(116, 784) (1, 784)\n",
      "(117, 784) (1, 784)\n",
      "(118, 784) (1, 784)\n",
      "(119, 784) (1, 784)\n",
      "(120, 784) (1, 784)\n",
      "(121, 784) (1, 784)\n",
      "(122, 784) (1, 784)\n",
      "(123, 784) (1, 784)\n",
      "(124, 784) (1, 784)\n",
      "(125, 784) (1, 784)\n",
      "(126, 784) (1, 784)\n",
      "(127, 784) (1, 784)\n",
      "(128, 784) (1, 784)\n",
      "(129, 784) (1, 784)\n",
      "(130, 784) (1, 784)\n",
      "(131, 784) (1, 784)\n",
      "(132, 784) (1, 784)\n",
      "(133, 784) (1, 784)\n",
      "(134, 784) (1, 784)\n",
      "(135, 784) (1, 784)\n",
      "(136, 784) (1, 784)\n",
      "(137, 784) (1, 784)\n",
      "(138, 784) (1, 784)\n",
      "(139, 784) (1, 784)\n",
      "(140, 784) (1, 784)\n",
      "(141, 784) (1, 784)\n",
      "(142, 784) (1, 784)\n",
      "(143, 784) (1, 784)\n",
      "(144, 784) (1, 784)\n",
      "(145, 784) (1, 784)\n",
      "(146, 784) (1, 784)\n",
      "(147, 784) (1, 784)\n",
      "(148, 784) (1, 784)\n",
      "(149, 784) (1, 784)\n",
      "(150, 784) (1, 784)\n",
      "(151, 784) (1, 784)\n",
      "(152, 784) (1, 784)\n",
      "(153, 784) (1, 784)\n",
      "(154, 784) (1, 784)\n",
      "(155, 784) (1, 784)\n",
      "(156, 784) (1, 784)\n",
      "(157, 784) (1, 784)\n",
      "(158, 784) (1, 784)\n",
      "(159, 784) (1, 784)\n",
      "(160, 784) (1, 784)\n",
      "(161, 784) (1, 784)\n",
      "(162, 784) (1, 784)\n",
      "(163, 784) (1, 784)\n",
      "(164, 784) (1, 784)\n",
      "(165, 784) (1, 784)\n",
      "(166, 784) (1, 784)\n",
      "(167, 784) (1, 784)\n",
      "(168, 784) (1, 784)\n",
      "(169, 784) (1, 784)\n",
      "(170, 784) (1, 784)\n",
      "(171, 784) (1, 784)\n",
      "(172, 784) (1, 784)\n",
      "(173, 784) (1, 784)\n",
      "(174, 784) (1, 784)\n",
      "(175, 784) (1, 784)\n",
      "(176, 784) (1, 784)\n",
      "(177, 784) (1, 784)\n",
      "(178, 784) (1, 784)\n",
      "(179, 784) (1, 784)\n",
      "(180, 784) (1, 784)\n",
      "(181, 784) (1, 784)\n",
      "(182, 784) (1, 784)\n",
      "(183, 784) (1, 784)\n",
      "(184, 784) (1, 784)\n",
      "(185, 784) (1, 784)\n",
      "(186, 784) (1, 784)\n",
      "(187, 784) (1, 784)\n",
      "(188, 784) (1, 784)\n",
      "(189, 784) (1, 784)\n",
      "(190, 784) (1, 784)\n",
      "(191, 784) (1, 784)\n",
      "(192, 784) (1, 784)\n",
      "(193, 784) (1, 784)\n",
      "(194, 784) (1, 784)\n",
      "(195, 784) (1, 784)\n",
      "(196, 784) (1, 784)\n",
      "(197, 784) (1, 784)\n",
      "(198, 784) (1, 784)\n",
      "(199, 784) (1, 784)\n",
      "(200, 784) (1, 784)\n",
      "(201, 784) (1, 784)\n",
      "(202, 784) (1, 784)\n",
      "(203, 784) (1, 784)\n",
      "(204, 784) (1, 784)\n",
      "(205, 784) (1, 784)\n",
      "(206, 784) (1, 784)\n",
      "(207, 784) (1, 784)\n",
      "(208, 784) (1, 784)\n",
      "(209, 784) (1, 784)\n",
      "(210, 784) (1, 784)\n",
      "(211, 784) (1, 784)\n",
      "(212, 784) (1, 784)\n",
      "(213, 784) (1, 784)\n",
      "(214, 784) (1, 784)\n",
      "(215, 784) (1, 784)\n",
      "(216, 784) (1, 784)\n",
      "(217, 784) (1, 784)\n",
      "(218, 784) (1, 784)\n",
      "(219, 784) (1, 784)\n",
      "(220, 784) (1, 784)\n",
      "(221, 784) (1, 784)\n",
      "(222, 784) (1, 784)\n",
      "(223, 784) (1, 784)\n",
      "(224, 784) (1, 784)\n",
      "(225, 784) (1, 784)\n",
      "(226, 784) (1, 784)\n",
      "(227, 784) (1, 784)\n",
      "(228, 784) (1, 784)\n",
      "(229, 784) (1, 784)\n",
      "(230, 784) (1, 784)\n",
      "(231, 784) (1, 784)\n",
      "(232, 784) (1, 784)\n",
      "(233, 784) (1, 784)\n",
      "(234, 784) (1, 784)\n",
      "(235, 784) (1, 784)\n",
      "(236, 784) (1, 784)\n",
      "(237, 784) (1, 784)\n",
      "(238, 784) (1, 784)\n",
      "(239, 784) (1, 784)\n",
      "(240, 784) (1, 784)\n",
      "(241, 784) (1, 784)\n",
      "(242, 784) (1, 784)\n",
      "(243, 784) (1, 784)\n",
      "(244, 784) (1, 784)\n",
      "(245, 784) (1, 784)\n",
      "(246, 784) (1, 784)\n",
      "(247, 784) (1, 784)\n",
      "(248, 784) (1, 784)\n",
      "(249, 784) (1, 784)\n",
      "(250, 784) (1, 784)\n",
      "(251, 784) (1, 784)\n",
      "(252, 784) (1, 784)\n",
      "(253, 784) (1, 784)\n",
      "(254, 784) (1, 784)\n",
      "(255, 784) (1, 784)\n",
      "(256, 784) (1, 784)\n",
      "(257, 784) (1, 784)\n",
      "(258, 784) (1, 784)\n",
      "(259, 784) (1, 784)\n",
      "(260, 784) (1, 784)\n",
      "(261, 784) (1, 784)\n",
      "(262, 784) (1, 784)\n",
      "(263, 784) (1, 784)\n",
      "(264, 784) (1, 784)\n",
      "(265, 784) (1, 784)\n",
      "(266, 784) (1, 784)\n",
      "(267, 784) (1, 784)\n",
      "(268, 784) (1, 784)\n",
      "(269, 784) (1, 784)\n",
      "(270, 784) (1, 784)\n",
      "(271, 784) (1, 784)\n",
      "(272, 784) (1, 784)\n",
      "(273, 784) (1, 784)\n",
      "(274, 784) (1, 784)\n",
      "(275, 784) (1, 784)\n",
      "(276, 784) (1, 784)\n",
      "(277, 784) (1, 784)\n",
      "(278, 784) (1, 784)\n",
      "(279, 784) (1, 784)\n",
      "(280, 784) (1, 784)\n",
      "(281, 784) (1, 784)\n",
      "(282, 784) (1, 784)\n",
      "(283, 784) (1, 784)\n",
      "(284, 784) (1, 784)\n",
      "(285, 784) (1, 784)\n",
      "(286, 784) (1, 784)\n",
      "(287, 784) (1, 784)\n",
      "(288, 784) (1, 784)\n",
      "(289, 784) (1, 784)\n",
      "(290, 784) (1, 784)\n",
      "(291, 784) (1, 784)\n",
      "(292, 784) (1, 784)\n",
      "(293, 784) (1, 784)\n",
      "(294, 784) (1, 784)\n",
      "(295, 784) (1, 784)\n",
      "(296, 784) (1, 784)\n",
      "(297, 784) (1, 784)\n",
      "(298, 784) (1, 784)\n",
      "(299, 784) (1, 784)\n",
      "(300, 784) (1, 784)\n",
      "(301, 784) (1, 784)\n",
      "(302, 784) (1, 784)\n",
      "(303, 784) (1, 784)\n",
      "(304, 784) (1, 784)\n",
      "(305, 784) (1, 784)\n",
      "(306, 784) (1, 784)\n",
      "(307, 784) (1, 784)\n",
      "(308, 784) (1, 784)\n",
      "(309, 784) (1, 784)\n",
      "(310, 784) (1, 784)\n",
      "(311, 784) (1, 784)\n",
      "(312, 784) (1, 784)\n",
      "(313, 784) (1, 784)\n",
      "(314, 784) (1, 784)\n",
      "(315, 784) (1, 784)\n",
      "(316, 784) (1, 784)\n",
      "(317, 784) (1, 784)\n",
      "(318, 784) (1, 784)\n",
      "(319, 784) (1, 784)\n",
      "(320, 784) (1, 784)\n",
      "(321, 784) (1, 784)\n",
      "(322, 784) (1, 784)\n",
      "(323, 784) (1, 784)\n",
      "(324, 784) (1, 784)\n",
      "(325, 784) (1, 784)\n",
      "(326, 784) (1, 784)\n",
      "(327, 784) (1, 784)\n",
      "(328, 784) (1, 784)\n",
      "(329, 784) (1, 784)\n",
      "(330, 784) (1, 784)\n",
      "(331, 784) (1, 784)\n",
      "(332, 784) (1, 784)\n",
      "(333, 784) (1, 784)\n",
      "(334, 784) (1, 784)\n",
      "(335, 784) (1, 784)\n",
      "(336, 784) (1, 784)\n",
      "(337, 784) (1, 784)\n",
      "(338, 784) (1, 784)\n",
      "(339, 784) (1, 784)\n",
      "(340, 784) (1, 784)\n",
      "(341, 784) (1, 784)\n",
      "(342, 784) (1, 784)\n",
      "(343, 784) (1, 784)\n",
      "(344, 784) (1, 784)\n",
      "(345, 784) (1, 784)\n",
      "(346, 784) (1, 784)\n",
      "(347, 784) (1, 784)\n",
      "(348, 784) (1, 784)\n",
      "(349, 784) (1, 784)\n",
      "(350, 784) (1, 784)\n",
      "(351, 784) (1, 784)\n",
      "(352, 784) (1, 784)\n",
      "(353, 784) (1, 784)\n",
      "(354, 784) (1, 784)\n",
      "(355, 784) (1, 784)\n",
      "(356, 784) (1, 784)\n",
      "(357, 784) (1, 784)\n",
      "(358, 784) (1, 784)\n",
      "(359, 784) (1, 784)\n",
      "(360, 784) (1, 784)\n",
      "(361, 784) (1, 784)\n",
      "(362, 784) (1, 784)\n",
      "(363, 784) (1, 784)\n",
      "(364, 784) (1, 784)\n",
      "(365, 784) (1, 784)\n",
      "(366, 784) (1, 784)\n",
      "(367, 784) (1, 784)\n",
      "(368, 784) (1, 784)\n",
      "(369, 784) (1, 784)\n",
      "(370, 784) (1, 784)\n",
      "(371, 784) (1, 784)\n",
      "(372, 784) (1, 784)\n",
      "(373, 784) (1, 784)\n",
      "(374, 784) (1, 784)\n",
      "(375, 784) (1, 784)\n",
      "(376, 784) (1, 784)\n",
      "(377, 784) (1, 784)\n",
      "(378, 784) (1, 784)\n",
      "(379, 784) (1, 784)\n",
      "(380, 784) (1, 784)\n",
      "(381, 784) (1, 784)\n",
      "(382, 784) (1, 784)\n",
      "(383, 784) (1, 784)\n",
      "(384, 784) (1, 784)\n",
      "(385, 784) (1, 784)\n",
      "(386, 784) (1, 784)\n",
      "(387, 784) (1, 784)\n",
      "(388, 784) (1, 784)\n",
      "(389, 784) (1, 784)\n",
      "(390, 784) (1, 784)\n",
      "(391, 784) (1, 784)\n",
      "(392, 784) (1, 784)\n",
      "(393, 784) (1, 784)\n",
      "(394, 784) (1, 784)\n",
      "(395, 784) (1, 784)\n",
      "(396, 784) (1, 784)\n",
      "(397, 784) (1, 784)\n",
      "(398, 784) (1, 784)\n",
      "(399, 784) (1, 784)\n",
      "(400, 784) (1, 784)\n",
      "(401, 784) (1, 784)\n",
      "(402, 784) (1, 784)\n",
      "(403, 784) (1, 784)\n",
      "(404, 784) (1, 784)\n",
      "(405, 784) (1, 784)\n",
      "(406, 784) (1, 784)\n",
      "(407, 784) (1, 784)\n",
      "(408, 784) (1, 784)\n",
      "(409, 784) (1, 784)\n",
      "(410, 784) (1, 784)\n",
      "(411, 784) (1, 784)\n",
      "(412, 784) (1, 784)\n",
      "(413, 784) (1, 784)\n",
      "(414, 784) (1, 784)\n",
      "(415, 784) (1, 784)\n",
      "(416, 784) (1, 784)\n",
      "(417, 784) (1, 784)\n",
      "(418, 784) (1, 784)\n",
      "(419, 784) (1, 784)\n",
      "(420, 784) (1, 784)\n",
      "(421, 784) (1, 784)\n",
      "(422, 784) (1, 784)\n",
      "(423, 784) (1, 784)\n",
      "(424, 784) (1, 784)\n",
      "(425, 784) (1, 784)\n",
      "(426, 784) (1, 784)\n",
      "(427, 784) (1, 784)\n",
      "(428, 784) (1, 784)\n",
      "(429, 784) (1, 784)\n",
      "(430, 784) (1, 784)\n",
      "(431, 784) (1, 784)\n",
      "(432, 784) (1, 784)\n",
      "(433, 784) (1, 784)\n",
      "(434, 784) (1, 784)\n",
      "(435, 784) (1, 784)\n",
      "(436, 784) (1, 784)\n",
      "(437, 784) (1, 784)\n",
      "(438, 784) (1, 784)\n",
      "(439, 784) (1, 784)\n",
      "(440, 784) (1, 784)\n",
      "(441, 784) (1, 784)\n",
      "(442, 784) (1, 784)\n",
      "(443, 784) (1, 784)\n",
      "(444, 784) (1, 784)\n",
      "(445, 784) (1, 784)\n",
      "(446, 784) (1, 784)\n",
      "(447, 784) (1, 784)\n",
      "(448, 784) (1, 784)\n",
      "(449, 784) (1, 784)\n",
      "(450, 784) (1, 784)\n",
      "(451, 784) (1, 784)\n",
      "(452, 784) (1, 784)\n",
      "(453, 784) (1, 784)\n",
      "(454, 784) (1, 784)\n",
      "(455, 784) (1, 784)\n",
      "(456, 784) (1, 784)\n",
      "(457, 784) (1, 784)\n",
      "(458, 784) (1, 784)\n",
      "(459, 784) (1, 784)\n",
      "(460, 784) (1, 784)\n",
      "(461, 784) (1, 784)\n",
      "(462, 784) (1, 784)\n",
      "(463, 784) (1, 784)\n",
      "(464, 784) (1, 784)\n",
      "(465, 784) (1, 784)\n",
      "(466, 784) (1, 784)\n",
      "(467, 784) (1, 784)\n",
      "(468, 784) (1, 784)\n",
      "(469, 784) (1, 784)\n",
      "(470, 784) (1, 784)\n",
      "(471, 784) (1, 784)\n",
      "(472, 784) (1, 784)\n",
      "(473, 784) (1, 784)\n",
      "(474, 784) (1, 784)\n",
      "(475, 784) (1, 784)\n",
      "(476, 784) (1, 784)\n",
      "(477, 784) (1, 784)\n",
      "(478, 784) (1, 784)\n",
      "(479, 784) (1, 784)\n",
      "(480, 784) (1, 784)\n",
      "(481, 784) (1, 784)\n",
      "(482, 784) (1, 784)\n",
      "(483, 784) (1, 784)\n",
      "(484, 784) (1, 784)\n",
      "(485, 784) (1, 784)\n",
      "(486, 784) (1, 784)\n",
      "(487, 784) (1, 784)\n",
      "(488, 784) (1, 784)\n",
      "(489, 784) (1, 784)\n",
      "(490, 784) (1, 784)\n",
      "(491, 784) (1, 784)\n",
      "(492, 784) (1, 784)\n",
      "(493, 784) (1, 784)\n",
      "(494, 784) (1, 784)\n",
      "(495, 784) (1, 784)\n",
      "(496, 784) (1, 784)\n",
      "(497, 784) (1, 784)\n",
      "(498, 784) (1, 784)\n",
      "(499, 784) (1, 784)\n",
      "(500, 784) (1, 784)\n",
      "(501, 784) (1, 784)\n",
      "(502, 784) (1, 784)\n",
      "(503, 784) (1, 784)\n",
      "(504, 784) (1, 784)\n",
      "(505, 784) (1, 784)\n",
      "(506, 784) (1, 784)\n",
      "(507, 784) (1, 784)\n",
      "(508, 784) (1, 784)\n",
      "(509, 784) (1, 784)\n",
      "(510, 784) (1, 784)\n",
      "(511, 784) (1, 784)\n",
      "(512, 784) (1, 784)\n",
      "(513, 784) (1, 784)\n",
      "(514, 784) (1, 784)\n",
      "(515, 784) (1, 784)\n",
      "(516, 784) (1, 784)\n",
      "(517, 784) (1, 784)\n",
      "(518, 784) (1, 784)\n",
      "(519, 784) (1, 784)\n",
      "(520, 784) (1, 784)\n",
      "(521, 784) (1, 784)\n",
      "(522, 784) (1, 784)\n",
      "(523, 784) (1, 784)\n",
      "(524, 784) (1, 784)\n",
      "(525, 784) (1, 784)\n",
      "(526, 784) (1, 784)\n",
      "(527, 784) (1, 784)\n",
      "(528, 784) (1, 784)\n",
      "(529, 784) (1, 784)\n",
      "(530, 784) (1, 784)\n",
      "(531, 784) (1, 784)\n",
      "(532, 784) (1, 784)\n",
      "(533, 784) (1, 784)\n",
      "(534, 784) (1, 784)\n",
      "(535, 784) (1, 784)\n",
      "(536, 784) (1, 784)\n",
      "(537, 784) (1, 784)\n",
      "(538, 784) (1, 784)\n",
      "(539, 784) (1, 784)\n",
      "(540, 784) (1, 784)\n",
      "(541, 784) (1, 784)\n",
      "(542, 784) (1, 784)\n",
      "(543, 784) (1, 784)\n",
      "(544, 784) (1, 784)\n",
      "(545, 784) (1, 784)\n",
      "(546, 784) (1, 784)\n",
      "(547, 784) (1, 784)\n",
      "(548, 784) (1, 784)\n",
      "(549, 784) (1, 784)\n",
      "(550, 784) (1, 784)\n",
      "(551, 784) (1, 784)\n",
      "(552, 784) (1, 784)\n",
      "(553, 784) (1, 784)\n",
      "(554, 784) (1, 784)\n",
      "(555, 784) (1, 784)\n",
      "(556, 784) (1, 784)\n",
      "(557, 784) (1, 784)\n",
      "(558, 784) (1, 784)\n",
      "(559, 784) (1, 784)\n",
      "(560, 784) (1, 784)\n",
      "(561, 784) (1, 784)\n",
      "(562, 784) (1, 784)\n",
      "(563, 784) (1, 784)\n",
      "(564, 784) (1, 784)\n",
      "(565, 784) (1, 784)\n",
      "(566, 784) (1, 784)\n",
      "(567, 784) (1, 784)\n",
      "(568, 784) (1, 784)\n",
      "(569, 784) (1, 784)\n",
      "(570, 784) (1, 784)\n",
      "(571, 784) (1, 784)\n",
      "(572, 784) (1, 784)\n",
      "(573, 784) (1, 784)\n",
      "(574, 784) (1, 784)\n",
      "(575, 784) (1, 784)\n",
      "(576, 784) (1, 784)\n",
      "(577, 784) (1, 784)\n",
      "(578, 784) (1, 784)\n",
      "(579, 784) (1, 784)\n",
      "(580, 784) (1, 784)\n",
      "(581, 784) (1, 784)\n",
      "(582, 784) (1, 784)\n",
      "(583, 784) (1, 784)\n",
      "(584, 784) (1, 784)\n",
      "(585, 784) (1, 784)\n",
      "(586, 784) (1, 784)\n",
      "(587, 784) (1, 784)\n",
      "(588, 784) (1, 784)\n",
      "(589, 784) (1, 784)\n",
      "(590, 784) (1, 784)\n",
      "(591, 784) (1, 784)\n",
      "(592, 784) (1, 784)\n",
      "(593, 784) (1, 784)\n",
      "(594, 784) (1, 784)\n",
      "(595, 784) (1, 784)\n",
      "(596, 784) (1, 784)\n",
      "(597, 784) (1, 784)\n",
      "(598, 784) (1, 784)\n",
      "(599, 784) (1, 784)\n",
      "(600, 784) (1, 784)\n",
      "(601, 784) (1, 784)\n",
      "(602, 784) (1, 784)\n",
      "(603, 784) (1, 784)\n",
      "(604, 784) (1, 784)\n",
      "(605, 784) (1, 784)\n",
      "(606, 784) (1, 784)\n",
      "(607, 784) (1, 784)\n",
      "(608, 784) (1, 784)\n",
      "(609, 784) (1, 784)\n",
      "(610, 784) (1, 784)\n",
      "(611, 784) (1, 784)\n",
      "(612, 784) (1, 784)\n",
      "(613, 784) (1, 784)\n",
      "(614, 784) (1, 784)\n",
      "(615, 784) (1, 784)\n",
      "(616, 784) (1, 784)\n",
      "(617, 784) (1, 784)\n",
      "(618, 784) (1, 784)\n",
      "(619, 784) (1, 784)\n",
      "(620, 784) (1, 784)\n",
      "(621, 784) (1, 784)\n",
      "(622, 784) (1, 784)\n",
      "(623, 784) (1, 784)\n",
      "(624, 784) (1, 784)\n",
      "(625, 784) (1, 784)\n",
      "(626, 784) (1, 784)\n",
      "(627, 784) (1, 784)\n",
      "(628, 784) (1, 784)\n",
      "(629, 784) (1, 784)\n",
      "(630, 784) (1, 784)\n",
      "(631, 784) (1, 784)\n",
      "(632, 784) (1, 784)\n",
      "(633, 784) (1, 784)\n",
      "(634, 784) (1, 784)\n",
      "(635, 784) (1, 784)\n",
      "(636, 784) (1, 784)\n",
      "(637, 784) (1, 784)\n",
      "(638, 784) (1, 784)\n",
      "(639, 784) (1, 784)\n",
      "(640, 784) (1, 784)\n",
      "(641, 784) (1, 784)\n",
      "(642, 784) (1, 784)\n",
      "(643, 784) (1, 784)\n",
      "(644, 784) (1, 784)\n",
      "(645, 784) (1, 784)\n",
      "(646, 784) (1, 784)\n",
      "(647, 784) (1, 784)\n",
      "(648, 784) (1, 784)\n",
      "(649, 784) (1, 784)\n",
      "(650, 784) (1, 784)\n",
      "(651, 784) (1, 784)\n",
      "(652, 784) (1, 784)\n",
      "(653, 784) (1, 784)\n",
      "(654, 784) (1, 784)\n",
      "(655, 784) (1, 784)\n",
      "(656, 784) (1, 784)\n",
      "(657, 784) (1, 784)\n",
      "(658, 784) (1, 784)\n",
      "(659, 784) (1, 784)\n",
      "(660, 784) (1, 784)\n",
      "(661, 784) (1, 784)\n",
      "(662, 784) (1, 784)\n",
      "(663, 784) (1, 784)\n",
      "(664, 784) (1, 784)\n",
      "(665, 784) (1, 784)\n",
      "(666, 784) (1, 784)\n",
      "(667, 784) (1, 784)\n",
      "(668, 784) (1, 784)\n",
      "(669, 784) (1, 784)\n",
      "(670, 784) (1, 784)\n",
      "(671, 784) (1, 784)\n",
      "(672, 784) (1, 784)\n",
      "(673, 784) (1, 784)\n",
      "(674, 784) (1, 784)\n",
      "(675, 784) (1, 784)\n",
      "(676, 784) (1, 784)\n",
      "(677, 784) (1, 784)\n",
      "(678, 784) (1, 784)\n",
      "(679, 784) (1, 784)\n",
      "(680, 784) (1, 784)\n",
      "(681, 784) (1, 784)\n",
      "(682, 784) (1, 784)\n",
      "(683, 784) (1, 784)\n",
      "(684, 784) (1, 784)\n",
      "(685, 784) (1, 784)\n",
      "(686, 784) (1, 784)\n",
      "(687, 784) (1, 784)\n",
      "(688, 784) (1, 784)\n",
      "(689, 784) (1, 784)\n",
      "(690, 784) (1, 784)\n",
      "(691, 784) (1, 784)\n",
      "(692, 784) (1, 784)\n",
      "(693, 784) (1, 784)\n",
      "(694, 784) (1, 784)\n",
      "(695, 784) (1, 784)\n",
      "(696, 784) (1, 784)\n",
      "(697, 784) (1, 784)\n",
      "(698, 784) (1, 784)\n",
      "(699, 784) (1, 784)\n",
      "(700, 784) (1, 784)\n",
      "(701, 784) (1, 784)\n",
      "(702, 784) (1, 784)\n",
      "(703, 784) (1, 784)\n",
      "(704, 784) (1, 784)\n",
      "(705, 784) (1, 784)\n",
      "(706, 784) (1, 784)\n",
      "(707, 784) (1, 784)\n",
      "(708, 784) (1, 784)\n",
      "(709, 784) (1, 784)\n",
      "(710, 784) (1, 784)\n",
      "(711, 784) (1, 784)\n",
      "(712, 784) (1, 784)\n",
      "(713, 784) (1, 784)\n",
      "(714, 784) (1, 784)\n",
      "(715, 784) (1, 784)\n",
      "(716, 784) (1, 784)\n",
      "(717, 784) (1, 784)\n",
      "(718, 784) (1, 784)\n",
      "(719, 784) (1, 784)\n",
      "(720, 784) (1, 784)\n",
      "(721, 784) (1, 784)\n",
      "(722, 784) (1, 784)\n",
      "(723, 784) (1, 784)\n",
      "(724, 784) (1, 784)\n",
      "(725, 784) (1, 784)\n",
      "(726, 784) (1, 784)\n",
      "(727, 784) (1, 784)\n",
      "(728, 784) (1, 784)\n",
      "(729, 784) (1, 784)\n",
      "(730, 784) (1, 784)\n",
      "(731, 784) (1, 784)\n",
      "(732, 784) (1, 784)\n",
      "(733, 784) (1, 784)\n",
      "(734, 784) (1, 784)\n",
      "(735, 784) (1, 784)\n",
      "(736, 784) (1, 784)\n",
      "(737, 784) (1, 784)\n",
      "(738, 784) (1, 784)\n",
      "(739, 784) (1, 784)\n",
      "(740, 784) (1, 784)\n",
      "(741, 784) (1, 784)\n",
      "(742, 784) (1, 784)\n",
      "(743, 784) (1, 784)\n",
      "(744, 784) (1, 784)\n",
      "(745, 784) (1, 784)\n",
      "(746, 784) (1, 784)\n",
      "(747, 784) (1, 784)\n",
      "(748, 784) (1, 784)\n",
      "(749, 784) (1, 784)\n",
      "(750, 784) (1, 784)\n",
      "(751, 784) (1, 784)\n",
      "(752, 784) (1, 784)\n",
      "(753, 784) (1, 784)\n",
      "(754, 784) (1, 784)\n",
      "(755, 784) (1, 784)\n",
      "(756, 784) (1, 784)\n",
      "(757, 784) (1, 784)\n",
      "(758, 784) (1, 784)\n",
      "(759, 784) (1, 784)\n",
      "(760, 784) (1, 784)\n",
      "(761, 784) (1, 784)\n",
      "(762, 784) (1, 784)\n",
      "(763, 784) (1, 784)\n",
      "(764, 784) (1, 784)\n",
      "(765, 784) (1, 784)\n",
      "(766, 784) (1, 784)\n",
      "(767, 784) (1, 784)\n",
      "(768, 784) (1, 784)\n",
      "(769, 784) (1, 784)\n",
      "(770, 784) (1, 784)\n",
      "(771, 784) (1, 784)\n",
      "(772, 784) (1, 784)\n",
      "(773, 784) (1, 784)\n",
      "(774, 784) (1, 784)\n",
      "(775, 784) (1, 784)\n",
      "(776, 784) (1, 784)\n",
      "(777, 784) (1, 784)\n",
      "(778, 784) (1, 784)\n",
      "(779, 784) (1, 784)\n",
      "(780, 784) (1, 784)\n",
      "(781, 784) (1, 784)\n",
      "(782, 784) (1, 784)\n",
      "(783, 784) (1, 784)\n",
      "(784, 784) (1, 784)\n",
      "(785, 784) (1, 784)\n",
      "(786, 784) (1, 784)\n",
      "(787, 784) (1, 784)\n",
      "(788, 784) (1, 784)\n",
      "(789, 784) (1, 784)\n",
      "(790, 784) (1, 784)\n",
      "(791, 784) (1, 784)\n",
      "(792, 784) (1, 784)\n",
      "(793, 784) (1, 784)\n",
      "(794, 784) (1, 784)\n",
      "(795, 784) (1, 784)\n",
      "(796, 784) (1, 784)\n",
      "(797, 784) (1, 784)\n",
      "(798, 784) (1, 784)\n",
      "(799, 784) (1, 784)\n",
      "(800, 784) (1, 784)\n",
      "(801, 784) (1, 784)\n",
      "(802, 784) (1, 784)\n",
      "(803, 784) (1, 784)\n",
      "(804, 784) (1, 784)\n",
      "(805, 784) (1, 784)\n",
      "(806, 784) (1, 784)\n",
      "(807, 784) (1, 784)\n",
      "(808, 784) (1, 784)\n",
      "(809, 784) (1, 784)\n",
      "(810, 784) (1, 784)\n",
      "(811, 784) (1, 784)\n",
      "(812, 784) (1, 784)\n",
      "(813, 784) (1, 784)\n",
      "(814, 784) (1, 784)\n",
      "(815, 784) (1, 784)\n",
      "(816, 784) (1, 784)\n",
      "(817, 784) (1, 784)\n",
      "(818, 784) (1, 784)\n",
      "(819, 784) (1, 784)\n",
      "(820, 784) (1, 784)\n",
      "(821, 784) (1, 784)\n",
      "(822, 784) (1, 784)\n",
      "(823, 784) (1, 784)\n",
      "(824, 784) (1, 784)\n",
      "(825, 784) (1, 784)\n",
      "(826, 784) (1, 784)\n",
      "(827, 784) (1, 784)\n",
      "(828, 784) (1, 784)\n",
      "(829, 784) (1, 784)\n",
      "(830, 784) (1, 784)\n",
      "(831, 784) (1, 784)\n",
      "(832, 784) (1, 784)\n",
      "(833, 784) (1, 784)\n"
     ]
    },
    {
     "name": "stdout",
     "output_type": "stream",
     "text": [
      "(834, 784) (1, 784)\n",
      "(835, 784) (1, 784)\n",
      "(836, 784) (1, 784)\n",
      "(837, 784) (1, 784)\n",
      "(838, 784) (1, 784)\n",
      "(839, 784) (1, 784)\n",
      "(840, 784) (1, 784)\n",
      "(841, 784) (1, 784)\n",
      "(842, 784) (1, 784)\n",
      "(843, 784) (1, 784)\n",
      "(844, 784) (1, 784)\n",
      "(845, 784) (1, 784)\n",
      "(846, 784) (1, 784)\n",
      "(847, 784) (1, 784)\n",
      "(848, 784) (1, 784)\n",
      "(849, 784) (1, 784)\n",
      "(850, 784) (1, 784)\n",
      "(851, 784) (1, 784)\n",
      "(852, 784) (1, 784)\n",
      "(853, 784) (1, 784)\n",
      "(854, 784) (1, 784)\n",
      "(855, 784) (1, 784)\n",
      "(856, 784) (1, 784)\n",
      "(857, 784) (1, 784)\n",
      "(858, 784) (1, 784)\n",
      "(859, 784) (1, 784)\n",
      "(860, 784) (1, 784)\n",
      "(861, 784) (1, 784)\n",
      "(862, 784) (1, 784)\n",
      "(863, 784) (1, 784)\n",
      "(864, 784) (1, 784)\n",
      "(865, 784) (1, 784)\n",
      "(866, 784) (1, 784)\n",
      "(867, 784) (1, 784)\n",
      "(868, 784) (1, 784)\n",
      "(869, 784) (1, 784)\n",
      "(870, 784) (1, 784)\n",
      "(871, 784) (1, 784)\n",
      "(872, 784) (1, 784)\n",
      "(873, 784) (1, 784)\n",
      "(874, 784) (1, 784)\n",
      "(875, 784) (1, 784)\n",
      "(876, 784) (1, 784)\n",
      "(877, 784) (1, 784)\n",
      "(878, 784) (1, 784)\n",
      "(879, 784) (1, 784)\n",
      "(880, 784) (1, 784)\n",
      "(881, 784) (1, 784)\n",
      "(882, 784) (1, 784)\n",
      "(883, 784) (1, 784)\n",
      "(884, 784) (1, 784)\n",
      "(885, 784) (1, 784)\n",
      "(886, 784) (1, 784)\n",
      "(887, 784) (1, 784)\n",
      "(888, 784) (1, 784)\n",
      "(889, 784) (1, 784)\n",
      "(890, 784) (1, 784)\n",
      "(891, 784) (1, 784)\n",
      "(892, 784) (1, 784)\n",
      "(893, 784) (1, 784)\n",
      "(894, 784) (1, 784)\n",
      "(895, 784) (1, 784)\n",
      "(896, 784) (1, 784)\n",
      "(897, 784) (1, 784)\n",
      "(898, 784) (1, 784)\n",
      "(899, 784) (1, 784)\n",
      "(900, 784) (1, 784)\n",
      "(901, 784) (1, 784)\n",
      "(902, 784) (1, 784)\n",
      "(903, 784) (1, 784)\n",
      "(904, 784) (1, 784)\n",
      "(905, 784) (1, 784)\n",
      "(906, 784) (1, 784)\n",
      "(907, 784) (1, 784)\n",
      "(908, 784) (1, 784)\n",
      "(909, 784) (1, 784)\n",
      "(910, 784) (1, 784)\n",
      "(911, 784) (1, 784)\n",
      "(912, 784) (1, 784)\n",
      "(913, 784) (1, 784)\n",
      "(914, 784) (1, 784)\n",
      "(915, 784) (1, 784)\n",
      "(916, 784) (1, 784)\n",
      "(917, 784) (1, 784)\n",
      "(918, 784) (1, 784)\n",
      "(919, 784) (1, 784)\n",
      "(920, 784) (1, 784)\n",
      "(921, 784) (1, 784)\n",
      "(922, 784) (1, 784)\n",
      "(923, 784) (1, 784)\n",
      "(924, 784) (1, 784)\n",
      "(925, 784) (1, 784)\n",
      "(926, 784) (1, 784)\n",
      "(927, 784) (1, 784)\n",
      "(928, 784) (1, 784)\n",
      "(929, 784) (1, 784)\n",
      "(930, 784) (1, 784)\n",
      "(931, 784) (1, 784)\n",
      "(932, 784) (1, 784)\n",
      "(933, 784) (1, 784)\n",
      "(934, 784) (1, 784)\n",
      "(935, 784) (1, 784)\n",
      "(936, 784) (1, 784)\n",
      "(937, 784) (1, 784)\n",
      "(938, 784) (1, 784)\n",
      "(939, 784) (1, 784)\n",
      "(940, 784) (1, 784)\n",
      "(941, 784) (1, 784)\n",
      "(942, 784) (1, 784)\n",
      "(943, 784) (1, 784)\n",
      "(944, 784) (1, 784)\n",
      "(945, 784) (1, 784)\n",
      "(946, 784) (1, 784)\n",
      "(947, 784) (1, 784)\n",
      "(948, 784) (1, 784)\n",
      "(949, 784) (1, 784)\n",
      "(950, 784) (1, 784)\n",
      "(951, 784) (1, 784)\n",
      "(952, 784) (1, 784)\n",
      "(953, 784) (1, 784)\n",
      "(954, 784) (1, 784)\n",
      "(955, 784) (1, 784)\n",
      "(956, 784) (1, 784)\n",
      "(957, 784) (1, 784)\n",
      "(958, 784) (1, 784)\n",
      "(959, 784) (1, 784)\n",
      "(960, 784) (1, 784)\n",
      "(961, 784) (1, 784)\n",
      "(962, 784) (1, 784)\n",
      "(963, 784) (1, 784)\n",
      "(964, 784) (1, 784)\n",
      "(965, 784) (1, 784)\n",
      "(966, 784) (1, 784)\n",
      "(967, 784) (1, 784)\n",
      "(968, 784) (1, 784)\n",
      "(969, 784) (1, 784)\n",
      "(970, 784) (1, 784)\n",
      "(971, 784) (1, 784)\n",
      "(972, 784) (1, 784)\n",
      "(973, 784) (1, 784)\n",
      "(974, 784) (1, 784)\n",
      "(975, 784) (1, 784)\n",
      "(976, 784) (1, 784)\n",
      "(977, 784) (1, 784)\n",
      "(978, 784) (1, 784)\n",
      "(979, 784) (1, 784)\n",
      "(980, 784) (1, 784)\n",
      "(981, 784) (1, 784)\n",
      "(982, 784) (1, 784)\n",
      "(983, 784) (1, 784)\n",
      "(984, 784) (1, 784)\n",
      "(985, 784) (1, 784)\n",
      "(986, 784) (1, 784)\n",
      "(987, 784) (1, 784)\n",
      "(988, 784) (1, 784)\n",
      "(989, 784) (1, 784)\n",
      "(990, 784) (1, 784)\n",
      "(991, 784) (1, 784)\n",
      "(992, 784) (1, 784)\n",
      "(993, 784) (1, 784)\n",
      "(994, 784) (1, 784)\n",
      "(995, 784) (1, 784)\n",
      "(996, 784) (1, 784)\n",
      "(997, 784) (1, 784)\n",
      "(998, 784) (1, 784)\n",
      "(999, 784) (1, 784)\n",
      "(1000, 784) (1, 784)\n"
     ]
    }
   ],
   "source": [
    "for i in range(1000):\n",
    "    reshape_mat=ts_x[i].reshape((40,40))\n",
    "    reshape_mat1=np.delete(reshape_mat, delete_list, 0)\n",
    "    reshape_mat2=np.delete(reshape_mat1, delete_list, 1)\n",
    "    reshape_mat3=reshape_mat2.reshape(1,784)\n",
    "    print(tmp_list.shape, reshape_mat3.shape)\n",
    "    tmp_list = np.vstack((tmp_list, reshape_mat3))"
   ]
  },
  {
   "cell_type": "code",
   "execution_count": 40,
   "metadata": {},
   "outputs": [
    {
     "name": "stdout",
     "output_type": "stream",
     "text": [
      "(1001, 784)\n",
      "(1000, 784)\n"
     ]
    }
   ],
   "source": [
    "print(tmp_list.shape)\n",
    "print(tmp_list[1:].shape)"
   ]
  },
  {
   "cell_type": "code",
   "execution_count": 41,
   "metadata": {},
   "outputs": [
    {
     "name": "stdout",
     "output_type": "stream",
     "text": [
      "<class 'numpy.ndarray'>\n",
      "(1000, 784)\n"
     ]
    }
   ],
   "source": [
    "ts_x = tmp_list[1:]\n",
    "\n",
    "print(type(ts_x))\n",
    "print(ts_x.shape)"
   ]
  },
  {
   "cell_type": "code",
   "execution_count": null,
   "metadata": {},
   "outputs": [],
   "source": []
  },
  {
   "cell_type": "code",
   "execution_count": 42,
   "metadata": {},
   "outputs": [
    {
     "data": {
      "image/png": "[encoded data removed]",
      "text/plain": [
       "<matplotlib.figure.Figure at 0x7f715ecfcf28>"
      ]
     },
     "metadata": {},
     "output_type": "display_data"
    }
   ],
   "source": [
    "# Visualize mnist cluster dataset\n",
    "tmp = ts_x.reshape(-1,28,28)\n",
    "indices = np.random.randint(0, high = tmp.shape[0], size = 8)\n",
    "fig = plt.figure(figsize = (15,6))\n",
    "fig.subplots_adjust(right=0.8)\n",
    "for i, index in enumerate(indices):\n",
    "    fig.add_subplot(2,4,i+1)\n",
    "    plt.imshow(tmp[index], cmap = 'gray')"
   ]
  },
  {
   "cell_type": "code",
   "execution_count": null,
   "metadata": {},
   "outputs": [],
   "source": []
  },
  {
   "cell_type": "code",
   "execution_count": 43,
   "metadata": {},
   "outputs": [],
   "source": [
    "# One-hot representation function\n",
    "def one_hot(label):\n",
    "    enc = OneHotEncoder()\n",
    "    enc.fit(label)\n",
    "    res = enc.transform(label).toarray()\n",
    "    return res"
   ]
  },
  {
   "cell_type": "code",
   "execution_count": 44,
   "metadata": {},
   "outputs": [],
   "source": [
    "# transform\n",
    "tr_y = one_hot(tr_y)\n",
    "val_y = one_hot(val_y)\n",
    "ts_y = one_hot(ts_y)"
   ]
  },
  {
   "cell_type": "code",
   "execution_count": null,
   "metadata": {},
   "outputs": [],
   "source": []
  },
  {
   "cell_type": "code",
   "execution_count": 45,
   "metadata": {
    "scrolled": true
   },
   "outputs": [],
   "source": [
    "hat = clutter_classifier.predict(sess = sess, x_data = ts_x)"
   ]
  },
  {
   "cell_type": "code",
   "execution_count": 46,
   "metadata": {},
   "outputs": [
    {
     "name": "stdout",
     "output_type": "stream",
     "text": [
      "Accuracy : 87.00%\n"
     ]
    }
   ],
   "source": [
    "print('Accuracy : {:.2%}'.format(np.mean(np.argmax(hat, axis = 1) == np.argmax(ts_y, axis = 1))))"
   ]
  },
  {
   "cell_type": "code",
   "execution_count": 47,
   "metadata": {},
   "outputs": [],
   "source": [
    "weights = sess.run(tf.get_collection(tf.GraphKeys.MODEL_VARIABLES, scope = 'output_layer')[0])\n",
    "def cam(featuremap, weights, pred_class):\n",
    "    pred_weights = weights[:,pred_class]\n",
    "    output = np.zeros(featuremap.shape[1:3])\n",
    "    \n",
    "    for channel in range(weights.shape[0]):\n",
    "        output += pred_weights[channel] * featuremap[0,:,:,channel] \n",
    "    output /= weights.shape[0]\n",
    "##    output = resize(output, output_shape = [40,40], mode = 'reflect')\n",
    "    output = resize(output, output_shape = [28,28], mode = 'reflect')\n",
    "    output = (output - np.min(output)) / (np.max(output) - np.min(output))\n",
    "    plt.imshow(output, cmap = 'jet', interpolation = 'bilinear')"
   ]
  },
  {
   "cell_type": "code",
   "execution_count": 48,
   "metadata": {},
   "outputs": [
    {
     "data": {
      "text/plain": [
       "Text(0.5,1,'0 is True label, 0 is prediction')"
      ]
     },
     "execution_count": 48,
     "metadata": {},
     "output_type": "execute_result"
    },
    {
     "data": {
      "image/png": "[encoded data removed]",
      "text/plain": [
       "<matplotlib.figure.Figure at 0x7f714dbd2518>"
      ]
     },
     "metadata": {},
     "output_type": "display_data"
    }
   ],
   "source": [
    "target_index = np.random.choice(np.arange(ts_y.shape[0]), size = 1)\n",
    "hat = clutter_classifier.predict(sess = sess, x_data = ts_x[target_index])\n",
    "##plt.imshow(ts_x[target_index].reshape(40,40), cmap = 'gray')\n",
    "plt.imshow(ts_x[target_index].reshape(28,28), cmap = 'gray')\n",
    "plt.title('{} is True label, {} is prediction'.format(np.argmax(ts_y[target_index]),np.argmax(hat)))"
   ]
  },
  {
   "cell_type": "code",
   "execution_count": 49,
   "metadata": {},
   "outputs": [],
   "source": [
    "featuremap = clutter_classifier.extract_featuremap(sess = sess, x_data = ts_x[target_index])"
   ]
  },
  {
   "cell_type": "code",
   "execution_count": 50,
   "metadata": {
    "scrolled": true
   },
   "outputs": [
    {
     "data": {
      "image/png": "[encoded data removed]",
      "text/plain": [
       "<matplotlib.figure.Figure at 0x7f71406804a8>"
      ]
     },
     "metadata": {},
     "output_type": "display_data"
    }
   ],
   "source": [
    "fig = plt.figure(figsize = (15, 6))\n",
    "fig.subplots_adjust(right = .8)\n",
    "for pred_class, pred_prob in enumerate(hat.flatten()):\n",
    "    fig.add_subplot(2,5, pred_class + 1)\n",
    "    cam(featuremap, weights, pred_class)\n",
    "    plt.title('prediction : {},\\n prob : {:.3f}'.format(pred_class, pred_prob))"
   ]
  }
 ],
 "metadata": {
  "kernelspec": {
   "display_name": "Python 3",
   "language": "python",
   "name": "python3"
  },
  "language_info": {
   "codemirror_mode": {
    "name": "ipython",
    "version": 3
   },
   "file_extension": ".py",
   "mimetype": "text/x-python",
   "name": "python",
   "nbconvert_exporter": "python",
   "pygments_lexer": "ipython3",
   "version": "3.6.4"
  }
 },
 "nbformat": 4,
 "nbformat_minor": 2
}
