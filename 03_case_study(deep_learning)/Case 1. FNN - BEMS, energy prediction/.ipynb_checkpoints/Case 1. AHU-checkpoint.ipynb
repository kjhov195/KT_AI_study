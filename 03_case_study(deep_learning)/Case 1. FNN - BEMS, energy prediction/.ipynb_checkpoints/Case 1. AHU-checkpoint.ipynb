{
 "cells": [
  {
   "cell_type": "code",
   "execution_count": 1,
   "metadata": {
    "collapsed": true
   },
   "outputs": [],
   "source": [
    "import tensorflow as tf\n",
    "import pandas as pd\n",
    "import numpy as np\n",
    "\n",
    "import scipy as sp\n",
    "import scipy.stats\n",
    "import matplotlib.pyplot as plt\n",
    "import math\n",
    "from sklearn.linear_model import LinearRegression"
   ]
  },
  {
   "cell_type": "code",
   "execution_count": 2,
   "metadata": {
    "scrolled": true
   },
   "outputs": [
    {
     "data": {
      "text/plain": [
       "array([[  1.40159523e+12,   1.20000043e-17],\n",
       "       [  1.40159523e+12,   1.20000043e-17],\n",
       "       [  1.40159523e+12,   1.20000043e-17],\n",
       "       ..., \n",
       "       [  1.40418718e+12,   2.45426489e+03],\n",
       "       [  1.40418718e+12,   2.42050635e+03],\n",
       "       [  1.40418718e+12,   2.41890601e+03]], dtype=float32)"
      ]
     },
     "execution_count": 2,
     "metadata": {},
     "output_type": "execute_result"
    }
   ],
   "source": [
    "data=np.loadtxt(fname='Power.csv', delimiter=',', dtype=np.float32)\n",
    "data"
   ]
  },
  {
   "cell_type": "code",
   "execution_count": 3,
   "metadata": {},
   "outputs": [
    {
     "name": "stdout",
     "output_type": "stream",
     "text": [
      "(86191,) (86191,)\n"
     ]
    },
    {
     "data": {
      "image/png": "[encoded data removed]",
      "text/plain": [
       "<matplotlib.figure.Figure at 0x7f07260826d8>"
      ]
     },
     "metadata": {},
     "output_type": "display_data"
    }
   ],
   "source": [
    "'''raw data'''\n",
    "\n",
    "x_data=data[:-1,1]\n",
    "y_data=data[1: ,1]\n",
    "\n",
    "print(x_data.shape, y_data.shape)\n",
    "\n",
    "plt.scatter(x_data, y_data)\n",
    "plt.show()"
   ]
  },
  {
   "cell_type": "code",
   "execution_count": 4,
   "metadata": {},
   "outputs": [
    {
     "data": {
      "text/plain": [
       "'\\n1. 기본 문제\\n'"
      ]
     },
     "execution_count": 4,
     "metadata": {},
     "output_type": "execute_result"
    }
   ],
   "source": [
    "'''\n",
    "1. 기본 문제\n",
    "'''"
   ]
  },
  {
   "cell_type": "code",
   "execution_count": 5,
   "metadata": {},
   "outputs": [
    {
     "name": "stdout",
     "output_type": "stream",
     "text": [
      "(38078,) (38078,)\n"
     ]
    }
   ],
   "source": [
    "data2=data[data[:,1]>500]\n",
    "x_data2 = data2[:-1,1]\n",
    "y_data2 = data2[1: ,1]\n",
    "\n",
    "print(x_data2.shape, y_data2.shape)"
   ]
  },
  {
   "cell_type": "code",
   "execution_count": 6,
   "metadata": {},
   "outputs": [
    {
     "data": {
      "image/png": "[encoded data removed]",
      "text/plain": [
       "<matplotlib.figure.Figure at 0x7f0726037eb8>"
      ]
     },
     "metadata": {},
     "output_type": "display_data"
    }
   ],
   "source": [
    "plt.scatter(x_data2, y_data2)\n",
    "plt.show()"
   ]
  },
  {
   "cell_type": "code",
   "execution_count": 7,
   "metadata": {},
   "outputs": [
    {
     "name": "stdout",
     "output_type": "stream",
     "text": [
      "2508.33 417.997\n"
     ]
    }
   ],
   "source": [
    "y_data2_mean = np.mean(y_data2)\n",
    "y_data2_std = np.std(y_data2)\n",
    "\n",
    "print(y_data2_mean, y_data2_std)"
   ]
  },
  {
   "cell_type": "code",
   "execution_count": 8,
   "metadata": {},
   "outputs": [
    {
     "name": "stdout",
     "output_type": "stream",
     "text": [
      "[-1.06159723 -0.99129468 -1.00637484 ..., -0.12933181 -0.21009447\n",
      " -0.21392307]\n"
     ]
    },
    {
     "data": {
      "image/png": "[encoded data removed]",
      "text/plain": [
       "<matplotlib.figure.Figure at 0x7f072603e4a8>"
      ]
     },
     "metadata": {},
     "output_type": "display_data"
    }
   ],
   "source": [
    "y_data2_norm = (y_data2-y_data2_mean)/y_data2_std\n",
    "print(y_data2_norm)\n",
    "\n",
    "plt.scatter(x_data2, y_data2_norm, c='g')\n",
    "plt.show()"
   ]
  },
  {
   "cell_type": "code",
   "execution_count": 9,
   "metadata": {
    "scrolled": true
   },
   "outputs": [
    {
     "data": {
      "text/plain": [
       "array([[  2.08338794e+03,  -1.06159723e+00],\n",
       "       [  2.06458081e+03,  -9.91294682e-01],\n",
       "       [  2.09396704e+03,  -1.00637484e+00],\n",
       "       ..., \n",
       "       [  2.42636914e+03,  -1.29331812e-01],\n",
       "       [  2.45426489e+03,  -2.10094467e-01],\n",
       "       [  2.42050635e+03,  -2.13923067e-01]], dtype=float32)"
      ]
     },
     "execution_count": 9,
     "metadata": {},
     "output_type": "execute_result"
    }
   ],
   "source": [
    "data3 = list()\n",
    "\n",
    "for i in range(len(x_data2)):\n",
    "    data3.append([x_data2[i], y_data2_norm[i]])\n",
    "\n",
    "data3= np.array(data3)\n",
    "data3"
   ]
  },
  {
   "cell_type": "code",
   "execution_count": 10,
   "metadata": {},
   "outputs": [
    {
     "name": "stdout",
     "output_type": "stream",
     "text": [
      "38078 30462 7616\n"
     ]
    }
   ],
   "source": [
    "#number of training data\n",
    "num_training=int(np.round(len(data3)*0.8))\n",
    "#number of testing data\n",
    "num_test =len(data3)-num_training\n",
    "\n",
    "print(len(data3), num_training, num_test)"
   ]
  },
  {
   "cell_type": "code",
   "execution_count": 11,
   "metadata": {
    "collapsed": true
   },
   "outputs": [],
   "source": [
    "training_data = data3[:num_training, : ]\n",
    "test_data = data3[num_training:, : ]\n",
    "\n",
    "xtrain = training_data[:, [0]]\n",
    "ytrain = training_data[:, [1]]\n",
    "xtest = test_data[:, [0]]\n",
    "ytest = test_data[:, [1]]"
   ]
  },
  {
   "cell_type": "code",
   "execution_count": 12,
   "metadata": {
    "collapsed": true
   },
   "outputs": [],
   "source": [
    "X= tf.placeholder(tf.float32, shape=[None, 1])\n",
    "Y= tf.placeholder(tf.float32, shape=[None, 1])\n",
    "\n",
    "W= tf.Variable(tf.random_normal([1, 1]), name='weight')\n",
    "b= tf.Variable(tf.random_normal([1]), name='bias')\n",
    "\n",
    "model= tf.add(tf.matmul(X, W), b) #linear regression\n",
    "\n",
    "cost = tf.reduce_mean(tf.square(model - Y))\n",
    "\n",
    "train=tf.train.AdamOptimizer(learning_rate=0.005).minimize(cost)"
   ]
  },
  {
   "cell_type": "code",
   "execution_count": 13,
   "metadata": {},
   "outputs": [
    {
     "name": "stdout",
     "output_type": "stream",
     "text": [
      "0 1.43977e+07\n",
      "1000 1.73279\n",
      "2000 0.910745\n",
      "3000 0.910032\n",
      "4000 0.908827\n",
      "5000 0.906822\n",
      "6000 0.903515\n",
      "7000 0.89808\n",
      "8000 0.889185\n",
      "9000 0.874709\n",
      "10000 0.851354\n",
      "11000 0.814214\n",
      "12000 0.756537\n",
      "13000 0.670408\n",
      "14000 0.549829\n",
      "15000 0.397923\n",
      "16000 0.236405\n",
      "17000 0.110196\n",
      "18000 0.0521593\n",
      "19000 0.0280297\n",
      "20000 0.0182221\n"
     ]
    }
   ],
   "source": [
    "sess= tf.Session()\n",
    "sess.run(tf.global_variables_initializer())\n",
    "\n",
    "trial_num=list()\n",
    "cost_list=list()\n",
    "\n",
    "for step in range(20001):\n",
    "    cost_val, _=sess.run([cost, train], feed_dict={X:xtrain, Y:ytrain})\n",
    "    cost_list.append(cost_val)\n",
    "    trial_num.append(step)\n",
    "    \n",
    "    if step % 1000 == 0:\n",
    "        print(step, cost_val)"
   ]
  },
  {
   "cell_type": "code",
   "execution_count": 22,
   "metadata": {},
   "outputs": [
    {
     "data": {
      "image/png": "[encoded data removed]",
      "text/plain": [
       "<matplotlib.figure.Figure at 0x7f0726aeacc0>"
      ]
     },
     "metadata": {},
     "output_type": "display_data"
    }
   ],
   "source": [
    "# cost function\n",
    "\n",
    "plt.plot(trial_num, cost_list)\n",
    "plt.xlim(0, 1000)\n",
    "#plt.ylim(0, 1)\n",
    "plt.show()"
   ]
  },
  {
   "cell_type": "code",
   "execution_count": 15,
   "metadata": {},
   "outputs": [
    {
     "name": "stdout",
     "output_type": "stream",
     "text": [
      "[[ 2400.33203125]\n",
      " [ 2438.0390625 ]\n",
      " [ 2425.10449219]\n",
      " ..., \n",
      " [ 2440.37060547]\n",
      " [ 2466.08959961]\n",
      " [ 2434.96508789]]\n"
     ]
    }
   ],
   "source": [
    "# prediction for 7616 test data\n",
    "\n",
    "result=sess.run(model, feed_dict={X: xtest})\n",
    "result_=(result*y_data2_std)+y_data2_mean\n",
    "\n",
    "print(result_)"
   ]
  },
  {
   "cell_type": "code",
   "execution_count": 23,
   "metadata": {},
   "outputs": [],
   "source": [
    "# Accuracy measurement\n",
    "ytest_hat=list()\n",
    "\n",
    "for i in range(len(result_)):\n",
    "    ytest_hat.append(result_[i,][0])"
   ]
  },
  {
   "cell_type": "code",
   "execution_count": 24,
   "metadata": {
    "scrolled": true
   },
   "outputs": [
    {
     "data": {
      "text/plain": [
       "2448.7715"
      ]
     },
     "execution_count": 24,
     "metadata": {},
     "output_type": "execute_result"
    }
   ],
   "source": [
    "rmse_test1 = np.sqrt( ((ytest-ytest_hat)**2).mean() )\n",
    "rmse_test1"
   ]
  }
 ],
 "metadata": {
  "kernelspec": {
   "display_name": "Python 3",
   "language": "python",
   "name": "python3"
  },
  "language_info": {
   "codemirror_mode": {
    "name": "ipython",
    "version": 3
   },
   "file_extension": ".py",
   "mimetype": "text/x-python",
   "name": "python",
   "nbconvert_exporter": "python",
   "pygments_lexer": "ipython3",
   "version": "3.6.7"
  }
 },
 "nbformat": 4,
 "nbformat_minor": 2
}
