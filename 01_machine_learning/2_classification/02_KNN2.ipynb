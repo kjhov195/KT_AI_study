{
 "cells": [
  {
   "cell_type": "code",
   "execution_count": 1,
   "metadata": {},
   "outputs": [],
   "source": [
    "import random\n",
    "import math\n",
    "import numpy as np\n",
    "import matplotlib.pyplot as plt"
   ]
  },
  {
   "cell_type": "code",
   "execution_count": 2,
   "metadata": {},
   "outputs": [],
   "source": [
    "def calc_distance(x, y):\n",
    "        return math.sqrt(math.pow((y[0] - x[0]), 2) + math.pow((y[1]-x[1]), 2))"
   ]
  },
  {
   "cell_type": "markdown",
   "metadata": {},
   "source": [
    "# data"
   ]
  },
  {
   "cell_type": "code",
   "execution_count": 3,
   "metadata": {},
   "outputs": [],
   "source": [
    "# group A, B\n",
    "a = np.ones((10,2))\n",
    "b = np.ones((10,2))\n",
    "\n",
    "for i in range(10):\n",
    "    a[i] = [random.randrange(10,20),random.randrange(10,20)]\n",
    "    b[i] = [random.randrange(20,30),random.randrange(20,30)]"
   ]
  },
  {
   "cell_type": "code",
   "execution_count": 4,
   "metadata": {},
   "outputs": [
    {
     "data": {
      "image/png": "[encoded data removed]",
      "text/plain": [
       "<Figure size 432x288 with 1 Axes>"
      ]
     },
     "metadata": {
      "needs_background": "light"
     },
     "output_type": "display_data"
    }
   ],
   "source": [
    "for i in range(len(a)):\n",
    "    plt.plot(a[i][0], a[i][1], 'bo')\n",
    "    plt.plot(b[i][0], b[i][1], 'ro')"
   ]
  },
  {
   "cell_type": "markdown",
   "metadata": {},
   "source": [
    "# target"
   ]
  },
  {
   "cell_type": "code",
   "execution_count": 5,
   "metadata": {},
   "outputs": [],
   "source": [
    "# target\n",
    "key = [17,17]\n",
    "\n",
    "# K\n",
    "K = 7"
   ]
  },
  {
   "cell_type": "code",
   "execution_count": 14,
   "metadata": {},
   "outputs": [
    {
     "data": {
      "text/plain": [
       "[<matplotlib.lines.Line2D at 0x15041048cf8>]"
      ]
     },
     "execution_count": 14,
     "metadata": {},
     "output_type": "execute_result"
    },
    {
     "data": {
      "image/png": "[encoded data removed]",
      "text/plain": [
       "<Figure size 432x288 with 1 Axes>"
      ]
     },
     "metadata": {
      "needs_background": "light"
     },
     "output_type": "display_data"
    }
   ],
   "source": [
    "for i in range(len(a)):\n",
    "    plt.plot(a[i][0], a[i][1], 'bo')\n",
    "    plt.plot(b[i][0], b[i][1], 'ro')\n",
    "plt.plot(key[0], key[1], 'yo')"
   ]
  },
  {
   "cell_type": "code",
   "execution_count": 6,
   "metadata": {},
   "outputs": [],
   "source": [
    "# list of distance\n",
    "dis_a = []\n",
    "dis_b = []\n",
    "\n",
    "for n in range(10):\n",
    "    dis_a.append(calc_distance(key,a[n]))\n",
    "    dis_b.append(calc_distance(key,b[n]))"
   ]
  },
  {
   "cell_type": "code",
   "execution_count": 7,
   "metadata": {},
   "outputs": [
    {
     "name": "stdout",
     "output_type": "stream",
     "text": [
      "[2.23606797749979, 6.324555320336759, 5.0, 7.0, 5.0, 3.605551275463989, 2.0, 6.324555320336759, 8.06225774829855, 5.385164807134504]\n",
      "\n",
      "[11.704699910719626, 10.770329614269007, 13.45362404707371, 10.63014581273465, 10.44030650891055, 11.704699910719626, 9.433981132056603, 11.40175425099138, 15.620499351813308, 7.810249675906654]\n"
     ]
    }
   ],
   "source": [
    "print(dis_a, dis_b, sep=\"\\n\\n\")"
   ]
  },
  {
   "cell_type": "markdown",
   "metadata": {},
   "source": [
    "# KNN"
   ]
  },
  {
   "cell_type": "code",
   "execution_count": 8,
   "metadata": {},
   "outputs": [
    {
     "name": "stdout",
     "output_type": "stream",
     "text": [
      "Point Value :  [15. 17.] [22. 23.]\n",
      "Dist Value :  2.0 7.810249675906654\n",
      "\n",
      "Point Value :  [15. 18.] [22. 23.]\n",
      "Dist Value :  2.23606797749979 7.810249675906654\n",
      "\n",
      "Point Value :  [13. 14.] [22. 23.]\n",
      "Dist Value :  3.605551275463989 7.810249675906654\n",
      "\n",
      "Point Value :  [19. 11.] [22. 23.]\n",
      "Dist Value :  5.0 7.810249675906654\n",
      "\n",
      "Point Value :  [13. 14.] [22. 23.]\n",
      "Dist Value :  5.0 7.810249675906654\n",
      "\n",
      "Point Value :  [13. 14.] [22. 23.]\n",
      "Dist Value :  5.385164807134504 7.810249675906654\n",
      "\n",
      "Point Value :  [15. 18.] [22. 23.]\n",
      "Dist Value :  6.324555320336759 7.810249675906654\n",
      "\n",
      "7 ,  0\n"
     ]
    }
   ],
   "source": [
    "cnt_a = 0\n",
    "cnt_b = 0\n",
    "\n",
    "for k in range(K):\n",
    "    index_a = np.argmin(dis_a)\n",
    "    index_b = np.argmin(dis_b)\n",
    "\n",
    "    print(\"Point Value : \", a[index_a], b[index_b])\n",
    "    print(\"Dist Value : \" , dis_a[index_a], dis_b[index_b])\n",
    "    print()\n",
    "\n",
    "    # 최소값을 배열에서 삭제\n",
    "    if dis_a[index_a] < dis_b[index_b]:\n",
    "        cnt_a = cnt_a+1\n",
    "        dis_a = np.delete(dis_a, index_a)\n",
    "    elif dis_a[index_a] > dis_b[index_b]:\n",
    "        cnt_b = cnt_b+1\n",
    "        dis_b = np.delete(dis_b, index_b)\n",
    "    else :\n",
    "        cnt_a = cnt_a+1\n",
    "        dis_a = np.delete(dis_a, index_a)\n",
    "\n",
    "print(cnt_a, \", \", cnt_b)"
   ]
  },
  {
   "cell_type": "code",
   "execution_count": 9,
   "metadata": {},
   "outputs": [
    {
     "name": "stdout",
     "output_type": "stream",
     "text": [
      "This Key is in Group A\n"
     ]
    }
   ],
   "source": [
    "if cnt_a > cnt_b :\n",
    "    print(\"This Key is in Group A\")\n",
    "elif cnt_b > cnt_a :\n",
    "    print(\"This Kye is in Group B\")"
   ]
  }
 ],
 "metadata": {
  "kernelspec": {
   "display_name": "Python 3",
   "language": "python",
   "name": "python3"
  },
  "language_info": {
   "codemirror_mode": {
    "name": "ipython",
    "version": 3
   },
   "file_extension": ".py",
   "mimetype": "text/x-python",
   "name": "python",
   "nbconvert_exporter": "python",
   "pygments_lexer": "ipython3",
   "version": "3.6.7"
  }
 },
 "nbformat": 4,
 "nbformat_minor": 2
}
