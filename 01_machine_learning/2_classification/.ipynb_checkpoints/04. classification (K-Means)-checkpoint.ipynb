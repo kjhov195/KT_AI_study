{
 "cells": [
  {
   "cell_type": "code",
   "execution_count": 3,
   "metadata": {},
   "outputs": [],
   "source": [
    "import numpy as np\n",
    "import pandas as pd\n",
    "import random\n",
    "import math\n",
    "import matplotlib.pyplot as plt"
   ]
  },
  {
   "cell_type": "markdown",
   "metadata": {},
   "source": [
    "# 1. Creating 100 random x-y coordinates"
   ]
  },
  {
   "cell_type": "code",
   "execution_count": 5,
   "metadata": {},
   "outputs": [
    {
     "data": {
      "image/png": "[encoded data removed]",
      "text/plain": [
       "<Figure size 432x288 with 1 Axes>"
      ]
     },
     "metadata": {
      "needs_background": "light"
     },
     "output_type": "display_data"
    }
   ],
   "source": [
    "a=list()\n",
    "b=list()\n",
    "c=list()\n",
    "d=list()\n",
    "\n",
    "for i in range(0, 100):\n",
    "        x_a=np.random.uniform(0, 50)\n",
    "        y_a=np.random.uniform(0, 50)\n",
    "        c.append((x_a, y_a))\n",
    "        \n",
    "for i in range(len(c)):\n",
    "    plt.plot(c[i][0], c[i][1], 'bo')\n",
    "plt.xlim(0, 50)\n",
    "plt.ylim(0, 50)\n",
    "plt.show()"
   ]
  },
  {
   "cell_type": "markdown",
   "metadata": {},
   "source": [
    "# 2. K"
   ]
  },
  {
   "cell_type": "code",
   "execution_count": 6,
   "metadata": {},
   "outputs": [
    {
     "data": {
      "text/plain": [
       "7"
      ]
     },
     "execution_count": 6,
     "metadata": {},
     "output_type": "execute_result"
    }
   ],
   "source": [
    "k=random.randint(3,7)\n",
    "k"
   ]
  },
  {
   "cell_type": "markdown",
   "metadata": {},
   "source": [
    "# 3. selecting k dots"
   ]
  },
  {
   "cell_type": "code",
   "execution_count": 11,
   "metadata": {},
   "outputs": [
    {
     "data": {
      "text/plain": [
       "[(7.865796745896109, 46.82305469513297),\n",
       " (22.17127322300911, 35.71451979481247),\n",
       " (11.792417720492177, 36.79982311678728),\n",
       " (45.81760654329274, 23.568179266035553),\n",
       " (25.64040733344194, 14.957757988957464),\n",
       " (20.968469535780777, 18.94095789176129),\n",
       " (14.769743591356521, 45.22230202674109)]"
      ]
     },
     "execution_count": 11,
     "metadata": {},
     "output_type": "execute_result"
    }
   ],
   "source": [
    "k_sel=c[:k]\n",
    "c_sel=list(set(c).difference(set(k_sel)))\n",
    "\n",
    "# set(a).difference(set(b)) : list의 차집합 개념.\n",
    "# 이미 c의 좌표들이 randomly distributed이므로, 0:k columns를 가져오면 된다.\n",
    "k_sel"
   ]
  },
  {
   "cell_type": "code",
   "execution_count": 13,
   "metadata": {},
   "outputs": [
    {
     "name": "stdout",
     "output_type": "stream",
     "text": [
      "7 93\n"
     ]
    }
   ],
   "source": [
    "print(len(k_sel), len(c_sel))"
   ]
  },
  {
   "cell_type": "code",
   "execution_count": 14,
   "metadata": {},
   "outputs": [
    {
     "data": {
      "image/png": "[encoded data removed]",
      "text/plain": [
       "<Figure size 432x288 with 1 Axes>"
      ]
     },
     "metadata": {
      "needs_background": "light"
     },
     "output_type": "display_data"
    }
   ],
   "source": [
    "for i in range(len(k_sel)):\n",
    "    plt.plot(k_sel[i][0], k_sel[i][1], 'ro')\n",
    "plt.xlim(0, 50)\n",
    "plt.ylim(0, 50)\n",
    "plt.show()"
   ]
  },
  {
   "cell_type": "code",
   "execution_count": 7,
   "metadata": {},
   "outputs": [
    {
     "data": {
      "text/plain": [
       "'\\n4. clustering\\n'"
      ]
     },
     "execution_count": 7,
     "metadata": {},
     "output_type": "execute_result"
    }
   ],
   "source": [
    "'''\n",
    "4. clustering\n",
    "'''"
   ]
  },
  {
   "cell_type": "code",
   "execution_count": 8,
   "metadata": {},
   "outputs": [],
   "source": [
    "#np.argmin : 배열의 몇 번째 위치가 minimum이 되도록 하는가\n",
    "\n",
    "for v in range(10): \n",
    "\n",
    "    distance_list=list()\n",
    "    min_distance=list()\n",
    "\n",
    "    for j in range(len(c_sel)):\n",
    "        for i in range(k):\n",
    "            distance=np.sqrt((k_sel[i][0]-c_sel[j][0])**2+(k_sel[i][1]-c_sel[j][1])**2)        \n",
    "            distance_list.append(distance)\n",
    "\n",
    "        min_distance.append(np.argmin(distance_list))\n",
    "\n",
    "        distance_list=list()\n",
    "\n",
    "    k_sel=list()\n",
    "\n",
    "    for i in range(k):\n",
    "        x_mean=np.mean(c_sel[min_distance.index(i)][0])\n",
    "        y_mean=np.mean(c_sel[min_distance.index(i)][1])\n",
    "        k_sel.append((x_mean, y_mean))\n"
   ]
  },
  {
   "cell_type": "code",
   "execution_count": 9,
   "metadata": {},
   "outputs": [
    {
     "data": {
      "text/plain": [
       "[(45.34713315356647, 40.19785784658095),\n",
       " (14.966167936911672, 26.60631642165363),\n",
       " (32.51135762765427, 44.42651165357346),\n",
       " (32.31131098423446, 13.866883195654516),\n",
       " (28.70214305310881, 38.22351679485895),\n",
       " (46.20660750396233, 11.484085924655979)]"
      ]
     },
     "execution_count": 9,
     "metadata": {},
     "output_type": "execute_result"
    }
   ],
   "source": [
    "k_sel"
   ]
  },
  {
   "cell_type": "code",
   "execution_count": 10,
   "metadata": {
    "scrolled": true
   },
   "outputs": [
    {
     "data": {
      "image/png": "[encoded data removed]",
      "text/plain": [
       "<matplotlib.figure.Figure at 0x7f234769ef98>"
      ]
     },
     "metadata": {},
     "output_type": "display_data"
    }
   ],
   "source": [
    "for i in range(len(k_sel)):\n",
    "    plt.plot(k_sel[i][0], k_sel[i][1], 'ro')\n",
    "plt.xlim(0, 50)\n",
    "plt.ylim(0, 50)\n",
    "plt.show()"
   ]
  },
  {
   "cell_type": "code",
   "execution_count": 11,
   "metadata": {},
   "outputs": [
    {
     "data": {
      "text/plain": [
       "100"
      ]
     },
     "execution_count": 11,
     "metadata": {},
     "output_type": "execute_result"
    }
   ],
   "source": [
    "len(c)"
   ]
  }
 ],
 "metadata": {
  "kernelspec": {
   "display_name": "Python 3",
   "language": "python",
   "name": "python3"
  },
  "language_info": {
   "codemirror_mode": {
    "name": "ipython",
    "version": 3
   },
   "file_extension": ".py",
   "mimetype": "text/x-python",
   "name": "python",
   "nbconvert_exporter": "python",
   "pygments_lexer": "ipython3",
   "version": "3.6.7"
  }
 },
 "nbformat": 4,
 "nbformat_minor": 2
}
