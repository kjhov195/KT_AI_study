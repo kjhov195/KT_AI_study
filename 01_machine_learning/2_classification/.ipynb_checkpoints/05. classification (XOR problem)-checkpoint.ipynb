{
 "cells": [
  {
   "cell_type": "code",
   "execution_count": 1,
   "metadata": {
    "scrolled": true
   },
   "outputs": [],
   "source": [
    "import tensorflow as tf\n",
    "import numpy as np\n",
    "import pandas as pd"
   ]
  },
  {
   "cell_type": "code",
   "execution_count": 2,
   "metadata": {},
   "outputs": [],
   "source": [
    "x_data = [[0,0], [1,0], [0,1], [1,1]]\n",
    "y_data = [[0], [1], [1], [0]]"
   ]
  },
  {
   "cell_type": "code",
   "execution_count": 3,
   "metadata": {},
   "outputs": [],
   "source": [
    "X= tf.placeholder(tf.float32, shape=[None, 2])\n",
    "Y= tf.placeholder(tf.float32, shape=[None, 1])"
   ]
  },
  {
   "cell_type": "code",
   "execution_count": 4,
   "metadata": {},
   "outputs": [],
   "source": [
    "W= tf.Variable(tf.random_normal([2, 1]), name='weight')\n",
    "b= tf.Variable(tf.random_normal([1]), name='bias')\n",
    "\n",
    "model= tf.add(tf.matmul(X, W), b) #linear regression\n",
    "model= tf.sigmoid(model) # Logistic(sigmoid)\n",
    "\n",
    "cost= tf.reduce_mean((-1)*Y*tf.log(model)+(-1)*(1-Y)*tf.log(1-model))\n",
    "\n",
    "train=tf.train.GradientDescentOptimizer(learning_rate=0.01).minimize(cost)\n",
    "\n",
    "prediction = tf.cast(model>0.5, dtype=tf.float32)\n",
    "accuracy= tf.reduce_mean(tf.cast(tf.equal(prediction, Y), dtype=tf.float32))"
   ]
  },
  {
   "cell_type": "code",
   "execution_count": 5,
   "metadata": {},
   "outputs": [],
   "source": [
    "sess= tf.Session()\n",
    "sess.run(tf.global_variables_initializer())"
   ]
  },
  {
   "cell_type": "code",
   "execution_count": 6,
   "metadata": {
    "scrolled": true
   },
   "outputs": [
    {
     "name": "stdout",
     "output_type": "stream",
     "text": [
      "0 1.3574015\n",
      "200 0.96078074\n",
      "400 0.78274107\n",
      "600 0.72668123\n",
      "800 0.7107124\n",
      "1000 0.7051207\n",
      "1200 0.7022597\n",
      "1400 0.7003256\n",
      "1600 0.6988603\n",
      "1800 0.69771063\n",
      "2000 0.6967995\n",
      "2200 0.69607526\n",
      "2400 0.6954985\n",
      "2600 0.69503874\n",
      "2800 0.69467163\n",
      "3000 0.69437814\n",
      "3200 0.6941432\n",
      "3400 0.6939547\n",
      "3600 0.69380325\n",
      "3800 0.69368136\n",
      "4000 0.693583\n",
      "4200 0.69350356\n",
      "4400 0.6934393\n",
      "4600 0.693387\n",
      "4800 0.6933445\n",
      "5000 0.6933099\n",
      "5200 0.69328165\n",
      "5400 0.6932585\n",
      "5600 0.69323957\n",
      "5800 0.69322395\n",
      "6000 0.6932111\n",
      "6200 0.69320047\n",
      "6400 0.69319165\n",
      "6600 0.69318444\n",
      "6800 0.69317836\n",
      "7000 0.69317335\n",
      "7200 0.6931692\n",
      "7400 0.6931657\n",
      "7600 0.6931627\n",
      "7800 0.6931603\n",
      "8000 0.69315827\n",
      "8200 0.69315654\n",
      "8400 0.6931551\n",
      "8600 0.69315386\n",
      "8800 0.69315284\n",
      "9000 0.69315195\n",
      "9200 0.69315124\n",
      "9400 0.69315064\n",
      "9600 0.69315016\n",
      "9800 0.6931497\n",
      "10000 0.6931493\n"
     ]
    }
   ],
   "source": [
    "## training\n",
    "\n",
    "for step in range(10001):\n",
    "    cost_val, _=sess.run([cost, train], feed_dict={X:x_data, Y:y_data})\n",
    "    if step % 200 == 0:\n",
    "        print(step, cost_val)"
   ]
  },
  {
   "cell_type": "code",
   "execution_count": 7,
   "metadata": {},
   "outputs": [
    {
     "name": "stdout",
     "output_type": "stream",
     "text": [
      "\n",
      "Model:\n",
      " [[0.5016258 ]\n",
      " [0.49991253]\n",
      " [0.5005978 ]\n",
      " [0.4988845 ]] \n",
      "Correct:\n",
      "  [[1.]\n",
      " [0.]\n",
      " [1.]\n",
      " [0.]] \n",
      "Accuracy:\n",
      "  0.5\n"
     ]
    }
   ],
   "source": [
    "## testing (training set)\n",
    "\n",
    "h, c, a = sess.run([model, prediction, accuracy], feed_dict={X:x_data, Y:y_data})\n",
    "print(\"\\nModel:\\n\", h, \"\\nCorrect:\\n \", c, \"\\nAccuracy:\\n \", a)"
   ]
  }
 ],
 "metadata": {
  "kernelspec": {
   "display_name": "Python 3",
   "language": "python",
   "name": "python3"
  },
  "language_info": {
   "codemirror_mode": {
    "name": "ipython",
    "version": 3
   },
   "file_extension": ".py",
   "mimetype": "text/x-python",
   "name": "python",
   "nbconvert_exporter": "python",
   "pygments_lexer": "ipython3",
   "version": "3.6.7"
  }
 },
 "nbformat": 4,
 "nbformat_minor": 2
}
