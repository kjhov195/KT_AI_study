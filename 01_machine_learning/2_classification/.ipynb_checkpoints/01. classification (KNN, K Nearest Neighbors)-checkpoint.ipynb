{
 "cells": [
  {
   "cell_type": "code",
   "execution_count": 1,
   "metadata": {},
   "outputs": [],
   "source": [
    "import pandas as pd\n",
    "import numpy as np\n",
    "import matplotlib.pyplot as plt\n",
    "import random"
   ]
  },
  {
   "cell_type": "markdown",
   "metadata": {},
   "source": [
    "# 1. Creating 50 random x-y coordinates"
   ]
  },
  {
   "cell_type": "code",
   "execution_count": 3,
   "metadata": {},
   "outputs": [],
   "source": [
    "a=list()\n",
    "b=list()\n",
    "c=list()\n",
    "d=list()\n",
    "\n",
    "for i in range(0, 50):\n",
    "        x_a=np.random.uniform(10, 20)\n",
    "        y_a=np.random.uniform(10, 20)\n",
    "        x_b=np.random.uniform(20, 30)\n",
    "        y_b=np.random.uniform(20, 30)\n",
    "        c.append((x_a, y_a))\n",
    "        d.append((x_b, y_b))"
   ]
  },
  {
   "cell_type": "code",
   "execution_count": 4,
   "metadata": {},
   "outputs": [
    {
     "data": {
      "image/png": "[encoded data removed]",
      "text/plain": [
       "<Figure size 432x288 with 1 Axes>"
      ]
     },
     "metadata": {
      "needs_background": "light"
     },
     "output_type": "display_data"
    }
   ],
   "source": [
    "for i in range(len(c)):\n",
    "    plt.plot(c[i][0], c[i][1], 'bo')\n",
    "    plt.plot(d[i][0], d[i][1], 'ro')\n",
    "plt.xlim(0, 40)\n",
    "plt.ylim(0, 40)\n",
    "plt.show()"
   ]
  },
  {
   "cell_type": "markdown",
   "metadata": {},
   "source": [
    "# 2. 5 random keys"
   ]
  },
  {
   "cell_type": "code",
   "execution_count": 6,
   "metadata": {
    "scrolled": false
   },
   "outputs": [
    {
     "data": {
      "image/png": "[encoded data removed]",
      "text/plain": [
       "<Figure size 432x288 with 1 Axes>"
      ]
     },
     "metadata": {
      "needs_background": "light"
     },
     "output_type": "display_data"
    }
   ],
   "source": [
    "key=list()\n",
    "k=random.randint(2, 5)*2-1\n",
    "\n",
    "for i in range(0, 5):\n",
    "    x_key=np.random.uniform(0, 40)\n",
    "    y_key=np.random.uniform(0, 40)\n",
    "    key.append((x_key, y_key))\n",
    "\n",
    "for i in range(len(key)):\n",
    "    plt.plot(key[i][0], key[i][1], 'go')\n",
    "plt.xlim(0, 40)\n",
    "plt.ylim(0, 40)\n",
    "plt.show()"
   ]
  },
  {
   "cell_type": "code",
   "execution_count": 8,
   "metadata": {},
   "outputs": [
    {
     "data": {
      "image/png": "[encoded data removed]",
      "text/plain": [
       "<Figure size 432x288 with 1 Axes>"
      ]
     },
     "metadata": {
      "needs_background": "light"
     },
     "output_type": "display_data"
    }
   ],
   "source": [
    "# plot graphs simultaneously\n",
    "for i in range(len(c)):\n",
    "    plt.plot(c[i][0], c[i][1], 'bo')\n",
    "    plt.plot(d[i][0], d[i][1], 'ro')\n",
    "\n",
    "for i in range(len(key)):\n",
    "    plt.plot(key[i][0], key[i][1], 'go')\n",
    "plt.xlim(0, 40)\n",
    "plt.ylim(0, 40)\n",
    "plt.show()"
   ]
  },
  {
   "cell_type": "markdown",
   "metadata": {},
   "source": [
    "# 3. clustering with KNN"
   ]
  },
  {
   "cell_type": "code",
   "execution_count": 10,
   "metadata": {},
   "outputs": [],
   "source": [
    "def KNN():\n",
    "    final=list()\n",
    "    for j in range(0, len(key)):\n",
    "        c_distance=list()\n",
    "        d_distance=list()\n",
    "        all_distance=list()\n",
    "        k_all_distance=list()\n",
    "        result=list()\n",
    "        count_list=list()\n",
    "\n",
    "        for w in range(len(c)):\n",
    "            distance=np.sqrt((key[j][0]-c[w][0])**2+(key[j][1]-c[w][1])**2)\n",
    "            c_distance.append(distance)\n",
    "            all_distance.append(distance)\n",
    "\n",
    "        for l in range(len(d)):\n",
    "            distance=np.sqrt((key[j][0]-d[l][0])**2+(key[j][1]-d[l][1])**2)\n",
    "            d_distance.append(distance)\n",
    "            all_distance.append(distance)\n",
    "\n",
    "        list.sort(all_distance)\n",
    "\n",
    "        for i in range(0, k):\n",
    "            if c_distance.count(all_distance[i]) == 1:\n",
    "                count_list.append('Group C')\n",
    "            else:\n",
    "                count_list.append('Group D')\n",
    "\n",
    "        if count_list.count('Group D')>count_list.count('Group C'):\n",
    "            final.append('Group D')\n",
    "        else:\n",
    "            final.append('Group C')\n",
    "\n",
    "    print('Group C는 ', final.count('Group C'), '개, Group D는', final.count('Group D'), '개입니다.')"
   ]
  },
  {
   "cell_type": "code",
   "execution_count": 12,
   "metadata": {},
   "outputs": [
    {
     "name": "stdout",
     "output_type": "stream",
     "text": [
      "Group C는  2 개, Group D는 3 개입니다.\n"
     ]
    }
   ],
   "source": [
    "KNN()"
   ]
  }
 ],
 "metadata": {
  "kernelspec": {
   "display_name": "Python 3",
   "language": "python",
   "name": "python3"
  },
  "language_info": {
   "codemirror_mode": {
    "name": "ipython",
    "version": 3
   },
   "file_extension": ".py",
   "mimetype": "text/x-python",
   "name": "python",
   "nbconvert_exporter": "python",
   "pygments_lexer": "ipython3",
   "version": "3.6.7"
  }
 },
 "nbformat": 4,
 "nbformat_minor": 2
}
