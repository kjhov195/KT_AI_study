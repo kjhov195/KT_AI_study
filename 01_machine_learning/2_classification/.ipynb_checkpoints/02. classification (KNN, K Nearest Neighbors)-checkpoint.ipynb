{
 "cells": [
  {
   "cell_type": "code",
   "execution_count": 1,
   "metadata": {},
   "outputs": [],
   "source": [
    "import pandas as pd\n",
    "import numpy as np\n",
    "import matplotlib.pyplot as plt\n",
    "import random"
   ]
  },
  {
   "cell_type": "markdown",
   "metadata": {},
   "source": [
    "# 1. Creating 100 random x-y coordinates"
   ]
  },
  {
   "cell_type": "code",
   "execution_count": 5,
   "metadata": {},
   "outputs": [],
   "source": [
    "a=list()\n",
    "b=list()\n",
    "c=list()\n",
    "d=list()\n",
    "\n",
    "for i in range(0, 50):\n",
    "        a_a=np.random.uniform(10, 20)\n",
    "        b_a=np.random.uniform(10, 20)\n",
    "        c_a=np.random.uniform(10, 20)\n",
    "        d_a=np.random.uniform(10, 20)\n",
    "        e_a=np.random.uniform(10, 20)\n",
    "        f_a=np.random.uniform(10, 20)\n",
    "        g_a=np.random.uniform(10, 20)\n",
    "        h_a=np.random.uniform(10, 20)\n",
    "        i_a=np.random.uniform(10, 20)\n",
    "        j_a=np.random.uniform(10, 20)\n",
    "        \n",
    "        a_b=np.random.uniform(20, 30)\n",
    "        b_b=np.random.uniform(20, 30)\n",
    "        c_b=np.random.uniform(20, 30)\n",
    "        d_b=np.random.uniform(20, 30)\n",
    "        e_b=np.random.uniform(20, 30)\n",
    "        f_b=np.random.uniform(20, 30)\n",
    "        g_b=np.random.uniform(20, 30)\n",
    "        h_b=np.random.uniform(20, 30)\n",
    "        i_b=np.random.uniform(20, 30)\n",
    "        j_b=np.random.uniform(20, 30)\n",
    "        \n",
    "        c.append((a_a, b_a, c_a, d_a, e_a, f_a, g_a, h_a, i_a, j_a))\n",
    "        d.append((a_a, b_a, c_a, d_a, e_a, f_a, g_a, h_a, i_a, j_a))"
   ]
  },
  {
   "cell_type": "markdown",
   "metadata": {},
   "source": [
    "# 2. 5 random keys"
   ]
  },
  {
   "cell_type": "code",
   "execution_count": 6,
   "metadata": {},
   "outputs": [],
   "source": [
    "key=list()\n",
    "\n",
    "k=random.randint(2, 5)*2-1\n",
    "\n",
    "for i in range(0, 5):\n",
    "    a_key=np.random.uniform(0, 40)\n",
    "    b_key=np.random.uniform(0, 40)\n",
    "    c_key=np.random.uniform(0, 40)\n",
    "    d_key=np.random.uniform(0, 40)\n",
    "    e_key=np.random.uniform(0, 40)\n",
    "    f_key=np.random.uniform(0, 40)\n",
    "    g_key=np.random.uniform(0, 40)\n",
    "    h_key=np.random.uniform(0, 40)\n",
    "    i_key=np.random.uniform(0, 40)\n",
    "    j_key=np.random.uniform(0, 40)\n",
    "    key.append((a_key, b_key, c_key, d_key, e_key, f_key, g_key, h_key, i_key, j_key))"
   ]
  },
  {
   "cell_type": "markdown",
   "metadata": {},
   "source": [
    "# 3. clustering with KNN"
   ]
  },
  {
   "cell_type": "code",
   "execution_count": 8,
   "metadata": {},
   "outputs": [
    {
     "name": "stdout",
     "output_type": "stream",
     "text": [
      "Group C는  3 개, Group D는 2 개입니다.\n"
     ]
    }
   ],
   "source": [
    "final=list()\n",
    "\n",
    "for j in range(0, len(key)):  \n",
    "    c_distance=list()\n",
    "    d_distance=list()\n",
    "    all_distance=list()\n",
    "    k_all_distance=list()\n",
    "    result=list()\n",
    "    count_list=list()\n",
    "    sse_x=0\n",
    "    sse_y=0\n",
    "    \n",
    "    for w in range(len(c)):\n",
    "        for x in range(10):\n",
    "            sse_x +=(key[j][x]-c[w][x])**2 \n",
    "        distance=np.sqrt(sse_x)\n",
    "        c_distance.append(distance)\n",
    "        all_distance.append(distance)\n",
    "\n",
    "    for l in range(len(d)):\n",
    "        for y in range(10):\n",
    "            sse_y +=(key[j][y]-d[w][y])**2 \n",
    "        distance=np.sqrt(sse_y)\n",
    "        d_distance.append(distance)\n",
    "        all_distance.append(distance)\n",
    "    \n",
    "    list.sort(all_distance)\n",
    "    \n",
    "    for i in range(0, k):\n",
    "        if c_distance.count(all_distance[i]) == 1:\n",
    "            count_list.append('Group C')\n",
    "        else:\n",
    "            count_list.append('Group D')\n",
    "\n",
    "    if count_list.count('Group D')>count_list.count('Group C'):\n",
    "        final.append('Group D')\n",
    "    else:\n",
    "        final.append('Group C')\n",
    "        \n",
    "print('Group C는 ', final.count('Group C'), '개, Group D는', final.count('Group D'), '개입니다.')"
   ]
  }
 ],
 "metadata": {
  "kernelspec": {
   "display_name": "Python 3",
   "language": "python",
   "name": "python3"
  },
  "language_info": {
   "codemirror_mode": {
    "name": "ipython",
    "version": 3
   },
   "file_extension": ".py",
   "mimetype": "text/x-python",
   "name": "python",
   "nbconvert_exporter": "python",
   "pygments_lexer": "ipython3",
   "version": "3.6.7"
  }
 },
 "nbformat": 4,
 "nbformat_minor": 2
}
