{
 "cells": [
  {
   "cell_type": "code",
   "execution_count": 1,
   "metadata": {},
   "outputs": [],
   "source": [
    "import tensorflow as tf\n",
    "import numpy as np\n",
    "import pandas as pd"
   ]
  },
  {
   "cell_type": "markdown",
   "metadata": {},
   "source": [
    "# problem"
   ]
  },
  {
   "cell_type": "code",
   "execution_count": 2,
   "metadata": {},
   "outputs": [
    {
     "data": {
      "text/plain": [
       "'\\nQ. check whether given datas are [0,0,1] or [0,1,0] or [1,0,0] respectively.\\n'"
      ]
     },
     "execution_count": 2,
     "metadata": {},
     "output_type": "execute_result"
    }
   ],
   "source": [
    "'''\n",
    "Q. check whether given datas are [0,0,1] or [0,1,0] or [1,0,0] respectively.\n",
    "'''"
   ]
  },
  {
   "cell_type": "code",
   "execution_count": 3,
   "metadata": {},
   "outputs": [],
   "source": [
    "x_data = [[1,2,1,1], [2,1,3,2], [3,1,3,4], [4,1,5,5], [1,7,5,5],[1,2,5,6],[1,6,6,6],[1,7,7,7]]\n",
    "y_data = [[0,0,1], [0,0,1], [0,0,1], [0,1,0], [0,1,0], [0,1,0], [1,0,0], [1,0,0]]"
   ]
  },
  {
   "cell_type": "code",
   "execution_count": 4,
   "metadata": {},
   "outputs": [],
   "source": [
    "# x_data의 dimension=4\n",
    "dimx=4\n",
    "# y_data의 dimension=3\n",
    "dimy=3"
   ]
  },
  {
   "cell_type": "markdown",
   "metadata": {},
   "source": [
    "# solution"
   ]
  },
  {
   "cell_type": "code",
   "execution_count": 5,
   "metadata": {},
   "outputs": [],
   "source": [
    "X= tf.placeholder(tf.float32, shape=[None, dimx])\n",
    "Y= tf.placeholder(tf.float32, shape=[None, dimy])\n",
    "\n",
    "W= tf.Variable(tf.random_normal([dimx, dimy]), name='weight')\n",
    "b= tf.Variable(tf.random_normal([dimy]), name='bias')\n",
    "\n",
    "model= tf.nn.softmax(tf.add(tf.matmul(X, W), b)) #linear regression\n",
    "cost= tf.reduce_mean(tf.reduce_sum((-1)*Y*tf.log(model), axis=1))\n",
    "train=tf.train.GradientDescentOptimizer(learning_rate=0.20).minimize(cost)"
   ]
  },
  {
   "cell_type": "code",
   "execution_count": 6,
   "metadata": {
    "scrolled": true
   },
   "outputs": [
    {
     "name": "stdout",
     "output_type": "stream",
     "text": [
      "0 4.7362585\n",
      "200 1.401448\n",
      "400 1.1615798\n",
      "600 0.9434612\n",
      "800 0.74945974\n",
      "1000 0.56057197\n",
      "1200 0.088108726\n",
      "1400 0.07985258\n",
      "1600 0.07347649\n",
      "1800 0.06822955\n",
      "2000 0.06378271\n"
     ]
    }
   ],
   "source": [
    "sess= tf.Session()\n",
    "sess.run(tf.global_variables_initializer())\n",
    "\n",
    "for step in range(2001):\n",
    "    cost_val_, _=sess.run([cost, train], feed_dict={X:x_data, Y:y_data})\n",
    "    if step % 200 == 0:\n",
    "        print(step, sess.run(cost, feed_dict={X:x_data, Y:y_data}))"
   ]
  },
  {
   "cell_type": "markdown",
   "metadata": {},
   "source": [
    "# testing"
   ]
  },
  {
   "cell_type": "code",
   "execution_count": 7,
   "metadata": {},
   "outputs": [],
   "source": [
    "testdata1=[1, 11, 7, 9]\n",
    "testdata2=[1, 3, 4, 3]\n",
    "testdata3=[1, 1, 0, 1]\n",
    "testdata=[testdata1, testdata2, testdata3] "
   ]
  },
  {
   "cell_type": "code",
   "execution_count": 8,
   "metadata": {},
   "outputs": [
    {
     "name": "stdout",
     "output_type": "stream",
     "text": [
      "[[2.2965301e-05 9.9997628e-01 6.9530859e-07]\n",
      " [9.8101509e-01 1.7848538e-02 1.1363304e-03]\n",
      " [2.0241724e-13 1.3628941e-05 9.9998641e-01]] [2 1 3] 번째\n"
     ]
    }
   ],
   "source": [
    "result=sess.run(model, feed_dict={X: testdata})\n",
    "print(result, sess.run(tf.argmax(result, 1))+1, \"번째\")"
   ]
  }
 ],
 "metadata": {
  "kernelspec": {
   "display_name": "Python 3",
   "language": "python",
   "name": "python3"
  },
  "language_info": {
   "codemirror_mode": {
    "name": "ipython",
    "version": 3
   },
   "file_extension": ".py",
   "mimetype": "text/x-python",
   "name": "python",
   "nbconvert_exporter": "python",
   "pygments_lexer": "ipython3",
   "version": "3.6.7"
  }
 },
 "nbformat": 4,
 "nbformat_minor": 2
}
