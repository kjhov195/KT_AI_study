{
 "cells": [
  {
   "cell_type": "code",
   "execution_count": 1,
   "metadata": {
    "scrolled": true
   },
   "outputs": [],
   "source": [
    "import tensorflow as tf\n",
    "import numpy as np\n",
    "import pandas as pd"
   ]
  },
  {
   "cell_type": "markdown",
   "metadata": {},
   "source": [
    "# Problem"
   ]
  },
  {
   "cell_type": "code",
   "execution_count": 2,
   "metadata": {},
   "outputs": [
    {
     "data": {
      "text/plain": [
       "'\\ncheck whether given [9,9,9,9,9], [0,0,0,0,0], [10,10,10,10,10] are 0 or 1 respectively.\\n'"
      ]
     },
     "execution_count": 2,
     "metadata": {},
     "output_type": "execute_result"
    }
   ],
   "source": [
    "'''\n",
    "check whether given [9,9,9,9,9], [0,0,0,0,0], [10,10,10,10,10] are 0 or 1 respectively.\n",
    "'''"
   ]
  },
  {
   "cell_type": "code",
   "execution_count": 3,
   "metadata": {},
   "outputs": [],
   "source": [
    "x_data = [[1,1,1,1,1], [2,2,2,2,2], [3,3,3,3,3], [4,4,4,4,4], [5,5,5,5,5], [6,6,6,6,6], [7,7,7,7,7]]\n",
    "y_data = [[0], [0], [0], [1], [1], [1], [1]]"
   ]
  },
  {
   "cell_type": "markdown",
   "metadata": {},
   "source": [
    "# solution"
   ]
  },
  {
   "cell_type": "code",
   "execution_count": 4,
   "metadata": {},
   "outputs": [],
   "source": [
    "X= tf.placeholder(tf.float32, shape=[None, 5]) #dim of x_data = 5\n",
    "Y= tf.placeholder(tf.float32, shape=[None, 1])\n",
    "\n",
    "W= tf.Variable(tf.random_normal([5, 1]), name='weight')\n",
    "b= tf.Variable(tf.random_normal([1]), name='bias')\n",
    "\n",
    "model= tf.add(tf.matmul(X, W), b) #linear regression\n",
    "model= tf.sigmoid(model) # Logistic(sigmoid)\n",
    "\n",
    "cost= tf.reduce_mean((-1)*Y*tf.log(model)+(-1)*(1-Y)*tf.log(1-model))\n",
    "\n",
    "train=tf.train.GradientDescentOptimizer(learning_rate=0.15).minimize(cost)\n",
    "\n",
    "prediction = tf.cast(model>0.5, dtype=tf.float32)\n",
    "accuracy= tf.reduce_mean(tf.cast(tf.equal(prediction, Y), dtype=tf.float32))"
   ]
  },
  {
   "cell_type": "code",
   "execution_count": 5,
   "metadata": {
    "scrolled": true
   },
   "outputs": [
    {
     "name": "stdout",
     "output_type": "stream",
     "text": [
      "0 1.7290534\n",
      "200 0.22636566\n",
      "400 0.16698685\n",
      "600 0.13857782\n",
      "800 0.12108304\n",
      "1000 0.108844474\n",
      "1200 0.0996074\n",
      "1400 0.09227841\n",
      "1600 0.0862553\n",
      "1800 0.08117544\n",
      "2000 0.07680518\n",
      "2200 0.07298628\n",
      "2400 0.06960694\n",
      "2600 0.066585295\n",
      "2800 0.063860156\n",
      "3000 0.061384458\n",
      "3200 0.059121132\n",
      "3400 0.057040814\n",
      "3600 0.055119544\n",
      "3800 0.053337723\n",
      "4000 0.051679123\n",
      "4200 0.050130066\n",
      "4400 0.048679028\n",
      "4600 0.047316123\n",
      "4800 0.046032853\n",
      "5000 0.04482188\n",
      "5200 0.04367673\n",
      "5400 0.042591758\n",
      "5600 0.041561995\n",
      "5800 0.04058316\n",
      "6000 0.03965125\n",
      "6200 0.038762715\n",
      "6400 0.037914492\n",
      "6600 0.03710378\n",
      "6800 0.036327947\n",
      "7000 0.035584647\n",
      "7200 0.03487187\n",
      "7400 0.03418767\n",
      "7600 0.033530287\n",
      "7800 0.03289803\n",
      "8000 0.03228962\n",
      "8200 0.03170352\n",
      "8400 0.03113852\n",
      "8600 0.030593531\n",
      "8800 0.030067379\n",
      "9000 0.02955919\n",
      "9200 0.029067954\n",
      "9400 0.028592853\n",
      "9600 0.028133085\n",
      "9800 0.027687898\n",
      "10000 0.02725651\n"
     ]
    }
   ],
   "source": [
    "sess= tf.Session()\n",
    "sess.run(tf.global_variables_initializer())\n",
    "\n",
    "for step in range(10001):\n",
    "    cost_val, _=sess.run([cost, train], feed_dict={X:x_data, Y:y_data})\n",
    "    if step % 200 == 0:\n",
    "        print(step, cost_val)"
   ]
  },
  {
   "cell_type": "code",
   "execution_count": 6,
   "metadata": {},
   "outputs": [
    {
     "name": "stdout",
     "output_type": "stream",
     "text": [
      "\n",
      "Model:\n",
      " [[1.0544243e-05]\n",
      " [1.0987185e-03]\n",
      " [1.0292823e-01]\n",
      " [9.2289203e-01]\n",
      " [9.9919969e-01]\n",
      " [9.9999237e-01]\n",
      " [9.9999988e-01]] \n",
      "Correct:\n",
      "  [[0.]\n",
      " [0.]\n",
      " [0.]\n",
      " [1.]\n",
      " [1.]\n",
      " [1.]\n",
      " [1.]] \n",
      "Accuracy:\n",
      "  1.0\n"
     ]
    }
   ],
   "source": [
    "## testing (training set)\n",
    "\n",
    "h, c, a = sess.run([model, prediction, accuracy], feed_dict={X:x_data, Y:y_data})\n",
    "print(\"\\nModel:\\n\", h, \"\\nCorrect:\\n \", c, \"\\nAccuracy:\\n \", a)"
   ]
  },
  {
   "cell_type": "markdown",
   "metadata": {},
   "source": [
    "# Answer"
   ]
  },
  {
   "cell_type": "code",
   "execution_count": 7,
   "metadata": {},
   "outputs": [
    {
     "name": "stdout",
     "output_type": "stream",
     "text": [
      "0 th data는 1로 classified\n",
      "1 th data는 0으로 classified\n",
      "2 th data는 1로 classified\n"
     ]
    }
   ],
   "source": [
    "a=sess.run(model, feed_dict={X:[[9,9,9,9,9],[0,0,0,0,0],[10,10,10,10,10]]})\n",
    "\n",
    "for i in range(3): \n",
    "    if a[i]>0.5:\n",
    "        print (i,\"th data는 1로 classified\")\n",
    "    else:\n",
    "        print (i, \"th data는 0으로 classified\")\n"
   ]
  },
  {
   "cell_type": "code",
   "execution_count": 8,
   "metadata": {},
   "outputs": [
    {
     "name": "stdout",
     "output_type": "stream",
     "text": [
      "[[1.]\n",
      " [0.]\n",
      " [1.]]\n"
     ]
    }
   ],
   "source": [
    "b=sess.run(prediction, feed_dict={X:[[9,9,9,9,9],[0,0,0,0,0],[10,10,10,10,10]]})\n",
    "\n",
    "print(b)"
   ]
  }
 ],
 "metadata": {
  "kernelspec": {
   "display_name": "Python 3",
   "language": "python",
   "name": "python3"
  },
  "language_info": {
   "codemirror_mode": {
    "name": "ipython",
    "version": 3
   },
   "file_extension": ".py",
   "mimetype": "text/x-python",
   "name": "python",
   "nbconvert_exporter": "python",
   "pygments_lexer": "ipython3",
   "version": "3.6.7"
  }
 },
 "nbformat": 4,
 "nbformat_minor": 2
}
