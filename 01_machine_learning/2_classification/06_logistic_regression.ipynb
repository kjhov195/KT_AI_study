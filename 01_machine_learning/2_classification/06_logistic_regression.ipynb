{
 "cells": [
  {
   "cell_type": "code",
   "execution_count": 1,
   "metadata": {},
   "outputs": [],
   "source": [
    "import tensorflow as tf\n",
    "import numpy as np\n",
    "import pandas as pd"
   ]
  },
  {
   "cell_type": "markdown",
   "metadata": {},
   "source": [
    "# problem"
   ]
  },
  {
   "cell_type": "code",
   "execution_count": 2,
   "metadata": {},
   "outputs": [
    {
     "data": {
      "text/plain": [
       "'\\n- Outlook     : sunny=1, overcast=2, rain=3\\n- Temperature : hot=1  , mild=2    , cool=3\\n- Humidity    : high=1 , normal=2\\n- Wind        : weak=1 , strong=2\\n- Playball    : yes=1   , no=0\\n'"
      ]
     },
     "execution_count": 2,
     "metadata": {},
     "output_type": "execute_result"
    }
   ],
   "source": [
    "'''\n",
    "- Outlook     : sunny=1, overcast=2, rain=3\n",
    "- Temperature : hot=1  , mild=2    , cool=3\n",
    "- Humidity    : high=1 , normal=2\n",
    "- Wind        : weak=1 , strong=2\n",
    "- Playball    : yes=1   , no=0\n",
    "'''"
   ]
  },
  {
   "cell_type": "code",
   "execution_count": 3,
   "metadata": {},
   "outputs": [
    {
     "data": {
      "text/plain": [
       "'\\nxdata i: Day에 따른 outlook, temperature, humidity, wind 데이터를 입력. \\nex. xdata1: 1일차의 (outlook, temperature, humidity, wind) data\\n\\nydata i: Day에 따른 playball 데이터를 입력. \\nex. ydata1: 1일차의 playball data\\n'"
      ]
     },
     "execution_count": 3,
     "metadata": {},
     "output_type": "execute_result"
    }
   ],
   "source": [
    "'''\n",
    "xdata i: Day에 따른 outlook, temperature, humidity, wind 데이터를 입력. \n",
    "ex. xdata1: 1일차의 (outlook, temperature, humidity, wind) data\n",
    "\n",
    "ydata i: Day에 따른 playball 데이터를 입력. \n",
    "ex. ydata1: 1일차의 playball data\n",
    "'''"
   ]
  },
  {
   "cell_type": "code",
   "execution_count": 4,
   "metadata": {},
   "outputs": [],
   "source": [
    "xdata1=[1,1,1,1]\n",
    "xdata2=[1,1,1,2]\n",
    "xdata3=[2,1,1,1]\n",
    "xdata4=[3,2,1,1]\n",
    "xdata5=[3,3,2,1]\n",
    "xdata6=[3,3,2,2]\n",
    "xdata7=[2,3,2,1]\n",
    "xdata8=[1,2,1,1]\n",
    "xdata9=[1,3,2,1]\n",
    "xdata10=[3,2,2,2]\n",
    "xdata11=[1,2,2,2]\n",
    "xdata12=[2,2,1,2]\n",
    "xdata13=[2,1,2,1]\n",
    "xdata14=[3,2,1,2]\n",
    "\n",
    "ydata1= [0]\n",
    "ydata2= [0]\n",
    "ydata3= [1]\n",
    "ydata4= [1]\n",
    "ydata5= [1]\n",
    "ydata6= [0]\n",
    "ydata7= [1]\n",
    "ydata8= [0]\n",
    "ydata9= [1]\n",
    "ydata10=[1]\n",
    "ydata11=[1]\n",
    "ydata12=[1]\n",
    "ydata13=[1]\n",
    "ydata14=[0]"
   ]
  },
  {
   "cell_type": "code",
   "execution_count": 5,
   "metadata": {},
   "outputs": [
    {
     "name": "stdout",
     "output_type": "stream",
     "text": [
      "14 14\n"
     ]
    }
   ],
   "source": [
    "x_data = [xdata1, xdata2, xdata3, xdata4, xdata5, xdata6, xdata7, xdata8, xdata9, xdata10, xdata11, xdata12, xdata13, xdata14]\n",
    "y_data = [ydata1, ydata2, ydata3, ydata4, ydata5, ydata6, ydata7, ydata8, ydata9, ydata10, ydata11, ydata12, ydata13, ydata14]\n",
    "\n",
    "print(len(x_data), len(y_data))"
   ]
  },
  {
   "cell_type": "markdown",
   "metadata": {},
   "source": [
    "# solution"
   ]
  },
  {
   "cell_type": "code",
   "execution_count": 6,
   "metadata": {},
   "outputs": [],
   "source": [
    "X= tf.placeholder(tf.float32, shape=[None, 4])\n",
    "Y= tf.placeholder(tf.float32, shape=[None, 1])\n",
    "\n",
    "W= tf.Variable(tf.random_normal([4, 1]), name='weight')\n",
    "b= tf.Variable(tf.random_normal([1]), name='bias')\n",
    "\n",
    "model= tf.add(tf.matmul(X, W), b) #linear regression\n",
    "model= tf.sigmoid(model) # Logistic(sigmoid)\n",
    "\n",
    "cost= tf.reduce_mean((-1)*Y*tf.log(model)+(-1)*(1-Y)*tf.log(1-model))\n",
    "\n",
    "train=tf.train.GradientDescentOptimizer(learning_rate=1).minimize(cost)\n",
    "\n",
    "prediction = tf.cast(model>0.5, dtype=tf.float32)\n",
    "accuracy= tf.reduce_mean(tf.cast(tf.equal(prediction, Y), dtype=tf.float32))"
   ]
  },
  {
   "cell_type": "code",
   "execution_count": 7,
   "metadata": {
    "scrolled": true
   },
   "outputs": [
    {
     "name": "stdout",
     "output_type": "stream",
     "text": [
      "0 0.94928044\n",
      "200 0.489414\n",
      "400 0.48241526\n",
      "600 0.48217085\n",
      "800 0.4821433\n",
      "1000 0.4821384\n",
      "1200 0.48213777\n",
      "1400 0.48213765\n",
      "1600 0.48213765\n",
      "1800 0.48213765\n",
      "2000 0.48213765\n",
      "2200 0.48213765\n",
      "2400 0.48213765\n",
      "2600 0.48213765\n",
      "2800 0.48213765\n",
      "3000 0.48213765\n",
      "3200 0.48213765\n",
      "3400 0.48213765\n",
      "3600 0.48213765\n",
      "3800 0.48213765\n",
      "4000 0.48213765\n",
      "4200 0.48213765\n",
      "4400 0.48213765\n",
      "4600 0.48213765\n",
      "4800 0.48213765\n",
      "5000 0.48213765\n",
      "5200 0.48213765\n",
      "5400 0.48213765\n",
      "5600 0.48213765\n",
      "5800 0.48213765\n",
      "6000 0.48213765\n",
      "6200 0.48213765\n",
      "6400 0.48213765\n",
      "6600 0.48213765\n",
      "6800 0.48213765\n",
      "7000 0.48213765\n",
      "7200 0.48213765\n",
      "7400 0.48213765\n",
      "7600 0.48213765\n",
      "7800 0.48213765\n",
      "8000 0.48213765\n",
      "8200 0.48213765\n",
      "8400 0.48213765\n",
      "8600 0.48213765\n",
      "8800 0.48213765\n",
      "9000 0.48213765\n",
      "9200 0.48213765\n",
      "9400 0.48213765\n",
      "9600 0.48213765\n",
      "9800 0.48213765\n",
      "10000 0.48213765\n",
      "10200 0.48213765\n",
      "10400 0.48213765\n",
      "10600 0.48213765\n",
      "10800 0.48213765\n",
      "11000 0.48213765\n",
      "11200 0.48213765\n",
      "11400 0.48213765\n",
      "11600 0.48213765\n",
      "11800 0.48213765\n",
      "12000 0.48213765\n",
      "12200 0.48213765\n",
      "12400 0.48213765\n",
      "12600 0.48213765\n",
      "12800 0.48213765\n",
      "13000 0.48213765\n",
      "13200 0.48213765\n",
      "13400 0.48213765\n",
      "13600 0.48213765\n",
      "13800 0.48213765\n",
      "14000 0.48213765\n",
      "14200 0.48213765\n",
      "14400 0.48213765\n",
      "14600 0.48213765\n",
      "14800 0.48213765\n",
      "15000 0.48213765\n",
      "15200 0.48213765\n",
      "15400 0.48213765\n",
      "15600 0.48213765\n",
      "15800 0.48213765\n",
      "16000 0.48213765\n",
      "16200 0.48213765\n",
      "16400 0.48213765\n",
      "16600 0.48213765\n",
      "16800 0.48213765\n",
      "17000 0.48213765\n",
      "17200 0.48213765\n",
      "17400 0.48213765\n",
      "17600 0.48213765\n",
      "17800 0.48213765\n",
      "18000 0.48213765\n",
      "18200 0.48213765\n",
      "18400 0.48213765\n",
      "18600 0.48213765\n",
      "18800 0.48213765\n",
      "19000 0.48213765\n",
      "19200 0.48213765\n",
      "19400 0.48213765\n",
      "19600 0.48213765\n",
      "19800 0.48213765\n",
      "20000 0.48213765\n"
     ]
    }
   ],
   "source": [
    "sess= tf.Session()\n",
    "sess.run(tf.global_variables_initializer())\n",
    "\n",
    "for step in range(20001):\n",
    "    cost_val, _=sess.run([cost, train], feed_dict={X:x_data, Y:y_data})\n",
    "    if step % 200 == 0:\n",
    "        print(step, cost_val)"
   ]
  },
  {
   "cell_type": "code",
   "execution_count": 8,
   "metadata": {},
   "outputs": [
    {
     "name": "stdout",
     "output_type": "stream",
     "text": [
      "\n",
      "Model:\n",
      " [[0.5269925 ]\n",
      " [0.16441058]\n",
      " [0.6853494 ]\n",
      " [0.63798934]\n",
      " [0.9350827 ]\n",
      " [0.71782035]\n",
      " [0.88049537]\n",
      " [0.3155856 ]\n",
      " [0.7903008 ]\n",
      " [0.86007154]\n",
      " [0.6165907 ]\n",
      " [0.13733672]\n",
      " [0.97728044]\n",
      " [0.23736188]] \n",
      "Correct:\n",
      "  [[1.]\n",
      " [0.]\n",
      " [1.]\n",
      " [1.]\n",
      " [1.]\n",
      " [1.]\n",
      " [1.]\n",
      " [0.]\n",
      " [1.]\n",
      " [1.]\n",
      " [1.]\n",
      " [0.]\n",
      " [1.]\n",
      " [0.]] \n",
      "Accuracy:\n",
      "  0.78571427\n"
     ]
    }
   ],
   "source": [
    "## testing (training set)\n",
    "h, c, a = sess.run([model, prediction, accuracy], feed_dict={X:x_data, Y:y_data})\n",
    "print(\"\\nModel:\\n\", h, \"\\nCorrect:\\n \", c, \"\\nAccuracy:\\n \", a)"
   ]
  },
  {
   "cell_type": "markdown",
   "metadata": {},
   "source": [
    "# Answer"
   ]
  },
  {
   "cell_type": "code",
   "execution_count": 9,
   "metadata": {},
   "outputs": [
    {
     "name": "stdout",
     "output_type": "stream",
     "text": [
      "(sunny, hot, normal, strong) data는 playball=yes 로 classified\n"
     ]
    }
   ],
   "source": [
    "a=sess.run(model, feed_dict={X:[[1,1,2,2]]})\n",
    "\n",
    "if a>0.5:\n",
    "    print (\"(sunny, hot, normal, strong) data는 playball=yes 로 classified\")\n",
    "else:\n",
    "    print (\"(sunny, hot, normal, strong) data는 playball=no 로 classified\")"
   ]
  }
 ],
 "metadata": {
  "kernelspec": {
   "display_name": "Python 3",
   "language": "python",
   "name": "python3"
  },
  "language_info": {
   "codemirror_mode": {
    "name": "ipython",
    "version": 3
   },
   "file_extension": ".py",
   "mimetype": "text/x-python",
   "name": "python",
   "nbconvert_exporter": "python",
   "pygments_lexer": "ipython3",
   "version": "3.6.7"
  }
 },
 "nbformat": 4,
 "nbformat_minor": 2
}
