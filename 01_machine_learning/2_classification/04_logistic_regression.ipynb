{
 "cells": [
  {
   "cell_type": "code",
   "execution_count": 1,
   "metadata": {
    "scrolled": true
   },
   "outputs": [],
   "source": [
    "import tensorflow as tf\n",
    "import numpy as np\n",
    "import pandas as pd"
   ]
  },
  {
   "cell_type": "markdown",
   "metadata": {},
   "source": [
    "# problem"
   ]
  },
  {
   "cell_type": "code",
   "execution_count": 3,
   "metadata": {},
   "outputs": [],
   "source": [
    "x_data = [[1,2], [2,3], [3,1], [4,3], [5,3], [6,2]]\n",
    "y_data = [[0], [0], [0], [1], [1], [1]]"
   ]
  },
  {
   "cell_type": "markdown",
   "metadata": {},
   "source": [
    "# solution"
   ]
  },
  {
   "cell_type": "code",
   "execution_count": 5,
   "metadata": {},
   "outputs": [],
   "source": [
    "X= tf.placeholder(tf.float32, shape=[None, 2])\n",
    "Y= tf.placeholder(tf.float32, shape=[None, 1])\n",
    "\n",
    "W= tf.Variable(tf.random_normal([2, 1]), name='weight')\n",
    "b= tf.Variable(tf.random_normal([1]), name='bias')\n",
    "\n",
    "model= tf.add(tf.matmul(X, W), b) #linear regression\n",
    "model= tf.sigmoid(model) # Logistic(sigmoid)\n",
    "\n",
    "cost= tf.reduce_mean((-1)*Y*tf.log(model)+(-1)*(1-Y)*tf.log(1-model))\n",
    "\n",
    "train=tf.train.GradientDescentOptimizer(learning_rate=1).minimize(cost)\n",
    "\n",
    "prediction = tf.cast(model>0.5, dtype=tf.float32)\n",
    "accuracy= tf.reduce_mean(tf.cast(tf.equal(prediction, Y), dtype=tf.float32))"
   ]
  },
  {
   "cell_type": "code",
   "execution_count": 6,
   "metadata": {},
   "outputs": [
    {
     "name": "stdout",
     "output_type": "stream",
     "text": [
      "0 1.1025459\n",
      "200 0.07485085\n",
      "400 0.043460656\n",
      "600 0.030772224\n",
      "800 0.023859663\n",
      "1000 0.01949769\n",
      "1200 0.016490286\n",
      "1400 0.014289646\n",
      "1600 0.012608803\n",
      "1800 0.011282611\n",
      "2000 0.010209366\n"
     ]
    }
   ],
   "source": [
    "sess= tf.Session()\n",
    "sess.run(tf.global_variables_initializer())\n",
    "\n",
    "for step in range(2001):\n",
    "    cost_val, _=sess.run([cost, train], feed_dict={X:x_data, Y:y_data})\n",
    "    if step % 200 == 0:\n",
    "        print(step, cost_val)"
   ]
  },
  {
   "cell_type": "code",
   "execution_count": 7,
   "metadata": {},
   "outputs": [
    {
     "name": "stdout",
     "output_type": "stream",
     "text": [
      "\n",
      "Model:\n",
      " [[5.3173459e-05]\n",
      " [1.6691690e-02]\n",
      " [1.9971745e-02]\n",
      " [9.7665316e-01]\n",
      " [9.9951875e-01]\n",
      " [9.9993765e-01]] \n",
      "Correct:\n",
      "  [[0.]\n",
      " [0.]\n",
      " [0.]\n",
      " [1.]\n",
      " [1.]\n",
      " [1.]] \n",
      "Accuracy:\n",
      "  1.0\n"
     ]
    }
   ],
   "source": [
    "## testing (training set)\n",
    "\n",
    "h, c, a = sess.run([model, prediction, accuracy], feed_dict={X:x_data, Y:y_data})\n",
    "print(\"\\nModel:\\n\", h, \"\\nCorrect:\\n \", c, \"\\nAccuracy:\\n \", a)"
   ]
  }
 ],
 "metadata": {
  "kernelspec": {
   "display_name": "Python 3",
   "language": "python",
   "name": "python3"
  },
  "language_info": {
   "codemirror_mode": {
    "name": "ipython",
    "version": 3
   },
   "file_extension": ".py",
   "mimetype": "text/x-python",
   "name": "python",
   "nbconvert_exporter": "python",
   "pygments_lexer": "ipython3",
   "version": "3.6.7"
  }
 },
 "nbformat": 4,
 "nbformat_minor": 2
}
