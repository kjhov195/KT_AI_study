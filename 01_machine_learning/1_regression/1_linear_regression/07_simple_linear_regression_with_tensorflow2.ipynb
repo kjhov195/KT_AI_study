{
 "cells": [
  {
   "cell_type": "code",
   "execution_count": 1,
   "metadata": {},
   "outputs": [],
   "source": [
    "import tensorflow as tf\n",
    "import numpy as np\n",
    "import pandas as pd"
   ]
  },
  {
   "cell_type": "markdown",
   "metadata": {},
   "source": [
    "# problem_1"
   ]
  },
  {
   "cell_type": "code",
   "execution_count": 2,
   "metadata": {},
   "outputs": [],
   "source": [
    "x = [1, 2 ,3]\n",
    "y = [1, 2 ,3]"
   ]
  },
  {
   "cell_type": "markdown",
   "metadata": {},
   "source": [
    "### solution"
   ]
  },
  {
   "cell_type": "code",
   "execution_count": 3,
   "metadata": {},
   "outputs": [],
   "source": [
    "b0= tf.Variable(tf.random_normal([1]), name='weight')\n",
    "b1= tf.Variable(tf.random_normal([1]), name='bias')\n",
    "\n",
    "model= b0+x*b1\n",
    "cost= tf.reduce_mean(tf.square(model-y))"
   ]
  },
  {
   "cell_type": "code",
   "execution_count": 4,
   "metadata": {
    "scrolled": true
   },
   "outputs": [
    {
     "name": "stdout",
     "output_type": "stream",
     "text": [
      "0 0.2523712 [0.49504077] [0.57202137]\n",
      "200 0.017955229 [0.3537819] [0.8443707]\n",
      "400 0.006856172 [0.21861565] [0.9038306]\n",
      "600 0.0026180309 [0.1350913] [0.9405731]\n",
      "800 0.0009996863 [0.08347809] [0.9632779]\n",
      "1000 0.00038172738 [0.0515844] [0.9773079]\n",
      "1200 0.00014576211 [0.03187597] [0.9859777]\n",
      "1400 5.5658962e-05 [0.0196973] [0.99133515]\n",
      "1600 2.1252663e-05 [0.0121717] [0.99464566]\n",
      "1800 8.115684e-06 [0.0075214] [0.9966913]\n",
      "2000 3.0989522e-06 [0.00464782] [0.99795544]\n"
     ]
    }
   ],
   "source": [
    "train=tf.train.GradientDescentOptimizer(learning_rate=0.01).minimize(cost)\n",
    "\n",
    "sess= tf.Session()\n",
    "sess.run(tf.global_variables_initializer())\n",
    "for step in range(2001):\n",
    "    sess.run(train)\n",
    "    if step % 200 == 0:\n",
    "        print(step, sess.run(cost), sess.run(b0), sess.run(b1))"
   ]
  },
  {
   "cell_type": "markdown",
   "metadata": {},
   "source": [
    "### solution2"
   ]
  },
  {
   "cell_type": "code",
   "execution_count": 5,
   "metadata": {},
   "outputs": [],
   "source": [
    "x = [[1], [2], [3]]\n",
    "y = [[1], [2], [3]]"
   ]
  },
  {
   "cell_type": "code",
   "execution_count": 6,
   "metadata": {},
   "outputs": [],
   "source": [
    "X = tf.placeholder(tf.float32, shape = [None, 1])\n",
    "Y = tf.placeholder(tf.float32, shape = [None, 1])\n",
    "\n",
    "beta0 = tf.Variable(tf.random_normal([1]), name = 'beta0')\n",
    "beta1 = tf.Variable(tf.random_normal([1, 1]), name = 'beta1')\n",
    "\n",
    "model = beta0 + beta1*X\n",
    "cost = tf.reduce_mean(tf.square(model-Y))\n",
    "\n",
    "train = tf.train.GradientDescentOptimizer(learning_rate = 0.01).minimize(cost)"
   ]
  },
  {
   "cell_type": "code",
   "execution_count": 7,
   "metadata": {},
   "outputs": [
    {
     "name": "stdout",
     "output_type": "stream",
     "text": [
      "step:0\tcost: 0.198144\tbeta0: 0.276214\tbeta1: 1.059117\n",
      "step:200\tcost: 0.002419\tbeta0: 0.129545\tbeta1: 0.943013\n",
      "step:400\tcost: 0.000924\tbeta0: 0.080051\tbeta1: 0.964785\n",
      "step:600\tcost: 0.000353\tbeta0: 0.049467\tbeta1: 0.978240\n",
      "step:800\tcost: 0.000135\tbeta0: 0.030567\tbeta1: 0.986553\n",
      "step:1000\tcost: 0.000051\tbeta0: 0.018889\tbeta1: 0.991691\n",
      "step:1200\tcost: 0.000020\tbeta0: 0.011672\tbeta1: 0.994865\n",
      "step:1400\tcost: 0.000007\tbeta0: 0.007213\tbeta1: 0.996827\n",
      "step:1600\tcost: 0.000003\tbeta0: 0.004457\tbeta1: 0.998039\n",
      "step:1800\tcost: 0.000001\tbeta0: 0.002754\tbeta1: 0.998788\n",
      "step:2000\tcost: 0.000000\tbeta0: 0.001702\tbeta1: 0.999251\n",
      "step:2200\tcost: 0.000000\tbeta0: 0.001052\tbeta1: 0.999537\n",
      "step:2400\tcost: 0.000000\tbeta0: 0.000651\tbeta1: 0.999714\n",
      "step:2600\tcost: 0.000000\tbeta0: 0.000402\tbeta1: 0.999823\n",
      "step:2800\tcost: 0.000000\tbeta0: 0.000249\tbeta1: 0.999890\n",
      "step:3000\tcost: 0.000000\tbeta0: 0.000154\tbeta1: 0.999932\n",
      "step:3200\tcost: 0.000000\tbeta0: 0.000096\tbeta1: 0.999958\n",
      "step:3400\tcost: 0.000000\tbeta0: 0.000060\tbeta1: 0.999974\n",
      "step:3600\tcost: 0.000000\tbeta0: 0.000037\tbeta1: 0.999984\n",
      "step:3800\tcost: 0.000000\tbeta0: 0.000023\tbeta1: 0.999990\n"
     ]
    }
   ],
   "source": [
    "sess = tf.Session()\n",
    "sess.run(tf.global_variables_initializer())\n",
    "\n",
    "for step in range(4000):\n",
    "    a, b, c, d = sess.run([cost, beta0, beta1, train], feed_dict = {X:x, Y:y})\n",
    "    if step%200 == 0:\n",
    "        print(\"step:%d\\tcost: %f\\tbeta0: %f\\tbeta1: %f\"%(step, a, b, c))"
   ]
  },
  {
   "cell_type": "markdown",
   "metadata": {},
   "source": [
    "# problem_2"
   ]
  },
  {
   "cell_type": "markdown",
   "metadata": {},
   "source": [
    "#### y = 2x1 - x2"
   ]
  },
  {
   "cell_type": "code",
   "execution_count": 8,
   "metadata": {},
   "outputs": [],
   "source": [
    "x = [[1,2], [2,3], [3,4], [5,10]]\n",
    "y = [[0], [1] ,[2], [0]]"
   ]
  },
  {
   "cell_type": "markdown",
   "metadata": {},
   "source": [
    "### solution"
   ]
  },
  {
   "cell_type": "code",
   "execution_count": 9,
   "metadata": {},
   "outputs": [],
   "source": [
    "X= tf.placeholder(tf.float32, shape=[None, 2])\n",
    "Y= tf.placeholder(tf.float32, shape=[None, 1])\n",
    "\n",
    "W= tf.Variable(tf.random_normal([2, 1]), name='weight')\n",
    "b= tf.Variable(tf.random_normal([1]), name='bias')\n",
    "\n",
    "model= tf.add(tf.matmul(X, W), b)\n",
    "cost= tf.reduce_mean(tf.square(model-Y))\n",
    "\n",
    "train=tf.train.GradientDescentOptimizer(learning_rate=0.01).minimize(cost)"
   ]
  },
  {
   "cell_type": "code",
   "execution_count": 10,
   "metadata": {},
   "outputs": [
    {
     "name": "stdout",
     "output_type": "stream",
     "text": [
      "0 31.329363 [[0.00047937]\n",
      " [0.24219352]] [-0.03119866]\n",
      "200 0.19084863 [[ 0.90695995]\n",
      " [-0.47873223]] [0.50534445]\n",
      "400 0.07379228 [[ 1.3191836]\n",
      " [-0.6980692]] [0.46584845]\n",
      "600 0.034122452 [[ 1.5472789 ]\n",
      " [-0.80474484]] [0.34643015]\n",
      "800 0.016108826 [[ 1.6920007]\n",
      " [-0.8684165]] [0.24401666]\n",
      "1000 0.0076210466 [[ 1.7888796]\n",
      " [-0.9100838]] [0.1691138]\n",
      "1200 0.0036062985 [[ 1.8549348 ]\n",
      " [-0.93827814]] [0.11660957]\n",
      "1400 0.0017065519 [[ 1.9002451]\n",
      " [-0.9575701]] [0.08027679]\n",
      "1600 0.00080755726 [[ 1.931386 ]\n",
      " [-0.9708185]] [0.05523618]\n",
      "1800 0.00038214956 [[ 1.9528021]\n",
      " [-0.9799275]] [0.03800013]\n",
      "2000 0.0001808397 [[ 1.9675322 ]\n",
      " [-0.98619205]] [0.02614126]\n"
     ]
    }
   ],
   "source": [
    "sess= tf.Session()\n",
    "sess.run(tf.global_variables_initializer())\n",
    "\n",
    "for step in range(2001):\n",
    "    cost_val, w_value, b_value, _=sess.run([cost, W, b, train], feed_dict={X:x, Y:y})\n",
    "    if step % 200 == 0:\n",
    "        print(step, cost_val, w_value, b_value)"
   ]
  },
  {
   "cell_type": "code",
   "execution_count": 11,
   "metadata": {},
   "outputs": [
    {
     "name": "stdout",
     "output_type": "stream",
     "text": [
      "[[3.9515016]]\n"
     ]
    }
   ],
   "source": [
    "## testing (test-sets)\n",
    "print(sess.run(model, feed_dict={X:[[4, 4]]}))"
   ]
  }
 ],
 "metadata": {
  "kernelspec": {
   "display_name": "Python 3",
   "language": "python",
   "name": "python3"
  },
  "language_info": {
   "codemirror_mode": {
    "name": "ipython",
    "version": 3
   },
   "file_extension": ".py",
   "mimetype": "text/x-python",
   "name": "python",
   "nbconvert_exporter": "python",
   "pygments_lexer": "ipython3",
   "version": "3.6.7"
  }
 },
 "nbformat": 4,
 "nbformat_minor": 2
}
